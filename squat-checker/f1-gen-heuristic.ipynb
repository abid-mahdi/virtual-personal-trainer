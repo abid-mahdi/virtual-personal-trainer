{
 "cells": [
  {
   "cell_type": "markdown",
   "id": "abeb594d",
   "metadata": {},
   "source": [
    "# Heuristic (Geometric) Analysis F1 Score Generator"
   ]
  },
  {
   "cell_type": "markdown",
   "id": "e0b3b18c",
   "metadata": {},
   "source": [
    "Author: Abid Mahdi, University of Southampton. 28/03/2022. am14g19@soton.ac.uk.\n",
    "\n",
    "This notebook tests how good a heuristic analysis model is by generating an F1 score for a dataset of squats. \n",
    "\n",
    "Input: tuples of the squat videos and trained frame analysis models.\n",
    "\n",
    "## TOC:\n",
    "0. [Import Libraries & Setup](#0.-Import-Libraries-&-Setup)\n",
    "1. [Setup Training & Testing Sets](#1.-Setup-Training-&-Testing-Sets)\n",
    "2. [Evaluation](#2.-Evaluation)"
   ]
  },
  {
   "cell_type": "markdown",
   "id": "ac03b8ae",
   "metadata": {},
   "source": [
    "# 0. Import Libraries & Setup"
   ]
  },
  {
   "cell_type": "code",
   "execution_count": 1,
   "id": "8d908534",
   "metadata": {},
   "outputs": [],
   "source": [
    "import numpy as np\n",
    "import pandas as pd\n",
    "import matplotlib.pyplot as plt\n",
    "\n",
    "import cv2\n",
    "import mediapipe as mp\n",
    "\n",
    "import math\n",
    "\n",
    "import os\n",
    "import pickle\n",
    "\n",
    "from joblib import load\n",
    "\n",
    "import sklearn.metrics as metrics\n",
    "from sklearn.metrics import accuracy_score, recall_score, precision_score, f1_score\n",
    "from sklearn.metrics import classification_report, ConfusionMatrixDisplay, confusion_matrix\n",
    "from sklearn.model_selection import train_test_split"
   ]
  },
  {
   "cell_type": "code",
   "execution_count": 2,
   "id": "065f73ad",
   "metadata": {},
   "outputs": [],
   "source": [
    "# Get the angle between 3 keypoint's coordinates\n",
    "# INPUT: frame (dictonary storing the coordinates of all the keypoints), the keypoint numbers\n",
    "# OUTPUT: angle as float\n",
    "def get_angle(frame, keypoint_1, keypoint_2, keypoint_3):\n",
    "    a = np.array([frame['x'+str(keypoint_1)], frame['y'+str(keypoint_1)]]) # First\n",
    "    b = np.array([frame['x'+str(keypoint_2)], frame['y'+str(keypoint_2)]]) # Mid\n",
    "    c = np.array([frame['x'+str(keypoint_3)], frame['y'+str(keypoint_3)]]) # End\n",
    "    \n",
    "    ba = a - b\n",
    "    bc = c - b\n",
    "\n",
    "    cosine_angle = np.dot(ba, bc) / (np.linalg.norm(ba) * np.linalg.norm(bc))\n",
    "    angle = math.degrees(np.arccos(cosine_angle))\n",
    "    \n",
    "    if angle > 180.0:\n",
    "        angle = 360 - angle\n",
    "        \n",
    "    return angle"
   ]
  },
  {
   "cell_type": "code",
   "execution_count": 3,
   "id": "55838d21",
   "metadata": {},
   "outputs": [],
   "source": [
    "all_videos = pickle.load(open('all-squats.dump', 'rb'))"
   ]
  },
  {
   "cell_type": "code",
   "execution_count": 4,
   "id": "1520d212",
   "metadata": {},
   "outputs": [
    {
     "data": {
      "text/plain": [
       "90"
      ]
     },
     "execution_count": 4,
     "metadata": {},
     "output_type": "execute_result"
    }
   ],
   "source": [
    "len(all_videos)"
   ]
  },
  {
   "cell_type": "markdown",
   "id": "f2bf6f5c",
   "metadata": {},
   "source": [
    "# 1. Setup Training & Testing Sets"
   ]
  },
  {
   "cell_type": "code",
   "execution_count": 5,
   "id": "118044f9",
   "metadata": {},
   "outputs": [],
   "source": [
    "X = []\n",
    "y = []\n",
    "\n",
    "for i in all_videos:\n",
    "    X.append(i[1])\n",
    "    y.append(i[0])"
   ]
  },
  {
   "cell_type": "code",
   "execution_count": 6,
   "id": "279c0948",
   "metadata": {},
   "outputs": [
    {
     "name": "stdout",
     "output_type": "stream",
     "text": [
      "30 30\n"
     ]
    }
   ],
   "source": [
    "_, X_test, _, y_test = train_test_split(X, y, test_size=0.33, random_state=42)\n",
    "print(len(X_test), len(y_test))"
   ]
  },
  {
   "cell_type": "markdown",
   "id": "8e2d7f94",
   "metadata": {},
   "source": [
    "The test set corresponds to the training set generated in the video-to-frames notebook used to find trends in the data."
   ]
  },
  {
   "cell_type": "code",
   "execution_count": 7,
   "id": "5caddd0f",
   "metadata": {},
   "outputs": [
    {
     "data": {
      "text/plain": [
       "['leaning',\n",
       " 'good',\n",
       " 'leaning',\n",
       " 'parallel',\n",
       " 'good',\n",
       " 'good',\n",
       " 'leaning',\n",
       " 'parallel',\n",
       " 'good',\n",
       " 'leaning',\n",
       " 'parallel',\n",
       " 'leaning',\n",
       " 'leaning',\n",
       " 'parallel',\n",
       " 'good',\n",
       " 'good',\n",
       " 'good',\n",
       " 'good',\n",
       " 'leaning',\n",
       " 'leaning',\n",
       " 'parallel',\n",
       " 'parallel',\n",
       " 'parallel',\n",
       " 'good',\n",
       " 'leaning',\n",
       " 'good',\n",
       " 'parallel',\n",
       " 'parallel',\n",
       " 'good',\n",
       " 'parallel']"
      ]
     },
     "execution_count": 7,
     "metadata": {},
     "output_type": "execute_result"
    }
   ],
   "source": [
    "y_test # A list of the labels"
   ]
  },
  {
   "cell_type": "markdown",
   "id": "4949ac20",
   "metadata": {},
   "source": [
    "# 2. Evaluation"
   ]
  },
  {
   "cell_type": "code",
   "execution_count": 8,
   "id": "7d98ec1a",
   "metadata": {},
   "outputs": [],
   "source": [
    "labels= ['good', 'leaning', 'parallel']\n",
    "\n",
    "def evaluate_model(model_name, prediction, display_matrix=False):\n",
    "    acc = metrics.accuracy_score(y_test, prediction)\n",
    "    f1 = f1_score(y_test, prediction, average='micro')\n",
    "    precision = precision_score(y_test, prediction, average='macro')\n",
    "    recall = recall_score(y_test, prediction, average='macro')\n",
    "\n",
    "    model_metrics = {'Classifier': model_name, \n",
    "                     'Accuracy': acc, \n",
    "                     'Precision': precision, \n",
    "                     'Recall': recall,\n",
    "                     'F1 Score': f1}\n",
    "\n",
    "    if display_matrix:\n",
    "        cm = confusion_matrix(y_test, prediction, labels=labels)\n",
    "        disp = ConfusionMatrixDisplay(confusion_matrix=cm, display_labels=labels)\n",
    "        disp.plot()\n",
    "        plt.title(model_name)\n",
    "        plt.show()\n",
    "\n",
    "    return model_metrics"
   ]
  },
  {
   "cell_type": "code",
   "execution_count": 9,
   "id": "5eec6453",
   "metadata": {},
   "outputs": [],
   "source": [
    "# Function to search through all the frames in the video and label whole video\n",
    "# INPUT: list of frames with the coordinates of the keypoints (landmarks) in each frame and the trained model\n",
    "# OUTPUT: string of the label outputted by the trained model\n",
    "def label_video(frames):\n",
    "    # By default, the video is labelled as good until a frame with a mistake is found\n",
    "    label = 'parallel'\n",
    "    \n",
    "    for f in frames:\n",
    "        # If a frame with a mistake is found\n",
    "        if round(f['coordinates']['y'+str(23)], 2) == round(f['coordinates']['y'+str(25)], 2):\n",
    "            label = 'good'\n",
    "        elif get_angle(f['coordinates'], 11, 23, 25) < 35:\n",
    "            return 'leaning'\n",
    "        \n",
    "    return label"
   ]
  },
  {
   "cell_type": "markdown",
   "id": "1ff0b729",
   "metadata": {},
   "source": [
    "The if statements are based on the data visualisation."
   ]
  },
  {
   "cell_type": "code",
   "execution_count": 10,
   "id": "f498690d",
   "metadata": {},
   "outputs": [],
   "source": [
    "y_pred = []\n",
    "\n",
    "# Make predictions and populate y_pred\n",
    "for video in X_test:\n",
    "    y_pred.append(label_video(video))"
   ]
  },
  {
   "cell_type": "code",
   "execution_count": 11,
   "id": "941b8d40",
   "metadata": {},
   "outputs": [
    {
     "data": {
      "text/plain": [
       "['leaning',\n",
       " 'good',\n",
       " 'leaning',\n",
       " 'parallel',\n",
       " 'leaning',\n",
       " 'parallel',\n",
       " 'leaning',\n",
       " 'parallel',\n",
       " 'parallel',\n",
       " 'leaning',\n",
       " 'parallel',\n",
       " 'leaning',\n",
       " 'leaning',\n",
       " 'parallel',\n",
       " 'parallel',\n",
       " 'good',\n",
       " 'parallel',\n",
       " 'good',\n",
       " 'leaning',\n",
       " 'leaning',\n",
       " 'parallel',\n",
       " 'parallel',\n",
       " 'parallel',\n",
       " 'parallel',\n",
       " 'leaning',\n",
       " 'good',\n",
       " 'parallel',\n",
       " 'parallel',\n",
       " 'good',\n",
       " 'parallel']"
      ]
     },
     "execution_count": 11,
     "metadata": {},
     "output_type": "execute_result"
    }
   ],
   "source": [
    "y_pred"
   ]
  },
  {
   "cell_type": "code",
   "execution_count": 12,
   "id": "180e5401",
   "metadata": {},
   "outputs": [
    {
     "data": {
      "image/png": "[encoded data removed]",
      "text/plain": [
       "<Figure size 432x288 with 2 Axes>"
      ]
     },
     "metadata": {
      "needs_background": "light"
     },
     "output_type": "display_data"
    },
    {
     "data": {
      "text/plain": [
       "{'Classifier': 'Heuristic Model',\n",
       " 'Accuracy': 0.8,\n",
       " 'Precision': 0.8555555555555555,\n",
       " 'Recall': 0.8181818181818182,\n",
       " 'F1 Score': 0.8000000000000002}"
      ]
     },
     "execution_count": 12,
     "metadata": {},
     "output_type": "execute_result"
    }
   ],
   "source": [
    "evaluate_model('Heuristic Model', y_pred, True)"
   ]
  },
  {
   "cell_type": "markdown",
   "id": "efb80f8b",
   "metadata": {},
   "source": [
    "The model does ok, but it looks like there is some confusion in labelling good squats."
   ]
  },
  {
   "cell_type": "code",
   "execution_count": 13,
   "id": "627736eb",
   "metadata": {},
   "outputs": [
    {
     "name": "stdout",
     "output_type": "stream",
     "text": [
      "              precision    recall  f1-score   support\n",
      "\n",
      "        good       1.00      0.45      0.62        11\n",
      "     leaning       0.90      1.00      0.95         9\n",
      "    parallel       0.67      1.00      0.80        10\n",
      "\n",
      "    accuracy                           0.80        30\n",
      "   macro avg       0.86      0.82      0.79        30\n",
      "weighted avg       0.86      0.80      0.78        30\n",
      "\n"
     ]
    }
   ],
   "source": [
    "print(classification_report(y_test, y_pred, target_names=labels))"
   ]
  }
 ],
 "metadata": {
  "kernelspec": {
   "display_name": "Python 3",
   "language": "python",
   "name": "python3"
  },
  "language_info": {
   "codemirror_mode": {
    "name": "ipython",
    "version": 3
   },
   "file_extension": ".py",
   "mimetype": "text/x-python",
   "name": "python",
   "nbconvert_exporter": "python",
   "pygments_lexer": "ipython3",
   "version": "3.8.8"
  }
 },
 "nbformat": 4,
 "nbformat_minor": 5
}
