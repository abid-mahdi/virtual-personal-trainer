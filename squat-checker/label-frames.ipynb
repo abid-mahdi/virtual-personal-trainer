{
 "cells": [
  {
   "cell_type": "markdown",
   "id": "0879b8ef",
   "metadata": {},
   "source": [
    "# Label Frames & Train Frame Classifier"
   ]
  },
  {
   "cell_type": "markdown",
   "id": "f19aa975",
   "metadata": {},
   "source": [
    "Author: Abid Mahdi, University of Southampton. 28/03/2022. am14g19@soton.ac.uk.\n",
    "\n",
    "This notebook allows you to label the individual frames in a video from which a classifier in the sklearn library can be trained.\n",
    "\n",
    "Notebook exports: labelled frames in a csv file and trained models in a joblib file.\n",
    "\n",
    "## TOC:\n",
    "0. [Import Libraries & Setup Helper Functions](#0.-Import-Libraries-&-Setup)\n",
    "1. [Labeller](#1.-Detect-Pose-&-Label)\n",
    "2. [Train & Evaluate Models](#2.-Train-&-Evaluate-Models)"
   ]
  },
  {
   "cell_type": "markdown",
   "id": "86ccf9c1",
   "metadata": {},
   "source": [
    "# 0. Import Libraries & Setup"
   ]
  },
  {
   "cell_type": "code",
   "execution_count": 2,
   "id": "48b42737",
   "metadata": {},
   "outputs": [],
   "source": [
    "folder_name = 'squat-videos'\n",
    "output_input_csv_filename = 'squat-labelled-frames.csv'"
   ]
  },
  {
   "cell_type": "code",
   "execution_count": 3,
   "id": "010d361e",
   "metadata": {},
   "outputs": [],
   "source": [
    "import numpy as np\n",
    "import pandas as pd\n",
    "import math\n",
    "import matplotlib.pyplot as plt\n",
    "\n",
    "import sklearn\n",
    "from sklearn.model_selection import train_test_split\n",
    "import sklearn.metrics as metrics\n",
    "from sklearn.metrics import accuracy_score, recall_score, precision_score ,f1_score\n",
    "from sklearn.metrics import classification_report, ConfusionMatrixDisplay, confusion_matrix\n",
    "\n",
    "from sklearn.linear_model import SGDClassifier, LogisticRegression\n",
    "from sklearn.ensemble import RandomForestClassifier, VotingClassifier\n",
    "from sklearn.svm import LinearSVC\n",
    "from sklearn.neighbors import KNeighborsClassifier\n",
    "from sklearn.naive_bayes import MultinomialNB, GaussianNB\n",
    "from sklearn.neural_network import MLPClassifier\n",
    "\n",
    "import pickle\n",
    "from joblib import dump, load\n",
    "\n",
    "import cv2\n",
    "import mediapipe as mp\n",
    "\n",
    "import os"
   ]
  },
  {
   "cell_type": "code",
   "execution_count": 3,
   "id": "ca58e968",
   "metadata": {},
   "outputs": [],
   "source": [
    "all_landmarks = [] # List of dictionaries storing all the landmarks\n",
    "\n",
    "def label_landmarks(landmarks, label):\n",
    "    unboxed_landmarks = {}\n",
    "    unboxed_landmarks['label'] = label # Label of the keypoint's coordinates\n",
    "    \n",
    "    # Store all the keypoint's x0,y0,z0...z32 coordinates in dictionary\n",
    "    for i in range(33):\n",
    "        unboxed_landmarks['x' + str(i)] = landmarks.landmark[i].x\n",
    "        unboxed_landmarks['y' + str(i)] = landmarks.landmark[i].y\n",
    "        unboxed_landmarks['z' + str(i)] = landmarks.landmark[i].z\n",
    "        \n",
    "    all_landmarks.append(unboxed_landmarks)"
   ]
  },
  {
   "cell_type": "markdown",
   "id": "eb79f384",
   "metadata": {},
   "source": [
    "# 1. Detect Pose & Label\n",
    "\n",
    "The code below is used to label frames in all the videos in a folder. First we find the training set and set aside the test set in the evaluation.\n",
    "\n",
    "- Press 'p' to label a frame as not being parallel\n",
    "- Press 'l' to label a frame as leaning forwards\n",
    "- Press 'g' to label a frame as being good"
   ]
  },
  {
   "cell_type": "code",
   "execution_count": null,
   "id": "6723fdcb",
   "metadata": {},
   "outputs": [],
   "source": [
    "mp_drawing = mp.solutions.drawing_utils\n",
    "mp_pose = mp.solutions.pose\n",
    "\n",
    "directory = os.fsencode(folder_name)\n",
    "\n",
    "all_videos = []\n",
    "\n",
    "for file in os.listdir(directory):\n",
    "    all_videos.append(os.fsdecode(file))\n",
    "    \n",
    "# Filenames of the videos we want to train the frame labeller on\n",
    "# The test set is in f1-gen-heuristic notebook, same seed is used so same train and test set is created\n",
    "train_videos, _, _, _ = train_test_split(all_videos, all_videos, test_size=0.33, random_state=42)\n",
    "\n",
    "exit = False\n",
    "\n",
    "for filename in train_videos:\n",
    "    cap = cv2.VideoCapture(folder_name + '/' + filename)\n",
    "    with mp_pose.Pose(min_detection_confidence=0.7, min_tracking_confidence=0.5) as pose:\n",
    "\n",
    "        while cap.isOpened():\n",
    "            ret, image = cap.read()\n",
    "\n",
    "            if ret == False:\n",
    "                break\n",
    "            \n",
    "            image = cv2.cvtColor(image, cv2.COLOR_BGR2RGB)\n",
    "            image.flags.writeable = False\n",
    "            results = pose.process(image)\n",
    "            image.flags.writeable = True\n",
    "            image = cv2.cvtColor(image, cv2.COLOR_RGB2BGR)\n",
    "\n",
    "            mp_drawing.draw_landmarks(image, results.pose_landmarks, mp_pose.POSE_CONNECTIONS)\n",
    "\n",
    "            cv2.rectangle(image, (0,0), (225, 100), (0,0,0), -1)\n",
    "\n",
    "            k = cv2.waitKey(1)\n",
    "            \n",
    "            if results.pose_landmarks is not None:      \n",
    "                # Press 'p' to label a squat not parallel\n",
    "                if k == 112:\n",
    "                    label_landmarks(results.pose_landmarks, 'parallel')\n",
    "                    cv2.putText(image, 'parallel', (60,60), cv2.FONT_HERSHEY_SIMPLEX, 2, (255,255,255), 2, cv2.LINE_AA)\n",
    "\n",
    "                # Press 'l' to label as a squat as leaning forwards\n",
    "                if k == 108:\n",
    "                    label_landmarks(results.pose_landmarks, 'leaning')\n",
    "                    cv2.putText(image, 'leaning', (60,60), cv2.FONT_HERSHEY_SIMPLEX, 2, (255,255,255), 2, cv2.LINE_AA)\n",
    "\n",
    "                # Press 'g' to label a squat as good\n",
    "                if k == 103:\n",
    "                    label_landmarks(results.pose_landmarks, 'good')\n",
    "                    cv2.putText(image, 'good', (60,60), cv2.FONT_HERSHEY_SIMPLEX, 2, (255,255,255), 2, cv2.LINE_AA)\n",
    "            \n",
    "            # Press ESC to quit\n",
    "            if k == 27:\n",
    "                exit = True\n",
    "                break\n",
    "\n",
    "            cv2.namedWindow('output', cv2.WINDOW_NORMAL) # Allows you to manually change the size of the window\n",
    "            cv2.imshow('output', image)\n",
    "\n",
    "        cap.release()\n",
    "        cv2.destroyAllWindows()\n",
    "        if exit == True:\n",
    "            break"
   ]
  },
  {
   "cell_type": "code",
   "execution_count": null,
   "id": "e1ea1fa7",
   "metadata": {},
   "outputs": [],
   "source": [
    "# Save the data in a csv\n",
    "landmarks_df = pd.DataFrame(all_landmarks)\n",
    "landmarks_df.to_csv(output_input_csv_filename, index=False)"
   ]
  },
  {
   "cell_type": "code",
   "execution_count": 4,
   "id": "784bd8c2",
   "metadata": {},
   "outputs": [
    {
     "data": {
      "text/html": [
       "<div>\n",
       "<style scoped>\n",
       "    .dataframe tbody tr th:only-of-type {\n",
       "        vertical-align: middle;\n",
       "    }\n",
       "\n",
       "    .dataframe tbody tr th {\n",
       "        vertical-align: top;\n",
       "    }\n",
       "\n",
       "    .dataframe thead th {\n",
       "        text-align: right;\n",
       "    }\n",
       "</style>\n",
       "<table border=\"1\" class=\"dataframe\">\n",
       "  <thead>\n",
       "    <tr style=\"text-align: right;\">\n",
       "      <th></th>\n",
       "      <th>label</th>\n",
       "      <th>x0</th>\n",
       "      <th>y0</th>\n",
       "      <th>z0</th>\n",
       "      <th>x1</th>\n",
       "      <th>y1</th>\n",
       "      <th>z1</th>\n",
       "      <th>x2</th>\n",
       "      <th>y2</th>\n",
       "      <th>z2</th>\n",
       "      <th>...</th>\n",
       "      <th>z29</th>\n",
       "      <th>x30</th>\n",
       "      <th>y30</th>\n",
       "      <th>z30</th>\n",
       "      <th>x31</th>\n",
       "      <th>y31</th>\n",
       "      <th>z31</th>\n",
       "      <th>x32</th>\n",
       "      <th>y32</th>\n",
       "      <th>z32</th>\n",
       "    </tr>\n",
       "  </thead>\n",
       "  <tbody>\n",
       "    <tr>\n",
       "      <th>0</th>\n",
       "      <td>parallel</td>\n",
       "      <td>0.302003</td>\n",
       "      <td>0.328756</td>\n",
       "      <td>-0.043625</td>\n",
       "      <td>0.310346</td>\n",
       "      <td>0.316614</td>\n",
       "      <td>-0.088935</td>\n",
       "      <td>0.314571</td>\n",
       "      <td>0.316048</td>\n",
       "      <td>-0.088872</td>\n",
       "      <td>...</td>\n",
       "      <td>-0.372342</td>\n",
       "      <td>0.566787</td>\n",
       "      <td>0.756253</td>\n",
       "      <td>0.403586</td>\n",
       "      <td>0.423825</td>\n",
       "      <td>0.803852</td>\n",
       "      <td>-0.449865</td>\n",
       "      <td>0.451938</td>\n",
       "      <td>0.764280</td>\n",
       "      <td>0.385692</td>\n",
       "    </tr>\n",
       "    <tr>\n",
       "      <th>1</th>\n",
       "      <td>parallel</td>\n",
       "      <td>0.302609</td>\n",
       "      <td>0.306816</td>\n",
       "      <td>-0.061167</td>\n",
       "      <td>0.311949</td>\n",
       "      <td>0.291499</td>\n",
       "      <td>-0.107550</td>\n",
       "      <td>0.316124</td>\n",
       "      <td>0.290599</td>\n",
       "      <td>-0.107514</td>\n",
       "      <td>...</td>\n",
       "      <td>-0.359367</td>\n",
       "      <td>0.570394</td>\n",
       "      <td>0.758656</td>\n",
       "      <td>0.394922</td>\n",
       "      <td>0.421607</td>\n",
       "      <td>0.802737</td>\n",
       "      <td>-0.446984</td>\n",
       "      <td>0.454325</td>\n",
       "      <td>0.763590</td>\n",
       "      <td>0.360563</td>\n",
       "    </tr>\n",
       "    <tr>\n",
       "      <th>2</th>\n",
       "      <td>parallel</td>\n",
       "      <td>0.311642</td>\n",
       "      <td>0.282741</td>\n",
       "      <td>-0.071476</td>\n",
       "      <td>0.317503</td>\n",
       "      <td>0.266856</td>\n",
       "      <td>-0.116231</td>\n",
       "      <td>0.321861</td>\n",
       "      <td>0.265913</td>\n",
       "      <td>-0.116238</td>\n",
       "      <td>...</td>\n",
       "      <td>-0.364201</td>\n",
       "      <td>0.569029</td>\n",
       "      <td>0.755586</td>\n",
       "      <td>0.355631</td>\n",
       "      <td>0.422840</td>\n",
       "      <td>0.803750</td>\n",
       "      <td>-0.475669</td>\n",
       "      <td>0.450945</td>\n",
       "      <td>0.760925</td>\n",
       "      <td>0.323066</td>\n",
       "    </tr>\n",
       "    <tr>\n",
       "      <th>3</th>\n",
       "      <td>parallel</td>\n",
       "      <td>0.313323</td>\n",
       "      <td>0.256082</td>\n",
       "      <td>-0.041410</td>\n",
       "      <td>0.320568</td>\n",
       "      <td>0.241338</td>\n",
       "      <td>-0.087059</td>\n",
       "      <td>0.325011</td>\n",
       "      <td>0.240360</td>\n",
       "      <td>-0.087099</td>\n",
       "      <td>...</td>\n",
       "      <td>-0.298777</td>\n",
       "      <td>0.563130</td>\n",
       "      <td>0.759676</td>\n",
       "      <td>0.293149</td>\n",
       "      <td>0.422651</td>\n",
       "      <td>0.803255</td>\n",
       "      <td>-0.420608</td>\n",
       "      <td>0.444162</td>\n",
       "      <td>0.762202</td>\n",
       "      <td>0.226731</td>\n",
       "    </tr>\n",
       "    <tr>\n",
       "      <th>4</th>\n",
       "      <td>parallel</td>\n",
       "      <td>0.325328</td>\n",
       "      <td>0.226877</td>\n",
       "      <td>-0.077686</td>\n",
       "      <td>0.336829</td>\n",
       "      <td>0.211829</td>\n",
       "      <td>-0.120044</td>\n",
       "      <td>0.341546</td>\n",
       "      <td>0.210645</td>\n",
       "      <td>-0.120140</td>\n",
       "      <td>...</td>\n",
       "      <td>-0.232965</td>\n",
       "      <td>0.566158</td>\n",
       "      <td>0.763903</td>\n",
       "      <td>0.316762</td>\n",
       "      <td>0.425461</td>\n",
       "      <td>0.802660</td>\n",
       "      <td>-0.425831</td>\n",
       "      <td>0.443933</td>\n",
       "      <td>0.765620</td>\n",
       "      <td>0.232855</td>\n",
       "    </tr>\n",
       "    <tr>\n",
       "      <th>...</th>\n",
       "      <td>...</td>\n",
       "      <td>...</td>\n",
       "      <td>...</td>\n",
       "      <td>...</td>\n",
       "      <td>...</td>\n",
       "      <td>...</td>\n",
       "      <td>...</td>\n",
       "      <td>...</td>\n",
       "      <td>...</td>\n",
       "      <td>...</td>\n",
       "      <td>...</td>\n",
       "      <td>...</td>\n",
       "      <td>...</td>\n",
       "      <td>...</td>\n",
       "      <td>...</td>\n",
       "      <td>...</td>\n",
       "      <td>...</td>\n",
       "      <td>...</td>\n",
       "      <td>...</td>\n",
       "      <td>...</td>\n",
       "      <td>...</td>\n",
       "    </tr>\n",
       "    <tr>\n",
       "      <th>239</th>\n",
       "      <td>parallel</td>\n",
       "      <td>0.315575</td>\n",
       "      <td>0.291396</td>\n",
       "      <td>-0.051486</td>\n",
       "      <td>0.318320</td>\n",
       "      <td>0.278352</td>\n",
       "      <td>-0.120511</td>\n",
       "      <td>0.322200</td>\n",
       "      <td>0.277785</td>\n",
       "      <td>-0.120469</td>\n",
       "      <td>...</td>\n",
       "      <td>-0.281613</td>\n",
       "      <td>0.495020</td>\n",
       "      <td>0.770941</td>\n",
       "      <td>0.846306</td>\n",
       "      <td>0.311189</td>\n",
       "      <td>0.874485</td>\n",
       "      <td>-0.335067</td>\n",
       "      <td>0.382404</td>\n",
       "      <td>0.790527</td>\n",
       "      <td>0.921233</td>\n",
       "    </tr>\n",
       "    <tr>\n",
       "      <th>240</th>\n",
       "      <td>parallel</td>\n",
       "      <td>0.308004</td>\n",
       "      <td>0.200367</td>\n",
       "      <td>-0.075418</td>\n",
       "      <td>0.304277</td>\n",
       "      <td>0.186930</td>\n",
       "      <td>-0.142470</td>\n",
       "      <td>0.304163</td>\n",
       "      <td>0.187270</td>\n",
       "      <td>-0.142519</td>\n",
       "      <td>...</td>\n",
       "      <td>-0.243932</td>\n",
       "      <td>0.456334</td>\n",
       "      <td>0.794600</td>\n",
       "      <td>0.532433</td>\n",
       "      <td>0.310836</td>\n",
       "      <td>0.875065</td>\n",
       "      <td>-0.372815</td>\n",
       "      <td>0.325058</td>\n",
       "      <td>0.812239</td>\n",
       "      <td>0.498882</td>\n",
       "    </tr>\n",
       "    <tr>\n",
       "      <th>241</th>\n",
       "      <td>leaning</td>\n",
       "      <td>0.241831</td>\n",
       "      <td>0.611984</td>\n",
       "      <td>-0.071527</td>\n",
       "      <td>0.222016</td>\n",
       "      <td>0.605747</td>\n",
       "      <td>-0.116979</td>\n",
       "      <td>0.222655</td>\n",
       "      <td>0.603174</td>\n",
       "      <td>-0.116980</td>\n",
       "      <td>...</td>\n",
       "      <td>0.070809</td>\n",
       "      <td>0.522412</td>\n",
       "      <td>0.811468</td>\n",
       "      <td>0.411639</td>\n",
       "      <td>0.395277</td>\n",
       "      <td>0.869136</td>\n",
       "      <td>0.137486</td>\n",
       "      <td>0.395754</td>\n",
       "      <td>0.850129</td>\n",
       "      <td>0.450412</td>\n",
       "    </tr>\n",
       "    <tr>\n",
       "      <th>242</th>\n",
       "      <td>leaning</td>\n",
       "      <td>0.248447</td>\n",
       "      <td>0.621890</td>\n",
       "      <td>-0.051853</td>\n",
       "      <td>0.224587</td>\n",
       "      <td>0.615824</td>\n",
       "      <td>-0.095894</td>\n",
       "      <td>0.225106</td>\n",
       "      <td>0.613091</td>\n",
       "      <td>-0.095890</td>\n",
       "      <td>...</td>\n",
       "      <td>-0.070261</td>\n",
       "      <td>0.514665</td>\n",
       "      <td>0.800310</td>\n",
       "      <td>0.604635</td>\n",
       "      <td>0.396144</td>\n",
       "      <td>0.870922</td>\n",
       "      <td>-0.041493</td>\n",
       "      <td>0.412372</td>\n",
       "      <td>0.836483</td>\n",
       "      <td>0.646065</td>\n",
       "    </tr>\n",
       "    <tr>\n",
       "      <th>243</th>\n",
       "      <td>leaning</td>\n",
       "      <td>0.254050</td>\n",
       "      <td>0.622009</td>\n",
       "      <td>-0.033511</td>\n",
       "      <td>0.229721</td>\n",
       "      <td>0.616108</td>\n",
       "      <td>-0.079384</td>\n",
       "      <td>0.229921</td>\n",
       "      <td>0.612713</td>\n",
       "      <td>-0.079370</td>\n",
       "      <td>...</td>\n",
       "      <td>-0.011726</td>\n",
       "      <td>0.512895</td>\n",
       "      <td>0.805617</td>\n",
       "      <td>0.484709</td>\n",
       "      <td>0.395561</td>\n",
       "      <td>0.870967</td>\n",
       "      <td>0.041324</td>\n",
       "      <td>0.417151</td>\n",
       "      <td>0.846702</td>\n",
       "      <td>0.520284</td>\n",
       "    </tr>\n",
       "  </tbody>\n",
       "</table>\n",
       "<p>244 rows × 100 columns</p>\n",
       "</div>"
      ],
      "text/plain": [
       "        label        x0        y0        z0        x1        y1        z1  \\\n",
       "0    parallel  0.302003  0.328756 -0.043625  0.310346  0.316614 -0.088935   \n",
       "1    parallel  0.302609  0.306816 -0.061167  0.311949  0.291499 -0.107550   \n",
       "2    parallel  0.311642  0.282741 -0.071476  0.317503  0.266856 -0.116231   \n",
       "3    parallel  0.313323  0.256082 -0.041410  0.320568  0.241338 -0.087059   \n",
       "4    parallel  0.325328  0.226877 -0.077686  0.336829  0.211829 -0.120044   \n",
       "..        ...       ...       ...       ...       ...       ...       ...   \n",
       "239  parallel  0.315575  0.291396 -0.051486  0.318320  0.278352 -0.120511   \n",
       "240  parallel  0.308004  0.200367 -0.075418  0.304277  0.186930 -0.142470   \n",
       "241   leaning  0.241831  0.611984 -0.071527  0.222016  0.605747 -0.116979   \n",
       "242   leaning  0.248447  0.621890 -0.051853  0.224587  0.615824 -0.095894   \n",
       "243   leaning  0.254050  0.622009 -0.033511  0.229721  0.616108 -0.079384   \n",
       "\n",
       "           x2        y2        z2  ...       z29       x30       y30  \\\n",
       "0    0.314571  0.316048 -0.088872  ... -0.372342  0.566787  0.756253   \n",
       "1    0.316124  0.290599 -0.107514  ... -0.359367  0.570394  0.758656   \n",
       "2    0.321861  0.265913 -0.116238  ... -0.364201  0.569029  0.755586   \n",
       "3    0.325011  0.240360 -0.087099  ... -0.298777  0.563130  0.759676   \n",
       "4    0.341546  0.210645 -0.120140  ... -0.232965  0.566158  0.763903   \n",
       "..        ...       ...       ...  ...       ...       ...       ...   \n",
       "239  0.322200  0.277785 -0.120469  ... -0.281613  0.495020  0.770941   \n",
       "240  0.304163  0.187270 -0.142519  ... -0.243932  0.456334  0.794600   \n",
       "241  0.222655  0.603174 -0.116980  ...  0.070809  0.522412  0.811468   \n",
       "242  0.225106  0.613091 -0.095890  ... -0.070261  0.514665  0.800310   \n",
       "243  0.229921  0.612713 -0.079370  ... -0.011726  0.512895  0.805617   \n",
       "\n",
       "          z30       x31       y31       z31       x32       y32       z32  \n",
       "0    0.403586  0.423825  0.803852 -0.449865  0.451938  0.764280  0.385692  \n",
       "1    0.394922  0.421607  0.802737 -0.446984  0.454325  0.763590  0.360563  \n",
       "2    0.355631  0.422840  0.803750 -0.475669  0.450945  0.760925  0.323066  \n",
       "3    0.293149  0.422651  0.803255 -0.420608  0.444162  0.762202  0.226731  \n",
       "4    0.316762  0.425461  0.802660 -0.425831  0.443933  0.765620  0.232855  \n",
       "..        ...       ...       ...       ...       ...       ...       ...  \n",
       "239  0.846306  0.311189  0.874485 -0.335067  0.382404  0.790527  0.921233  \n",
       "240  0.532433  0.310836  0.875065 -0.372815  0.325058  0.812239  0.498882  \n",
       "241  0.411639  0.395277  0.869136  0.137486  0.395754  0.850129  0.450412  \n",
       "242  0.604635  0.396144  0.870922 -0.041493  0.412372  0.836483  0.646065  \n",
       "243  0.484709  0.395561  0.870967  0.041324  0.417151  0.846702  0.520284  \n",
       "\n",
       "[244 rows x 100 columns]"
      ]
     },
     "execution_count": 4,
     "metadata": {},
     "output_type": "execute_result"
    }
   ],
   "source": [
    "# Read the data from a csv\n",
    "landmarks_df = pd.read_csv(output_input_csv_filename)\n",
    "landmarks_df"
   ]
  },
  {
   "cell_type": "markdown",
   "id": "c72488e6",
   "metadata": {},
   "source": [
    "# 2. Train & Evaluate Models"
   ]
  },
  {
   "cell_type": "code",
   "execution_count": 5,
   "id": "3dfd3f5f",
   "metadata": {},
   "outputs": [],
   "source": [
    "model_scores = [] # Used for comparing different model's scores\n",
    "\n",
    "def evaluate_model(model_name, prediction, display_matrix=False):\n",
    "    acc = metrics.accuracy_score(y_test, prediction)\n",
    "    f1 = f1_score(y_test, prediction, average='micro')\n",
    "    precision = precision_score(y_test, prediction, average='macro')\n",
    "    recall = recall_score(y_test, prediction, average='macro')\n",
    "\n",
    "    model_metrics = {'Classifier': model_name, \n",
    "                     'Accuracy': acc, \n",
    "                     'Precision': precision, \n",
    "                     'Recall': recall,\n",
    "                     'F1 Score': f1}\n",
    "\n",
    "    if display_matrix:\n",
    "        labels= ['parallel', 'leaning', 'good']\n",
    "        cm = confusion_matrix(y_test, prediction, labels=labels)\n",
    "        disp = ConfusionMatrixDisplay(confusion_matrix=cm, display_labels=labels)\n",
    "        disp.plot()\n",
    "        plt.title(model_name)\n",
    "        plt.show()\n",
    "    \n",
    "    return model_metrics"
   ]
  },
  {
   "cell_type": "markdown",
   "id": "e8634b12",
   "metadata": {},
   "source": [
    "## Feature Extraction"
   ]
  },
  {
   "attachments": {
    "landmarks.png": {
     "image/png": "[encoded data removed]"
    }
   },
   "cell_type": "markdown",
   "id": "d0a97e29",
   "metadata": {},
   "source": [
    "![landmarks.png](attachment:landmarks.png)"
   ]
  },
  {
   "cell_type": "code",
   "execution_count": 6,
   "id": "ca0d3b9e",
   "metadata": {},
   "outputs": [],
   "source": [
    "# Get the angle between 3 keypoint's coordinates\n",
    "# INPUT: frame (dictonary storing the coordinates of all the keypoints), the keypoint numbers\n",
    "# OUTPUT: angle as float\n",
    "def get_angle(frame, keypoint_1, keypoint_2, keypoint_3):\n",
    "    a = np.array([frame['x'+str(keypoint_1)], frame['y'+str(keypoint_1)]]) # First\n",
    "    b = np.array([frame['x'+str(keypoint_2)], frame['y'+str(keypoint_2)]]) # Mid\n",
    "    c = np.array([frame['x'+str(keypoint_3)], frame['y'+str(keypoint_3)]]) # End\n",
    "    \n",
    "    ba = a - b\n",
    "    bc = c - b\n",
    "\n",
    "    cosine_angle = np.dot(ba, bc) / (np.linalg.norm(ba) * np.linalg.norm(bc))\n",
    "    angle = math.degrees(np.arccos(cosine_angle))\n",
    "    \n",
    "    if angle > 180.0:\n",
    "        angle = 360 - angle\n",
    "        \n",
    "    return angle"
   ]
  },
  {
   "cell_type": "code",
   "execution_count": 7,
   "id": "5a4ea68e",
   "metadata": {},
   "outputs": [],
   "source": [
    "# Get the y differnece between two keypoints in a frame\n",
    "# INPUT: frame (dictionary of keypoints to coordinates) and the 2 keypoints\n",
    "# OUPUT: absolute value of the difference\n",
    "def get_y_difference(frame, keypoint_1, keypoint_2):\n",
    "    return abs(frame['y'+str(keypoint_1)] - frame['y'+str(keypoint_2)])"
   ]
  },
  {
   "cell_type": "code",
   "execution_count": 8,
   "id": "4b74d529",
   "metadata": {},
   "outputs": [],
   "source": [
    "landmarks_df['hip_angle'] = landmarks_df.apply(lambda row: get_angle(row, 11, 23, 25), axis=1)\n",
    "landmarks_df['knee_hip_difference'] = landmarks_df.apply(lambda row: get_y_difference(row, 23, 25), axis=1)\n",
    "landmarks_df['knee_angle'] = landmarks_df.apply(lambda row: get_angle(row, 23, 25, 27), axis=1)"
   ]
  },
  {
   "cell_type": "code",
   "execution_count": 9,
   "id": "371d94f9",
   "metadata": {},
   "outputs": [
    {
     "data": {
      "text/html": [
       "<div>\n",
       "<style scoped>\n",
       "    .dataframe tbody tr th:only-of-type {\n",
       "        vertical-align: middle;\n",
       "    }\n",
       "\n",
       "    .dataframe tbody tr th {\n",
       "        vertical-align: top;\n",
       "    }\n",
       "\n",
       "    .dataframe thead th {\n",
       "        text-align: right;\n",
       "    }\n",
       "</style>\n",
       "<table border=\"1\" class=\"dataframe\">\n",
       "  <thead>\n",
       "    <tr style=\"text-align: right;\">\n",
       "      <th></th>\n",
       "      <th>label</th>\n",
       "      <th>x0</th>\n",
       "      <th>y0</th>\n",
       "      <th>z0</th>\n",
       "      <th>x1</th>\n",
       "      <th>y1</th>\n",
       "      <th>z1</th>\n",
       "      <th>x2</th>\n",
       "      <th>y2</th>\n",
       "      <th>z2</th>\n",
       "      <th>...</th>\n",
       "      <th>z30</th>\n",
       "      <th>x31</th>\n",
       "      <th>y31</th>\n",
       "      <th>z31</th>\n",
       "      <th>x32</th>\n",
       "      <th>y32</th>\n",
       "      <th>z32</th>\n",
       "      <th>hip_angle</th>\n",
       "      <th>knee_hip_difference</th>\n",
       "      <th>knee_angle</th>\n",
       "    </tr>\n",
       "  </thead>\n",
       "  <tbody>\n",
       "    <tr>\n",
       "      <th>0</th>\n",
       "      <td>parallel</td>\n",
       "      <td>0.302003</td>\n",
       "      <td>0.328756</td>\n",
       "      <td>-0.043625</td>\n",
       "      <td>0.310346</td>\n",
       "      <td>0.316614</td>\n",
       "      <td>-0.088935</td>\n",
       "      <td>0.314571</td>\n",
       "      <td>0.316048</td>\n",
       "      <td>-0.088872</td>\n",
       "      <td>...</td>\n",
       "      <td>0.403586</td>\n",
       "      <td>0.423825</td>\n",
       "      <td>0.803852</td>\n",
       "      <td>-0.449865</td>\n",
       "      <td>0.451938</td>\n",
       "      <td>0.764280</td>\n",
       "      <td>0.385692</td>\n",
       "      <td>71.526169</td>\n",
       "      <td>0.104457</td>\n",
       "      <td>70.241432</td>\n",
       "    </tr>\n",
       "    <tr>\n",
       "      <th>1</th>\n",
       "      <td>parallel</td>\n",
       "      <td>0.302609</td>\n",
       "      <td>0.306816</td>\n",
       "      <td>-0.061167</td>\n",
       "      <td>0.311949</td>\n",
       "      <td>0.291499</td>\n",
       "      <td>-0.107550</td>\n",
       "      <td>0.316124</td>\n",
       "      <td>0.290599</td>\n",
       "      <td>-0.107514</td>\n",
       "      <td>...</td>\n",
       "      <td>0.394922</td>\n",
       "      <td>0.421607</td>\n",
       "      <td>0.802737</td>\n",
       "      <td>-0.446984</td>\n",
       "      <td>0.454325</td>\n",
       "      <td>0.763590</td>\n",
       "      <td>0.360563</td>\n",
       "      <td>80.099176</td>\n",
       "      <td>0.117568</td>\n",
       "      <td>77.497390</td>\n",
       "    </tr>\n",
       "    <tr>\n",
       "      <th>2</th>\n",
       "      <td>parallel</td>\n",
       "      <td>0.311642</td>\n",
       "      <td>0.282741</td>\n",
       "      <td>-0.071476</td>\n",
       "      <td>0.317503</td>\n",
       "      <td>0.266856</td>\n",
       "      <td>-0.116231</td>\n",
       "      <td>0.321861</td>\n",
       "      <td>0.265913</td>\n",
       "      <td>-0.116238</td>\n",
       "      <td>...</td>\n",
       "      <td>0.355631</td>\n",
       "      <td>0.422840</td>\n",
       "      <td>0.803750</td>\n",
       "      <td>-0.475669</td>\n",
       "      <td>0.450945</td>\n",
       "      <td>0.760925</td>\n",
       "      <td>0.323066</td>\n",
       "      <td>89.391170</td>\n",
       "      <td>0.127391</td>\n",
       "      <td>86.876530</td>\n",
       "    </tr>\n",
       "    <tr>\n",
       "      <th>3</th>\n",
       "      <td>parallel</td>\n",
       "      <td>0.313323</td>\n",
       "      <td>0.256082</td>\n",
       "      <td>-0.041410</td>\n",
       "      <td>0.320568</td>\n",
       "      <td>0.241338</td>\n",
       "      <td>-0.087059</td>\n",
       "      <td>0.325011</td>\n",
       "      <td>0.240360</td>\n",
       "      <td>-0.087099</td>\n",
       "      <td>...</td>\n",
       "      <td>0.293149</td>\n",
       "      <td>0.422651</td>\n",
       "      <td>0.803255</td>\n",
       "      <td>-0.420608</td>\n",
       "      <td>0.444162</td>\n",
       "      <td>0.762202</td>\n",
       "      <td>0.226731</td>\n",
       "      <td>102.834834</td>\n",
       "      <td>0.142559</td>\n",
       "      <td>106.495698</td>\n",
       "    </tr>\n",
       "    <tr>\n",
       "      <th>4</th>\n",
       "      <td>parallel</td>\n",
       "      <td>0.325328</td>\n",
       "      <td>0.226877</td>\n",
       "      <td>-0.077686</td>\n",
       "      <td>0.336829</td>\n",
       "      <td>0.211829</td>\n",
       "      <td>-0.120044</td>\n",
       "      <td>0.341546</td>\n",
       "      <td>0.210645</td>\n",
       "      <td>-0.120140</td>\n",
       "      <td>...</td>\n",
       "      <td>0.316762</td>\n",
       "      <td>0.425461</td>\n",
       "      <td>0.802660</td>\n",
       "      <td>-0.425831</td>\n",
       "      <td>0.443933</td>\n",
       "      <td>0.765620</td>\n",
       "      <td>0.232855</td>\n",
       "      <td>133.077513</td>\n",
       "      <td>0.156756</td>\n",
       "      <td>139.795349</td>\n",
       "    </tr>\n",
       "  </tbody>\n",
       "</table>\n",
       "<p>5 rows × 103 columns</p>\n",
       "</div>"
      ],
      "text/plain": [
       "      label        x0        y0        z0        x1        y1        z1  \\\n",
       "0  parallel  0.302003  0.328756 -0.043625  0.310346  0.316614 -0.088935   \n",
       "1  parallel  0.302609  0.306816 -0.061167  0.311949  0.291499 -0.107550   \n",
       "2  parallel  0.311642  0.282741 -0.071476  0.317503  0.266856 -0.116231   \n",
       "3  parallel  0.313323  0.256082 -0.041410  0.320568  0.241338 -0.087059   \n",
       "4  parallel  0.325328  0.226877 -0.077686  0.336829  0.211829 -0.120044   \n",
       "\n",
       "         x2        y2        z2  ...       z30       x31       y31       z31  \\\n",
       "0  0.314571  0.316048 -0.088872  ...  0.403586  0.423825  0.803852 -0.449865   \n",
       "1  0.316124  0.290599 -0.107514  ...  0.394922  0.421607  0.802737 -0.446984   \n",
       "2  0.321861  0.265913 -0.116238  ...  0.355631  0.422840  0.803750 -0.475669   \n",
       "3  0.325011  0.240360 -0.087099  ...  0.293149  0.422651  0.803255 -0.420608   \n",
       "4  0.341546  0.210645 -0.120140  ...  0.316762  0.425461  0.802660 -0.425831   \n",
       "\n",
       "        x32       y32       z32   hip_angle  knee_hip_difference  knee_angle  \n",
       "0  0.451938  0.764280  0.385692   71.526169             0.104457   70.241432  \n",
       "1  0.454325  0.763590  0.360563   80.099176             0.117568   77.497390  \n",
       "2  0.450945  0.760925  0.323066   89.391170             0.127391   86.876530  \n",
       "3  0.444162  0.762202  0.226731  102.834834             0.142559  106.495698  \n",
       "4  0.443933  0.765620  0.232855  133.077513             0.156756  139.795349  \n",
       "\n",
       "[5 rows x 103 columns]"
      ]
     },
     "execution_count": 9,
     "metadata": {},
     "output_type": "execute_result"
    }
   ],
   "source": [
    "landmarks_df.head()"
   ]
  },
  {
   "cell_type": "code",
   "execution_count": 10,
   "id": "7d891d42",
   "metadata": {},
   "outputs": [
    {
     "name": "stdout",
     "output_type": "stream",
     "text": [
      "(163, 3) (163,) (81, 3) (81,)\n"
     ]
    }
   ],
   "source": [
    "landmarks_df = landmarks_df.filter(['hip_angle', 'knee_hip_difference', 'knee_angle', 'label'])\n",
    "\n",
    "# Setup the testing and training sets\n",
    "X = landmarks_df.drop('label', axis=1)\n",
    "y = landmarks_df['label']\n",
    "\n",
    "X_train, X_test, y_train, y_test = train_test_split(X, y, test_size=0.33, random_state=42)\n",
    "print(X_train.shape, y_train.shape, X_test.shape, y_test.shape)"
   ]
  },
  {
   "cell_type": "code",
   "execution_count": 11,
   "id": "51f03fd6",
   "metadata": {},
   "outputs": [
    {
     "data": {
      "text/html": [
       "<div>\n",
       "<style scoped>\n",
       "    .dataframe tbody tr th:only-of-type {\n",
       "        vertical-align: middle;\n",
       "    }\n",
       "\n",
       "    .dataframe tbody tr th {\n",
       "        vertical-align: top;\n",
       "    }\n",
       "\n",
       "    .dataframe thead th {\n",
       "        text-align: right;\n",
       "    }\n",
       "</style>\n",
       "<table border=\"1\" class=\"dataframe\">\n",
       "  <thead>\n",
       "    <tr style=\"text-align: right;\">\n",
       "      <th></th>\n",
       "      <th>hip_angle</th>\n",
       "      <th>knee_hip_difference</th>\n",
       "      <th>knee_angle</th>\n",
       "      <th>label</th>\n",
       "    </tr>\n",
       "  </thead>\n",
       "  <tbody>\n",
       "    <tr>\n",
       "      <th>0</th>\n",
       "      <td>71.526169</td>\n",
       "      <td>0.104457</td>\n",
       "      <td>70.241432</td>\n",
       "      <td>parallel</td>\n",
       "    </tr>\n",
       "    <tr>\n",
       "      <th>1</th>\n",
       "      <td>80.099176</td>\n",
       "      <td>0.117568</td>\n",
       "      <td>77.497390</td>\n",
       "      <td>parallel</td>\n",
       "    </tr>\n",
       "    <tr>\n",
       "      <th>2</th>\n",
       "      <td>89.391170</td>\n",
       "      <td>0.127391</td>\n",
       "      <td>86.876530</td>\n",
       "      <td>parallel</td>\n",
       "    </tr>\n",
       "    <tr>\n",
       "      <th>3</th>\n",
       "      <td>102.834834</td>\n",
       "      <td>0.142559</td>\n",
       "      <td>106.495698</td>\n",
       "      <td>parallel</td>\n",
       "    </tr>\n",
       "    <tr>\n",
       "      <th>4</th>\n",
       "      <td>133.077513</td>\n",
       "      <td>0.156756</td>\n",
       "      <td>139.795349</td>\n",
       "      <td>parallel</td>\n",
       "    </tr>\n",
       "  </tbody>\n",
       "</table>\n",
       "</div>"
      ],
      "text/plain": [
       "    hip_angle  knee_hip_difference  knee_angle     label\n",
       "0   71.526169             0.104457   70.241432  parallel\n",
       "1   80.099176             0.117568   77.497390  parallel\n",
       "2   89.391170             0.127391   86.876530  parallel\n",
       "3  102.834834             0.142559  106.495698  parallel\n",
       "4  133.077513             0.156756  139.795349  parallel"
      ]
     },
     "execution_count": 11,
     "metadata": {},
     "output_type": "execute_result"
    }
   ],
   "source": [
    "landmarks_df.head()"
   ]
  },
  {
   "cell_type": "markdown",
   "id": "e06c26ed",
   "metadata": {},
   "source": [
    "## Models"
   ]
  },
  {
   "cell_type": "markdown",
   "id": "068bbb8b",
   "metadata": {},
   "source": [
    "### Linear SVC"
   ]
  },
  {
   "cell_type": "code",
   "execution_count": 12,
   "id": "ca9329d5",
   "metadata": {},
   "outputs": [
    {
     "name": "stderr",
     "output_type": "stream",
     "text": [
      "C:\\Users\\abid5.000\\anaconda3\\lib\\site-packages\\sklearn\\svm\\_base.py:985: ConvergenceWarning: Liblinear failed to converge, increase the number of iterations.\n",
      "  warnings.warn(\"Liblinear failed to converge, increase \"\n"
     ]
    },
    {
     "data": {
      "image/png": "[encoded data removed]",
      "text/plain": [
       "<Figure size 432x288 with 2 Axes>"
      ]
     },
     "metadata": {
      "needs_background": "light"
     },
     "output_type": "display_data"
    },
    {
     "name": "stdout",
     "output_type": "stream",
     "text": [
      "{'Classifier': 'LinearSVC', 'Accuracy': 0.9876543209876543, 'Precision': 0.9924242424242425, 'Recall': 0.9523809523809524, 'F1 Score': 0.9876543209876543}\n"
     ]
    }
   ],
   "source": [
    "svc_model = LinearSVC(random_state=1).fit(X_train, y_train)\n",
    "y_pred = svc_model.predict(X_test)\n",
    "\n",
    "scores = evaluate_model('LinearSVC', y_pred, True)\n",
    "model_scores.append(scores)\n",
    "print(scores)"
   ]
  },
  {
   "cell_type": "code",
   "execution_count": 13,
   "id": "12fc4f4e",
   "metadata": {},
   "outputs": [
    {
     "data": {
      "text/plain": [
       "['svc-squat-mistakes.joblib']"
      ]
     },
     "execution_count": 13,
     "metadata": {},
     "output_type": "execute_result"
    }
   ],
   "source": [
    "dump(svc_model, 'svc-squat-mistakes.joblib') # Export model"
   ]
  },
  {
   "cell_type": "markdown",
   "id": "dcf1412c",
   "metadata": {},
   "source": [
    "### K-Nearest Neighbours"
   ]
  },
  {
   "cell_type": "code",
   "execution_count": 14,
   "id": "41c0bd0e",
   "metadata": {},
   "outputs": [],
   "source": [
    "# Find K value with lowest error\n",
    "error_rate = []\n",
    "for i in range(1,35):\n",
    "    pred_i = KNeighborsClassifier(n_neighbors=i).fit(X_train,y_train).predict(X_test)\n",
    "    error_rate.append(np.mean(pred_i != y_test))"
   ]
  },
  {
   "cell_type": "code",
   "execution_count": 15,
   "id": "c3c13faa",
   "metadata": {},
   "outputs": [
    {
     "data": {
      "image/png": "[encoded data removed]",
      "text/plain": [
       "<Figure size 720x360 with 1 Axes>"
      ]
     },
     "metadata": {
      "needs_background": "light"
     },
     "output_type": "display_data"
    }
   ],
   "source": [
    "plt.figure(figsize=(10,5))\n",
    "plt.plot(range(1,35),error_rate,color='blue', linestyle='dashed', marker='o',\n",
    "         markerfacecolor='red', markersize=10)\n",
    "plt.title('Error Rate vs. K Value')\n",
    "plt.xlabel('K')\n",
    "plt.ylabel('Error Rate')\n",
    "plt.show()"
   ]
  },
  {
   "cell_type": "code",
   "execution_count": 16,
   "id": "98ee41b2",
   "metadata": {},
   "outputs": [
    {
     "data": {
      "image/png": "[encoded data removed]",
      "text/plain": [
       "<Figure size 432x288 with 2 Axes>"
      ]
     },
     "metadata": {
      "needs_background": "light"
     },
     "output_type": "display_data"
    },
    {
     "name": "stdout",
     "output_type": "stream",
     "text": [
      "{'Classifier': 'KNN', 'Accuracy': 1.0, 'Precision': 1.0, 'Recall': 1.0, 'F1 Score': 1.0}\n"
     ]
    }
   ],
   "source": [
    "knc_model = KNeighborsClassifier(25).fit(X_train, y_train)\n",
    "y_pred = knc_model.predict(X_test)\n",
    "scores = evaluate_model('KNN', y_pred, True)\n",
    "model_scores.append(scores)\n",
    "print(scores)"
   ]
  },
  {
   "cell_type": "code",
   "execution_count": 17,
   "id": "56316487",
   "metadata": {},
   "outputs": [
    {
     "data": {
      "text/plain": [
       "['knc-squat-mistakes.joblib']"
      ]
     },
     "execution_count": 17,
     "metadata": {},
     "output_type": "execute_result"
    }
   ],
   "source": [
    "dump(knc_model, 'knc-squat-mistakes.joblib') # Export model"
   ]
  },
  {
   "cell_type": "markdown",
   "id": "aea617c5",
   "metadata": {},
   "source": [
    "### Neural Network"
   ]
  },
  {
   "cell_type": "code",
   "execution_count": 18,
   "id": "cb6388df",
   "metadata": {},
   "outputs": [
    {
     "name": "stderr",
     "output_type": "stream",
     "text": [
      "C:\\Users\\abid5.000\\anaconda3\\lib\\site-packages\\sklearn\\neural_network\\_multilayer_perceptron.py:614: ConvergenceWarning: Stochastic Optimizer: Maximum iterations (200) reached and the optimization hasn't converged yet.\n",
      "  warnings.warn(\n"
     ]
    },
    {
     "data": {
      "image/png": "[encoded data removed]",
      "text/plain": [
       "<Figure size 432x288 with 2 Axes>"
      ]
     },
     "metadata": {
      "needs_background": "light"
     },
     "output_type": "display_data"
    },
    {
     "name": "stdout",
     "output_type": "stream",
     "text": [
      "{'Classifier': 'Neural Network', 'Accuracy': 0.9876543209876543, 'Precision': 0.9924242424242425, 'Recall': 0.9523809523809524, 'F1 Score': 0.9876543209876543}\n"
     ]
    }
   ],
   "source": [
    "mlp_clf = MLPClassifier(activation='relu',\n",
    "                        learning_rate='adaptive',\n",
    "                        hidden_layer_sizes=(100),\n",
    "                        learning_rate_init=0.01,\n",
    "                        random_state=1)\n",
    "\n",
    "y_pred = mlp_clf.fit(X_train, y_train).predict(X_test)\n",
    "scores = evaluate_model('Neural Network', y_pred, True)\n",
    "model_scores.append(scores)\n",
    "print(scores)"
   ]
  },
  {
   "cell_type": "code",
   "execution_count": 20,
   "id": "7c2d7d3e",
   "metadata": {},
   "outputs": [
    {
     "data": {
      "text/plain": [
       "['mlp-squat-mistakes.joblib']"
      ]
     },
     "execution_count": 20,
     "metadata": {},
     "output_type": "execute_result"
    }
   ],
   "source": [
    "dump(mlp_clf, 'mlp-squat-mistakes.joblib') # Export model"
   ]
  },
  {
   "cell_type": "markdown",
   "id": "a5d4e2d6",
   "metadata": {},
   "source": [
    "### Naive Bayes"
   ]
  },
  {
   "cell_type": "code",
   "execution_count": 21,
   "id": "b9d0e905",
   "metadata": {},
   "outputs": [
    {
     "data": {
      "image/png": "[encoded data removed]",
      "text/plain": [
       "<Figure size 432x288 with 2 Axes>"
      ]
     },
     "metadata": {
      "needs_background": "light"
     },
     "output_type": "display_data"
    },
    {
     "name": "stdout",
     "output_type": "stream",
     "text": [
      "{'Classifier': 'GaussianNB', 'Accuracy': 0.9753086419753086, 'Precision': 0.9851851851851853, 'Recall': 0.9416282642089094, 'F1 Score': 0.9753086419753086}\n"
     ]
    }
   ],
   "source": [
    "gnb_model = GaussianNB()\n",
    "y_pred = gnb_model.fit(X_train, y_train).predict(X_test)\n",
    "\n",
    "scores = evaluate_model('GaussianNB', y_pred, True)\n",
    "model_scores.append(scores)\n",
    "print(scores)"
   ]
  },
  {
   "cell_type": "code",
   "execution_count": 22,
   "id": "90497943",
   "metadata": {},
   "outputs": [
    {
     "data": {
      "text/plain": [
       "['gnb-squat-mistakes.joblib']"
      ]
     },
     "execution_count": 22,
     "metadata": {},
     "output_type": "execute_result"
    }
   ],
   "source": [
    "dump(gnb_model, 'gnb-squat-mistakes.joblib') # Export model"
   ]
  },
  {
   "cell_type": "code",
   "execution_count": 23,
   "id": "50e05030",
   "metadata": {},
   "outputs": [
    {
     "data": {
      "image/png": "[encoded data removed]",
      "text/plain": [
       "<Figure size 432x288 with 2 Axes>"
      ]
     },
     "metadata": {
      "needs_background": "light"
     },
     "output_type": "display_data"
    },
    {
     "name": "stdout",
     "output_type": "stream",
     "text": [
      "{'Classifier': 'MultinomialNB', 'Accuracy': 0.8518518518518519, 'Precision': 0.8641509433962264, 'Recall': 0.763369413782017, 'F1 Score': 0.8518518518518519}\n"
     ]
    }
   ],
   "source": [
    "mnb_model = MultinomialNB()\n",
    "y_pred = mnb_model.fit(X_train, y_train).predict(X_test)\n",
    "\n",
    "scores = evaluate_model('MultinomialNB', y_pred, True)\n",
    "model_scores.append(scores)\n",
    "print(scores)"
   ]
  },
  {
   "cell_type": "code",
   "execution_count": 24,
   "id": "f08680f3",
   "metadata": {},
   "outputs": [
    {
     "data": {
      "text/plain": [
       "['mnb-squat-mistakes.joblib']"
      ]
     },
     "execution_count": 24,
     "metadata": {},
     "output_type": "execute_result"
    }
   ],
   "source": [
    "dump(mnb_model, 'mnb-squat-mistakes.joblib') # Export model"
   ]
  },
  {
   "cell_type": "markdown",
   "id": "3c6c8d96",
   "metadata": {},
   "source": [
    "## Best Performers"
   ]
  },
  {
   "cell_type": "code",
   "execution_count": 25,
   "id": "b97c30f9",
   "metadata": {},
   "outputs": [
    {
     "data": {
      "text/html": [
       "<div>\n",
       "<style scoped>\n",
       "    .dataframe tbody tr th:only-of-type {\n",
       "        vertical-align: middle;\n",
       "    }\n",
       "\n",
       "    .dataframe tbody tr th {\n",
       "        vertical-align: top;\n",
       "    }\n",
       "\n",
       "    .dataframe thead th {\n",
       "        text-align: right;\n",
       "    }\n",
       "</style>\n",
       "<table border=\"1\" class=\"dataframe\">\n",
       "  <thead>\n",
       "    <tr style=\"text-align: right;\">\n",
       "      <th></th>\n",
       "      <th>Classifier</th>\n",
       "      <th>Accuracy</th>\n",
       "      <th>Precision</th>\n",
       "      <th>Recall</th>\n",
       "      <th>F1 Score</th>\n",
       "    </tr>\n",
       "  </thead>\n",
       "  <tbody>\n",
       "    <tr>\n",
       "      <th>1</th>\n",
       "      <td>KNN</td>\n",
       "      <td>1.000000</td>\n",
       "      <td>1.000000</td>\n",
       "      <td>1.000000</td>\n",
       "      <td>1.000000</td>\n",
       "    </tr>\n",
       "    <tr>\n",
       "      <th>0</th>\n",
       "      <td>LinearSVC</td>\n",
       "      <td>0.987654</td>\n",
       "      <td>0.992424</td>\n",
       "      <td>0.952381</td>\n",
       "      <td>0.987654</td>\n",
       "    </tr>\n",
       "    <tr>\n",
       "      <th>2</th>\n",
       "      <td>Neural Network</td>\n",
       "      <td>0.987654</td>\n",
       "      <td>0.992424</td>\n",
       "      <td>0.952381</td>\n",
       "      <td>0.987654</td>\n",
       "    </tr>\n",
       "    <tr>\n",
       "      <th>3</th>\n",
       "      <td>GaussianNB</td>\n",
       "      <td>0.975309</td>\n",
       "      <td>0.985185</td>\n",
       "      <td>0.941628</td>\n",
       "      <td>0.975309</td>\n",
       "    </tr>\n",
       "    <tr>\n",
       "      <th>4</th>\n",
       "      <td>MultinomialNB</td>\n",
       "      <td>0.851852</td>\n",
       "      <td>0.864151</td>\n",
       "      <td>0.763369</td>\n",
       "      <td>0.851852</td>\n",
       "    </tr>\n",
       "  </tbody>\n",
       "</table>\n",
       "</div>"
      ],
      "text/plain": [
       "       Classifier  Accuracy  Precision    Recall  F1 Score\n",
       "1             KNN  1.000000   1.000000  1.000000  1.000000\n",
       "0       LinearSVC  0.987654   0.992424  0.952381  0.987654\n",
       "2  Neural Network  0.987654   0.992424  0.952381  0.987654\n",
       "3      GaussianNB  0.975309   0.985185  0.941628  0.975309\n",
       "4   MultinomialNB  0.851852   0.864151  0.763369  0.851852"
      ]
     },
     "execution_count": 25,
     "metadata": {},
     "output_type": "execute_result"
    }
   ],
   "source": [
    "eval_scores = pd.DataFrame(model_scores)\n",
    "eval_scores = eval_scores.sort_values(by = ['F1 Score'], ascending = False)\n",
    "eval_scores"
   ]
  },
  {
   "cell_type": "markdown",
   "id": "3896d2fc",
   "metadata": {},
   "source": [
    "To see how the classifiers perform on all the videos go to the f1-gen-frame notebook for results."
   ]
  }
 ],
 "metadata": {
  "kernelspec": {
   "display_name": "Python 3",
   "language": "python",
   "name": "python3"
  },
  "language_info": {
   "codemirror_mode": {
    "name": "ipython",
    "version": 3
   },
   "file_extension": ".py",
   "mimetype": "text/x-python",
   "name": "python",
   "nbconvert_exporter": "python",
   "pygments_lexer": "ipython3",
   "version": "3.8.8"
  }
 },
 "nbformat": 4,
 "nbformat_minor": 5
}
