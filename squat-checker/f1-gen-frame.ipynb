{
 "cells": [
  {
   "cell_type": "markdown",
   "id": "06c10eca",
   "metadata": {},
   "source": [
    "# Frame Analysis F1 Score Generator"
   ]
  },
  {
   "cell_type": "markdown",
   "id": "e0b3b18c",
   "metadata": {},
   "source": [
    "Author: Abid Mahdi, University of Southampton. 28/03/2022. am14g19@soton.ac.uk.\n",
    "\n",
    "This notebook tests how good a trained frame-by-frame analysis model is by generating an F1 score for a dataset of squats. \n",
    "\n",
    "Input: tuples of the squat videos and trained frame analysis models.\n",
    "\n",
    "## TOC:\n",
    "0. [Import Libraries & Setup](#0.-Import-Libraries-&-Setup)\n",
    "1. [Setup Testing Set](#1.-Setup-Testing-Set)\n",
    "2. [Evaluate Models](#2.-Evaluate-Models)\n",
    "    * [Nearest Neighbours](#KNC-Model)\n",
    "    * [Neural Network](#Neural-Network-Model)\n",
    "    * [Gaussian NB](#Gaussian-NB-Model)\n",
    "    * [Multinomial NB](#Multinomial-NB-Model)\n",
    "    * [Linear SVC](#Linear-SVC-Model)"
   ]
  },
  {
   "cell_type": "markdown",
   "id": "ac03b8ae",
   "metadata": {},
   "source": [
    "# 0. Import Libraries & Setup"
   ]
  },
  {
   "cell_type": "code",
   "execution_count": 1,
   "id": "8d908534",
   "metadata": {},
   "outputs": [],
   "source": [
    "import numpy as np\n",
    "import pandas as pd\n",
    "import matplotlib.pyplot as plt\n",
    "\n",
    "import cv2\n",
    "import mediapipe as mp\n",
    "\n",
    "import math\n",
    "\n",
    "import os\n",
    "import pickle\n",
    "\n",
    "from joblib import load\n",
    "\n",
    "from sklearn.model_selection import train_test_split\n",
    "\n",
    "import sklearn.metrics as metrics\n",
    "from sklearn.metrics import accuracy_score, recall_score, precision_score ,f1_score\n",
    "from sklearn.metrics import classification_report, ConfusionMatrixDisplay, confusion_matrix"
   ]
  },
  {
   "cell_type": "code",
   "execution_count": 2,
   "id": "55838d21",
   "metadata": {},
   "outputs": [],
   "source": [
    "knc_model = load('knc-squat-mistakes.joblib')\n",
    "gnb_model = load('gnb-squat-mistakes.joblib')\n",
    "mlp_model = load('mlp-squat-mistakes.joblib')\n",
    "mnb_model = load('mnb-squat-mistakes.joblib')\n",
    "svc_model = load('svc-squat-mistakes.joblib')\n",
    "\n",
    "all_videos = pickle.load(open('all-squats.dump', 'rb'))"
   ]
  },
  {
   "cell_type": "code",
   "execution_count": 3,
   "id": "4eba85d4",
   "metadata": {},
   "outputs": [
    {
     "data": {
      "text/plain": [
       "90"
      ]
     },
     "execution_count": 3,
     "metadata": {},
     "output_type": "execute_result"
    }
   ],
   "source": [
    "len(all_videos)"
   ]
  },
  {
   "cell_type": "markdown",
   "id": "f2bf6f5c",
   "metadata": {},
   "source": [
    "# 1. Setup Testing Set"
   ]
  },
  {
   "cell_type": "code",
   "execution_count": 4,
   "id": "118044f9",
   "metadata": {},
   "outputs": [],
   "source": [
    "X = []\n",
    "y = []\n",
    "\n",
    "for i in all_videos:\n",
    "    X.append(i[1])\n",
    "    y.append(i[0])"
   ]
  },
  {
   "cell_type": "code",
   "execution_count": 5,
   "id": "279c0948",
   "metadata": {},
   "outputs": [
    {
     "name": "stdout",
     "output_type": "stream",
     "text": [
      "30 30\n"
     ]
    }
   ],
   "source": [
    "_, X_test, _, y_test = train_test_split(X, y, test_size=0.33, random_state=42)\n",
    "print(len(X_test), len(y_test))"
   ]
  },
  {
   "cell_type": "markdown",
   "id": "3002a4b9",
   "metadata": {},
   "source": [
    "The same seed is used as in label-frames notebook, so the same test set is created. We don't need the training set in this notebook, the training set is used in label-frames."
   ]
  },
  {
   "cell_type": "code",
   "execution_count": 6,
   "id": "5caddd0f",
   "metadata": {},
   "outputs": [
    {
     "data": {
      "text/plain": [
       "['leaning',\n",
       " 'good',\n",
       " 'leaning',\n",
       " 'parallel',\n",
       " 'good',\n",
       " 'good',\n",
       " 'leaning',\n",
       " 'parallel',\n",
       " 'good',\n",
       " 'leaning',\n",
       " 'parallel',\n",
       " 'leaning',\n",
       " 'leaning',\n",
       " 'parallel',\n",
       " 'good',\n",
       " 'good',\n",
       " 'good',\n",
       " 'good',\n",
       " 'leaning',\n",
       " 'leaning',\n",
       " 'parallel',\n",
       " 'parallel',\n",
       " 'parallel',\n",
       " 'good',\n",
       " 'leaning',\n",
       " 'good',\n",
       " 'parallel',\n",
       " 'parallel',\n",
       " 'good',\n",
       " 'parallel']"
      ]
     },
     "execution_count": 6,
     "metadata": {},
     "output_type": "execute_result"
    }
   ],
   "source": [
    "y_test # A list of the labels"
   ]
  },
  {
   "cell_type": "markdown",
   "id": "4949ac20",
   "metadata": {},
   "source": [
    "# 2. Evaluate Models"
   ]
  },
  {
   "cell_type": "code",
   "execution_count": 7,
   "id": "7d98ec1a",
   "metadata": {},
   "outputs": [],
   "source": [
    "labels= ['good', 'leaning', 'parallel']\n",
    "model_scores = [] # Used for comparing different model's scores\n",
    "\n",
    "def evaluate_model(model_name, prediction, display_matrix=False):\n",
    "    acc = metrics.accuracy_score(y_test, prediction)\n",
    "    f1 = f1_score(y_test, prediction, average='micro')\n",
    "    precision = precision_score(y_test, prediction, average='macro')\n",
    "    recall = recall_score(y_test, prediction, average='macro')\n",
    "\n",
    "    model_metrics = {'Classifier': model_name, \n",
    "                   'Accuracy': acc, \n",
    "                   'Precision': precision, \n",
    "                   'Recall': recall,\n",
    "                   'F1 Score': f1}\n",
    "\n",
    "    if display_matrix: \n",
    "        cm = confusion_matrix(y_test, prediction, labels=labels)\n",
    "        disp = ConfusionMatrixDisplay(confusion_matrix=cm, display_labels=labels)\n",
    "        disp.plot()\n",
    "        plt.title(model_name)\n",
    "        plt.show()\n",
    "\n",
    "    return model_metrics"
   ]
  },
  {
   "cell_type": "code",
   "execution_count": 8,
   "id": "c0ea1d1c",
   "metadata": {},
   "outputs": [],
   "source": [
    "# Get the angle between 3 keypoint's coordinates\n",
    "# INPUT: frame (dictonary storing the coordinates of all the keypoints), the keypoint numbers\n",
    "# OUTPUT: angle as float\n",
    "def get_angle(frame, keypoint_1, keypoint_2, keypoint_3):\n",
    "    a = np.array([frame['x'+str(keypoint_1)], frame['y'+str(keypoint_1)]]) # First\n",
    "    b = np.array([frame['x'+str(keypoint_2)], frame['y'+str(keypoint_2)]]) # Mid\n",
    "    c = np.array([frame['x'+str(keypoint_3)], frame['y'+str(keypoint_3)]]) # End\n",
    "    \n",
    "    ba = a - b\n",
    "    bc = c - b\n",
    "    \n",
    "    cosine_angle = np.dot(ba, bc) / (np.linalg.norm(ba) * np.linalg.norm(bc))\n",
    "    angle = math.degrees(np.arccos(cosine_angle))\n",
    "    \n",
    "    if angle > 180.0:\n",
    "        angle = 360 - angle\n",
    "        \n",
    "    return angle\n",
    "\n",
    "\n",
    "# Get the y differnece between two keypoints in a frame\n",
    "# INPUT: frame (dictionary of keypoints to coordinates) and the 2 keypoints\n",
    "# OUPUT: absolute value of the difference\n",
    "def get_y_difference(frame, keypoint_1, keypoint_2):\n",
    "    return abs(frame['y'+str(keypoint_1)] - frame['y'+str(keypoint_2)])"
   ]
  },
  {
   "cell_type": "markdown",
   "id": "1c4f791c",
   "metadata": {},
   "source": [
    "Using the three features extracted in label-frames:\n",
    "   - Hip angle (via keypoints  11, 23, 25)\n",
    "   - The absoulte difference between knee (23) and hip (25) keypoints\n",
    "   - Knee angle (via keypoints 23, 25, 27)\n",
    "   \n",
    "First we have to set up the functions that calculate these heuristics."
   ]
  },
  {
   "cell_type": "code",
   "execution_count": 9,
   "id": "6d3578fa",
   "metadata": {},
   "outputs": [],
   "source": [
    "# Function to search through all the frames in the video and label whole video with feature extraction\n",
    "# INPUT: list of frames with the coordinates of the keypoints (landmarks) in each frame and the trained model\n",
    "# OUTPUT: string of the label outputted by the trained model\n",
    "def label_video(frames, model):\n",
    "    # By default, the video is labelled as not parallel until a frame with a mistake is found or goes parallel\n",
    "    label = 'parallel'\n",
    "    \n",
    "    for f in frames:\n",
    "        # Setup heuristic values for input into model\n",
    "        heuristics = {}\n",
    "        \n",
    "        heuristics['hip_angle'] = get_angle(f['coordinates'], 11, 23, 25)\n",
    "        heuristics['knee_hip_difference'] = get_y_difference(f['coordinates'], 23, 25)\n",
    "        heuristics['knee_angle'] = get_angle(f['coordinates'], 23, 25, 27)\n",
    "        \n",
    "        prediction = model.predict(pd.DataFrame([heuristics]))[0]\n",
    "        \n",
    "        # Frame with a mistake is found\n",
    "        if prediction != 'parallel':\n",
    "            return prediction\n",
    "        \n",
    "    return label"
   ]
  },
  {
   "cell_type": "markdown",
   "id": "3180677b",
   "metadata": {},
   "source": [
    "## KNC Model"
   ]
  },
  {
   "cell_type": "code",
   "execution_count": 10,
   "id": "2b8830e5",
   "metadata": {},
   "outputs": [
    {
     "data": {
      "image/png": "[encoded data removed]",
      "text/plain": [
       "<Figure size 432x288 with 2 Axes>"
      ]
     },
     "metadata": {
      "needs_background": "light"
     },
     "output_type": "display_data"
    },
    {
     "name": "stdout",
     "output_type": "stream",
     "text": [
      "{'Classifier': 'KNN', 'Accuracy': 0.5666666666666667, 'Precision': 0.8194444444444443, 'Recall': 0.5407407407407407, 'F1 Score': 0.5666666666666667}\n"
     ]
    }
   ],
   "source": [
    "y_pred = []\n",
    "\n",
    "# Make predictions and populate y_pred\n",
    "for video in X_test:\n",
    "    y_pred.append(label_video(video, knc_model))\n",
    "    \n",
    "scores = evaluate_model('KNN', y_pred, True)\n",
    "model_scores.append(scores)\n",
    "print(scores)"
   ]
  },
  {
   "cell_type": "markdown",
   "id": "6b969e9f",
   "metadata": {},
   "source": [
    "## Neural Network Model"
   ]
  },
  {
   "cell_type": "code",
   "execution_count": 11,
   "id": "1535e9e9",
   "metadata": {},
   "outputs": [
    {
     "data": {
      "image/png": "[encoded data removed]",
      "text/plain": [
       "<Figure size 432x288 with 2 Axes>"
      ]
     },
     "metadata": {
      "needs_background": "light"
     },
     "output_type": "display_data"
    },
    {
     "name": "stdout",
     "output_type": "stream",
     "text": [
      "{'Classifier': 'Neural Network', 'Accuracy': 0.8, 'Precision': 0.8518518518518517, 'Recall': 0.7993265993265993, 'F1 Score': 0.8000000000000002}\n"
     ]
    }
   ],
   "source": [
    "y_pred = []\n",
    "\n",
    "# Make predictions and populate y_pred\n",
    "for video in X_test:\n",
    "    y_pred.append(label_video(video, mlp_model))\n",
    "    \n",
    "scores = evaluate_model('Neural Network', y_pred, True)\n",
    "model_scores.append(scores)\n",
    "print(scores)"
   ]
  },
  {
   "cell_type": "code",
   "execution_count": 12,
   "id": "779e3498",
   "metadata": {},
   "outputs": [
    {
     "name": "stdout",
     "output_type": "stream",
     "text": [
      "              precision    recall  f1-score   support\n",
      "\n",
      "        good       0.67      0.91      0.77        11\n",
      "     leaning       0.89      0.89      0.89         9\n",
      "    parallel       1.00      0.60      0.75        10\n",
      "\n",
      "    accuracy                           0.80        30\n",
      "   macro avg       0.85      0.80      0.80        30\n",
      "weighted avg       0.84      0.80      0.80        30\n",
      "\n"
     ]
    }
   ],
   "source": [
    "print(classification_report(y_test, y_pred, target_names=labels))"
   ]
  },
  {
   "cell_type": "markdown",
   "id": "6b86db87",
   "metadata": {},
   "source": [
    "## Gaussian NB Model"
   ]
  },
  {
   "cell_type": "code",
   "execution_count": 13,
   "id": "9ae75640",
   "metadata": {},
   "outputs": [
    {
     "data": {
      "image/png": "[encoded data removed]",
      "text/plain": [
       "<Figure size 432x288 with 2 Axes>"
      ]
     },
     "metadata": {
      "needs_background": "light"
     },
     "output_type": "display_data"
    },
    {
     "name": "stdout",
     "output_type": "stream",
     "text": [
      "{'Classifier': 'GaussianNB', 'Accuracy': 0.7333333333333333, 'Precision': 0.7373737373737373, 'Recall': 0.7373737373737373, 'F1 Score': 0.7333333333333333}\n"
     ]
    }
   ],
   "source": [
    "y_pred = []\n",
    "\n",
    "# Make predictions and populate y_pred\n",
    "for video in X_test:\n",
    "    y_pred.append(label_video(video, gnb_model))\n",
    "    \n",
    "scores = evaluate_model('GaussianNB', y_pred, True)\n",
    "model_scores.append(scores)\n",
    "print(scores)"
   ]
  },
  {
   "cell_type": "markdown",
   "id": "96e347a8",
   "metadata": {},
   "source": [
    "## Multinomial NB Model"
   ]
  },
  {
   "cell_type": "code",
   "execution_count": 14,
   "id": "3ae87401",
   "metadata": {},
   "outputs": [
    {
     "data": {
      "image/png": "[encoded data removed]",
      "text/plain": [
       "<Figure size 432x288 with 2 Axes>"
      ]
     },
     "metadata": {
      "needs_background": "light"
     },
     "output_type": "display_data"
    },
    {
     "name": "stdout",
     "output_type": "stream",
     "text": [
      "{'Classifier': 'MultinomialNB', 'Accuracy': 0.8, 'Precision': 0.8141025641025642, 'Recall': 0.8060606060606061, 'F1 Score': 0.8000000000000002}\n"
     ]
    }
   ],
   "source": [
    "y_pred = []\n",
    "\n",
    "# Make predictions and populate y_pred\n",
    "for video in X_test:\n",
    "    y_pred.append(label_video(video, mnb_model))\n",
    "    \n",
    "scores = evaluate_model('MultinomialNB', y_pred, True)\n",
    "model_scores.append(scores)\n",
    "print(scores)"
   ]
  },
  {
   "cell_type": "markdown",
   "id": "bac4e7c1",
   "metadata": {},
   "source": [
    "## Linear SVC Model"
   ]
  },
  {
   "cell_type": "code",
   "execution_count": 15,
   "id": "ef0c5fca",
   "metadata": {},
   "outputs": [
    {
     "data": {
      "image/png": "[encoded data removed]",
      "text/plain": [
       "<Figure size 432x288 with 2 Axes>"
      ]
     },
     "metadata": {
      "needs_background": "light"
     },
     "output_type": "display_data"
    },
    {
     "name": "stdout",
     "output_type": "stream",
     "text": [
      "{'Classifier': 'LinearSVC', 'Accuracy': 0.8, 'Precision': 0.8368298368298368, 'Recall': 0.8060606060606061, 'F1 Score': 0.8000000000000002}\n"
     ]
    }
   ],
   "source": [
    "y_pred = []\n",
    "\n",
    "# Make predictions and populate y_pred\n",
    "for video in X_test:\n",
    "    y_pred.append(label_video(video, svc_model))\n",
    "    \n",
    "scores = evaluate_model('LinearSVC', y_pred, True)\n",
    "model_scores.append(scores)\n",
    "print(scores)"
   ]
  },
  {
   "cell_type": "markdown",
   "id": "d2afe89c",
   "metadata": {},
   "source": [
    "## Best Performers"
   ]
  },
  {
   "cell_type": "code",
   "execution_count": 16,
   "id": "4169f56e",
   "metadata": {},
   "outputs": [
    {
     "data": {
      "text/html": [
       "<div>\n",
       "<style scoped>\n",
       "    .dataframe tbody tr th:only-of-type {\n",
       "        vertical-align: middle;\n",
       "    }\n",
       "\n",
       "    .dataframe tbody tr th {\n",
       "        vertical-align: top;\n",
       "    }\n",
       "\n",
       "    .dataframe thead th {\n",
       "        text-align: right;\n",
       "    }\n",
       "</style>\n",
       "<table border=\"1\" class=\"dataframe\">\n",
       "  <thead>\n",
       "    <tr style=\"text-align: right;\">\n",
       "      <th></th>\n",
       "      <th>Classifier</th>\n",
       "      <th>Accuracy</th>\n",
       "      <th>Precision</th>\n",
       "      <th>Recall</th>\n",
       "      <th>F1 Score</th>\n",
       "    </tr>\n",
       "  </thead>\n",
       "  <tbody>\n",
       "    <tr>\n",
       "      <th>1</th>\n",
       "      <td>Neural Network</td>\n",
       "      <td>0.800000</td>\n",
       "      <td>0.851852</td>\n",
       "      <td>0.799327</td>\n",
       "      <td>0.800000</td>\n",
       "    </tr>\n",
       "    <tr>\n",
       "      <th>3</th>\n",
       "      <td>MultinomialNB</td>\n",
       "      <td>0.800000</td>\n",
       "      <td>0.814103</td>\n",
       "      <td>0.806061</td>\n",
       "      <td>0.800000</td>\n",
       "    </tr>\n",
       "    <tr>\n",
       "      <th>4</th>\n",
       "      <td>LinearSVC</td>\n",
       "      <td>0.800000</td>\n",
       "      <td>0.836830</td>\n",
       "      <td>0.806061</td>\n",
       "      <td>0.800000</td>\n",
       "    </tr>\n",
       "    <tr>\n",
       "      <th>2</th>\n",
       "      <td>GaussianNB</td>\n",
       "      <td>0.733333</td>\n",
       "      <td>0.737374</td>\n",
       "      <td>0.737374</td>\n",
       "      <td>0.733333</td>\n",
       "    </tr>\n",
       "    <tr>\n",
       "      <th>0</th>\n",
       "      <td>KNN</td>\n",
       "      <td>0.566667</td>\n",
       "      <td>0.819444</td>\n",
       "      <td>0.540741</td>\n",
       "      <td>0.566667</td>\n",
       "    </tr>\n",
       "  </tbody>\n",
       "</table>\n",
       "</div>"
      ],
      "text/plain": [
       "       Classifier  Accuracy  Precision    Recall  F1 Score\n",
       "1  Neural Network  0.800000   0.851852  0.799327  0.800000\n",
       "3   MultinomialNB  0.800000   0.814103  0.806061  0.800000\n",
       "4       LinearSVC  0.800000   0.836830  0.806061  0.800000\n",
       "2      GaussianNB  0.733333   0.737374  0.737374  0.733333\n",
       "0             KNN  0.566667   0.819444  0.540741  0.566667"
      ]
     },
     "execution_count": 16,
     "metadata": {},
     "output_type": "execute_result"
    }
   ],
   "source": [
    "eval_scores = pd.DataFrame(model_scores)\n",
    "eval_scores = eval_scores.sort_values(by = ['F1 Score'], ascending = False)\n",
    "eval_scores"
   ]
  }
 ],
 "metadata": {
  "kernelspec": {
   "display_name": "Python 3",
   "language": "python",
   "name": "python3"
  },
  "language_info": {
   "codemirror_mode": {
    "name": "ipython",
    "version": 3
   },
   "file_extension": ".py",
   "mimetype": "text/x-python",
   "name": "python",
   "nbconvert_exporter": "python",
   "pygments_lexer": "ipython3",
   "version": "3.8.8"
  }
 },
 "nbformat": 4,
 "nbformat_minor": 5
}
