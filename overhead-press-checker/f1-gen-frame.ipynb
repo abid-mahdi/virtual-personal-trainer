{
 "cells": [
  {
   "cell_type": "markdown",
   "id": "06c10eca",
   "metadata": {},
   "source": [
    "# Frame Analysis F1 Score Generator"
   ]
  },
  {
   "cell_type": "markdown",
   "id": "e0b3b18c",
   "metadata": {},
   "source": [
    "Author: Abid Mahdi, University of Southampton. 28/03/2022. am14g19@soton.ac.uk.\n",
    "\n",
    "This notebook tests how good a trained frame-by-frame analysis model is by generating an F1 score for a dataset of overhead press. \n",
    "\n",
    "Input: tuples of the overhead press videos and trained frame analysis models.\n",
    "\n",
    "## TOC:\n",
    "0. [Import Libraries & Setup](#0.-Import-Libraries-&-Setup)\n",
    "1. [Setup Testing Set](#1.-Setup-Testing-Set)\n",
    "2. [Evaluate Models](#2.-Evaluate-Models)\n",
    "    * [Linear SVC](#Linear-SVC-Model)\n",
    "    * [Nearest Neigbours](#KNC-Model)\n",
    "    * [Neural Network](#MLP-Model)\n",
    "    * [Gaussian NB]()"
   ]
  },
  {
   "cell_type": "code",
   "execution_count": 1,
   "id": "8d908534",
   "metadata": {},
   "outputs": [],
   "source": [
    "import numpy as np\n",
    "import pandas as pd\n",
    "import matplotlib.pyplot as plt\n",
    "\n",
    "import cv2\n",
    "import mediapipe as mp\n",
    "\n",
    "import math\n",
    "\n",
    "import os\n",
    "import pickle\n",
    "\n",
    "from joblib import load\n",
    "\n",
    "import sklearn.metrics as metrics\n",
    "from sklearn.metrics import accuracy_score, recall_score, precision_score ,f1_score\n",
    "from sklearn.metrics import classification_report, ConfusionMatrixDisplay, confusion_matrix"
   ]
  },
  {
   "cell_type": "code",
   "execution_count": 2,
   "id": "55838d21",
   "metadata": {},
   "outputs": [],
   "source": [
    "svc_model = load('svc-overhead-press-mistakes.joblib')\n",
    "knc_model = load('knc-overhead-press-mistakes.joblib')\n",
    "gnb_model = load('gnb-overhead-press-mistakes.joblib')\n",
    "mlp_model = load('mlp-overhead-press-mistakes.joblib')\n",
    "\n",
    "all_videos = pickle.load(open('all-overhead-press.dump', 'rb'))"
   ]
  },
  {
   "cell_type": "code",
   "execution_count": 3,
   "id": "4eba85d4",
   "metadata": {},
   "outputs": [
    {
     "data": {
      "text/plain": [
       "134"
      ]
     },
     "execution_count": 3,
     "metadata": {},
     "output_type": "execute_result"
    }
   ],
   "source": [
    "len(all_videos)"
   ]
  },
  {
   "cell_type": "markdown",
   "id": "f2bf6f5c",
   "metadata": {},
   "source": [
    "# 1. Setup Testing Set"
   ]
  },
  {
   "cell_type": "code",
   "execution_count": 4,
   "id": "118044f9",
   "metadata": {},
   "outputs": [],
   "source": [
    "X = []\n",
    "y = []\n",
    "\n",
    "for i in all_videos:\n",
    "    X.append(i[1])\n",
    "    y.append(i[0])"
   ]
  },
  {
   "cell_type": "code",
   "execution_count": 5,
   "id": "279c0948",
   "metadata": {},
   "outputs": [
    {
     "name": "stdout",
     "output_type": "stream",
     "text": [
      "45 45\n"
     ]
    }
   ],
   "source": [
    "from sklearn.model_selection import train_test_split\n",
    "\n",
    "_, X_test, _, y_test = train_test_split(X, y, test_size=0.33, random_state=42)\n",
    "print(len(X_test), len(y_test))"
   ]
  },
  {
   "cell_type": "markdown",
   "id": "97b37dc6",
   "metadata": {},
   "source": [
    "The same seed is used as in label-frames notebook, so the same test set is created. We don't need the training set in this notebook, the training set is used in label-frames."
   ]
  },
  {
   "cell_type": "code",
   "execution_count": 6,
   "id": "5caddd0f",
   "metadata": {},
   "outputs": [
    {
     "data": {
      "text/plain": [
       "['good',\n",
       " 'knees',\n",
       " 'good',\n",
       " 'forward',\n",
       " 'back',\n",
       " 'knees',\n",
       " 'forward',\n",
       " 'good',\n",
       " 'good',\n",
       " 'good',\n",
       " 'back',\n",
       " 'back',\n",
       " 'back',\n",
       " 'back',\n",
       " 'knees',\n",
       " 'back',\n",
       " 'knees',\n",
       " 'forward',\n",
       " 'knees',\n",
       " 'good',\n",
       " 'knees',\n",
       " 'back',\n",
       " 'forward',\n",
       " 'forward',\n",
       " 'forward',\n",
       " 'good',\n",
       " 'back',\n",
       " 'forward',\n",
       " 'knees',\n",
       " 'good',\n",
       " 'good',\n",
       " 'good',\n",
       " 'back',\n",
       " 'forward',\n",
       " 'knees',\n",
       " 'knees',\n",
       " 'back',\n",
       " 'knees',\n",
       " 'good',\n",
       " 'good',\n",
       " 'forward',\n",
       " 'knees',\n",
       " 'good',\n",
       " 'back',\n",
       " 'good']"
      ]
     },
     "execution_count": 6,
     "metadata": {},
     "output_type": "execute_result"
    }
   ],
   "source": [
    "y_test # A list of the labels"
   ]
  },
  {
   "cell_type": "markdown",
   "id": "4949ac20",
   "metadata": {},
   "source": [
    "# 2. Evaluate Models"
   ]
  },
  {
   "cell_type": "code",
   "execution_count": 7,
   "id": "7d98ec1a",
   "metadata": {},
   "outputs": [],
   "source": [
    "labels= ['back', 'forward', 'good', 'knees']\n",
    "\n",
    "def evaluate_model(model_name, prediction, display_matrix=False):\n",
    "    acc = metrics.accuracy_score(y_test, prediction)\n",
    "    f1 = f1_score(y_test, prediction, average='micro')\n",
    "    precision = precision_score(y_test, prediction, average='macro')\n",
    "    recall = recall_score(y_test, prediction, average='macro')\n",
    "\n",
    "    model_metrics = {'Classifier': model_name, \n",
    "                   'Accuracy': acc, \n",
    "                   'Precision': precision, \n",
    "                   'Recall': recall,\n",
    "                   'F1 Score': f1}\n",
    "\n",
    "    if display_matrix:\n",
    "        cm = confusion_matrix(y_test, prediction, labels=labels)\n",
    "        disp = ConfusionMatrixDisplay(confusion_matrix=cm, display_labels=labels)\n",
    "        disp.plot()\n",
    "        plt.title(model_name)\n",
    "        plt.show()\n",
    "\n",
    "    return model_metrics"
   ]
  },
  {
   "cell_type": "code",
   "execution_count": 8,
   "id": "984df780",
   "metadata": {},
   "outputs": [],
   "source": [
    "# Get the angle between 3 keypoint's coordinates\n",
    "# INPUT: frame (dictonary storing the coordinates of all the keypoints), the keypoint numbers\n",
    "# OUTPUT: angle as float\n",
    "def get_angle(frame, keypoint_1, keypoint_2, keypoint_3):\n",
    "    a = np.array([frame['x'+str(keypoint_1)], frame['y'+str(keypoint_1)]]) # First\n",
    "    b = np.array([frame['x'+str(keypoint_2)], frame['y'+str(keypoint_2)]]) # Mid\n",
    "    c = np.array([frame['x'+str(keypoint_3)], frame['y'+str(keypoint_3)]]) # End\n",
    "    \n",
    "    ba = a - b\n",
    "    bc = c - b\n",
    "    \n",
    "    cosine_angle = np.dot(ba, bc) / (np.linalg.norm(ba) * np.linalg.norm(bc))\n",
    "    angle = math.degrees(np.arccos(cosine_angle))\n",
    "    \n",
    "    if angle > 180.0:\n",
    "        angle = 360 - angle\n",
    "        \n",
    "    return angle"
   ]
  },
  {
   "cell_type": "markdown",
   "id": "0245229e",
   "metadata": {},
   "source": [
    "Using the three features extracted in label-frames:\n",
    "   - Hip angle (via keypoints  11, 23, 25)\n",
    "   - Bicep angle (via keypoints 11, 13, 15)\n",
    "   - Knee angle (via keypoints 23, 25, 27)\n",
    "   \n",
    "First we have to set up the functions that calculate these heuristics."
   ]
  },
  {
   "cell_type": "code",
   "execution_count": 9,
   "id": "5eec6453",
   "metadata": {},
   "outputs": [],
   "source": [
    "# Function to search through all the frames in the video and label whole video with feature extraction\n",
    "# INPUT: list of frames with the coordinates of the keypoints (landmarks) in each frame and the trained model\n",
    "# OUTPUT: string of the label outputted by the trained model\n",
    "def label_video(frames, model):\n",
    "    # By default, the video is labelled as not parallel until a frame with a mistake is found or goes parallel\n",
    "    label = 'good'\n",
    "    \n",
    "    for f in frames:\n",
    "        # Setup heuristic values for input into model\n",
    "        heuristics = {}\n",
    "        \n",
    "        heuristics['hip_angle'] = get_angle(f['coordinates'], 11, 23, 25)\n",
    "        heuristics['bicep_angle'] = get_angle(f['coordinates'], 11, 13, 15)\n",
    "        heuristics['knee_angle'] = get_angle(f['coordinates'], 23, 25, 27)\n",
    "        heuristics['foot_angle'] = get_angle(f['coordinates'], 25, 27, 31)\n",
    "        heuristics['elbow_hip_angle'] = get_angle(f['coordinates'], 13, 11, 23)\n",
    " \n",
    "        prediction = model.predict(pd.DataFrame([heuristics]))[0]\n",
    "        \n",
    "        # Frame with a mistake is found\n",
    "        if prediction != 'good':\n",
    "            return prediction\n",
    "        \n",
    "    return label"
   ]
  },
  {
   "cell_type": "markdown",
   "id": "06f95a1d",
   "metadata": {},
   "source": [
    "## Linear SVC Model"
   ]
  },
  {
   "cell_type": "code",
   "execution_count": 10,
   "id": "f498690d",
   "metadata": {},
   "outputs": [],
   "source": [
    "y_pred = []\n",
    "\n",
    "# Make predictions and populate y_pred\n",
    "for video in X_test:\n",
    "    y_pred.append(label_video(video, svc_model))"
   ]
  },
  {
   "cell_type": "code",
   "execution_count": 11,
   "id": "941b8d40",
   "metadata": {
    "scrolled": true
   },
   "outputs": [
    {
     "data": {
      "text/plain": [
       "['good',\n",
       " 'back',\n",
       " 'good',\n",
       " 'forward',\n",
       " 'back',\n",
       " 'back',\n",
       " 'forward',\n",
       " 'good',\n",
       " 'good',\n",
       " 'good',\n",
       " 'back',\n",
       " 'back',\n",
       " 'back',\n",
       " 'back',\n",
       " 'back',\n",
       " 'back',\n",
       " 'knees',\n",
       " 'forward',\n",
       " 'back',\n",
       " 'good',\n",
       " 'knees',\n",
       " 'back',\n",
       " 'forward',\n",
       " 'forward',\n",
       " 'forward',\n",
       " 'good',\n",
       " 'back',\n",
       " 'forward',\n",
       " 'knees',\n",
       " 'good',\n",
       " 'good',\n",
       " 'good',\n",
       " 'back',\n",
       " 'forward',\n",
       " 'back',\n",
       " 'back',\n",
       " 'back',\n",
       " 'knees',\n",
       " 'good',\n",
       " 'good',\n",
       " 'forward',\n",
       " 'back',\n",
       " 'good',\n",
       " 'back',\n",
       " 'good']"
      ]
     },
     "execution_count": 11,
     "metadata": {},
     "output_type": "execute_result"
    }
   ],
   "source": [
    "y_pred"
   ]
  },
  {
   "cell_type": "code",
   "execution_count": 12,
   "id": "180e5401",
   "metadata": {},
   "outputs": [
    {
     "data": {
      "image/png": "[encoded data removed]",
      "text/plain": [
       "<Figure size 432x288 with 2 Axes>"
      ]
     },
     "metadata": {
      "needs_background": "light"
     },
     "output_type": "display_data"
    },
    {
     "data": {
      "text/plain": [
       "{'Classifier': 'Linear SVC',\n",
       " 'Accuracy': 0.8444444444444444,\n",
       " 'Precision': 0.9027777777777778,\n",
       " 'Recall': 0.8409090909090909,\n",
       " 'F1 Score': 0.8444444444444444}"
      ]
     },
     "execution_count": 12,
     "metadata": {},
     "output_type": "execute_result"
    }
   ],
   "source": [
    "evaluate_model('Linear SVC', y_pred, True)"
   ]
  },
  {
   "cell_type": "code",
   "execution_count": 13,
   "id": "21573092",
   "metadata": {},
   "outputs": [
    {
     "name": "stdout",
     "output_type": "stream",
     "text": [
      "              precision    recall  f1-score   support\n",
      "\n",
      "        back       0.61      1.00      0.76        11\n",
      "     forward       1.00      1.00      1.00         9\n",
      "        good       1.00      1.00      1.00        14\n",
      "       knees       1.00      0.36      0.53        11\n",
      "\n",
      "    accuracy                           0.84        45\n",
      "   macro avg       0.90      0.84      0.82        45\n",
      "weighted avg       0.90      0.84      0.83        45\n",
      "\n"
     ]
    }
   ],
   "source": [
    "print(classification_report(y_test, y_pred, target_names=labels))"
   ]
  },
  {
   "cell_type": "markdown",
   "id": "785d73d6",
   "metadata": {},
   "source": [
    "## KNC Model"
   ]
  },
  {
   "cell_type": "code",
   "execution_count": 14,
   "id": "a1977ab3",
   "metadata": {},
   "outputs": [],
   "source": [
    "y_pred = []\n",
    "\n",
    "# Make predictions and populate y_pred\n",
    "for video in X_test:\n",
    "    y_pred.append(label_video(video, knc_model))"
   ]
  },
  {
   "cell_type": "code",
   "execution_count": 15,
   "id": "496abac0",
   "metadata": {},
   "outputs": [
    {
     "name": "stderr",
     "output_type": "stream",
     "text": [
      "C:\\Users\\abid5.000\\anaconda3\\lib\\site-packages\\sklearn\\metrics\\_classification.py:1245: UndefinedMetricWarning: Precision is ill-defined and being set to 0.0 in labels with no predicted samples. Use `zero_division` parameter to control this behavior.\n",
      "  _warn_prf(average, modifier, msg_start, len(result))\n"
     ]
    },
    {
     "data": {
      "image/png": "[encoded data removed]",
      "text/plain": [
       "<Figure size 432x288 with 2 Axes>"
      ]
     },
     "metadata": {
      "needs_background": "light"
     },
     "output_type": "display_data"
    },
    {
     "data": {
      "text/plain": [
       "{'Classifier': 'KNN',\n",
       " 'Accuracy': 0.7555555555555555,\n",
       " 'Precision': 0.625,\n",
       " 'Recall': 0.75,\n",
       " 'F1 Score': 0.7555555555555555}"
      ]
     },
     "execution_count": 15,
     "metadata": {},
     "output_type": "execute_result"
    }
   ],
   "source": [
    "evaluate_model('KNN', y_pred, True)"
   ]
  },
  {
   "cell_type": "markdown",
   "id": "27913609",
   "metadata": {},
   "source": [
    "## MLP Model"
   ]
  },
  {
   "cell_type": "code",
   "execution_count": 16,
   "id": "67d46e5f",
   "metadata": {},
   "outputs": [
    {
     "name": "stderr",
     "output_type": "stream",
     "text": [
      "C:\\Users\\abid5.000\\anaconda3\\lib\\site-packages\\sklearn\\metrics\\_classification.py:1245: UndefinedMetricWarning: Precision is ill-defined and being set to 0.0 in labels with no predicted samples. Use `zero_division` parameter to control this behavior.\n",
      "  _warn_prf(average, modifier, msg_start, len(result))\n"
     ]
    },
    {
     "data": {
      "image/png": "[encoded data removed]",
      "text/plain": [
       "<Figure size 432x288 with 2 Axes>"
      ]
     },
     "metadata": {
      "needs_background": "light"
     },
     "output_type": "display_data"
    },
    {
     "data": {
      "text/plain": [
       "{'Classifier': 'MLP',\n",
       " 'Accuracy': 0.5111111111111111,\n",
       " 'Precision': 0.5833333333333333,\n",
       " 'Recall': 0.5238095238095237,\n",
       " 'F1 Score': 0.5111111111111111}"
      ]
     },
     "execution_count": 16,
     "metadata": {},
     "output_type": "execute_result"
    }
   ],
   "source": [
    "y_pred = []\n",
    "\n",
    "# Make predictions and populate y_pred\n",
    "for video in X_test:\n",
    "    y_pred.append(label_video(video, mlp_model))\n",
    "    \n",
    "evaluate_model('MLP', y_pred, True)"
   ]
  },
  {
   "cell_type": "markdown",
   "id": "c5522b3a",
   "metadata": {},
   "source": [
    "## Gaussian NB Model"
   ]
  },
  {
   "cell_type": "code",
   "execution_count": 17,
   "id": "325654cc",
   "metadata": {},
   "outputs": [
    {
     "name": "stderr",
     "output_type": "stream",
     "text": [
      "C:\\Users\\abid5.000\\anaconda3\\lib\\site-packages\\sklearn\\metrics\\_classification.py:1245: UndefinedMetricWarning: Precision is ill-defined and being set to 0.0 in labels with no predicted samples. Use `zero_division` parameter to control this behavior.\n",
      "  _warn_prf(average, modifier, msg_start, len(result))\n"
     ]
    },
    {
     "data": {
      "image/png": "[encoded data removed]",
      "text/plain": [
       "<Figure size 432x288 with 2 Axes>"
      ]
     },
     "metadata": {
      "needs_background": "light"
     },
     "output_type": "display_data"
    },
    {
     "data": {
      "text/plain": [
       "{'Classifier': 'Gaussian NB',\n",
       " 'Accuracy': 0.7555555555555555,\n",
       " 'Precision': 0.625,\n",
       " 'Recall': 0.75,\n",
       " 'F1 Score': 0.7555555555555555}"
      ]
     },
     "execution_count": 17,
     "metadata": {},
     "output_type": "execute_result"
    }
   ],
   "source": [
    "y_pred = []\n",
    "\n",
    "# Make predictions and populate y_pred\n",
    "for video in X_test:\n",
    "    y_pred.append(label_video(video, gnb_model))\n",
    "    \n",
    "evaluate_model('Gaussian NB', y_pred, True)"
   ]
  }
 ],
 "metadata": {
  "kernelspec": {
   "display_name": "Python 3",
   "language": "python",
   "name": "python3"
  },
  "language_info": {
   "codemirror_mode": {
    "name": "ipython",
    "version": 3
   },
   "file_extension": ".py",
   "mimetype": "text/x-python",
   "name": "python",
   "nbconvert_exporter": "python",
   "pygments_lexer": "ipython3",
   "version": "3.8.8"
  }
 },
 "nbformat": 4,
 "nbformat_minor": 5
}
