{
 "cells": [
  {
   "cell_type": "markdown",
   "id": "afa1ab1a",
   "metadata": {},
   "source": [
    "# Analysing Form using Sktime Univariate Classification"
   ]
  },
  {
   "cell_type": "markdown",
   "id": "832c6c8c",
   "metadata": {},
   "source": [
    "Author: Abid Mahdi, University of Southampton. 28/03/2022. am14g19@soton.ac.uk.\n",
    "\n",
    "Exploring classifiers to analyse univariate time series of the overhead press dataset.\n",
    "\n",
    "## TOC:\n",
    "0. [Import Libraries & Setup Helper Functions](#0.-Import-Libraries-&-Setup)\n",
    "1. [Setup Training & Testing Sets](#1.-Setup-Training-&-Testing-Sets)\n",
    "2. [Train & Evaluate Models](#2.-Train-&-Evaluate-Models)\n",
    "    * [Using Knee Angle](#Using-Knee-Angle-(23,-25,-27))\n",
    "    * [Using Bicep Angle](#Using-Bicep-Angle-(11,-13,-15))\n",
    "    * [Using Hip Angle](#Using-Hip-Angle-(11,-23,-25))\n",
    "3. [Choosing the Best Model](#3.-Choose-Best-Model)\n",
    "    * [Best for Knee Angle](#Best-Classifier-for-Knee-Angle)\n",
    "    * [Best for Bicep Angle](#Best-Classifier-for-Bicep-Angle)\n",
    "    * [Best for Hip Angle](#Best-Classifier-for-Hip-Angle)"
   ]
  },
  {
   "cell_type": "markdown",
   "id": "f5106dcb",
   "metadata": {},
   "source": [
    "# 0. Import Libraries & Setup"
   ]
  },
  {
   "cell_type": "code",
   "execution_count": 1,
   "id": "4617c9e6",
   "metadata": {},
   "outputs": [
    {
     "name": "stdout",
     "output_type": "stream",
     "text": [
      "Requirement already satisfied: sktime in c:\\users\\abid5.000\\anaconda3\\lib\\site-packages (0.10.1)\n",
      "Requirement already satisfied: statsmodels>=0.12.1 in c:\\users\\abid5.000\\anaconda3\\lib\\site-packages (from sktime) (0.12.2)\n",
      "Requirement already satisfied: numpy<1.22,>=1.21.0 in c:\\users\\abid5.000\\anaconda3\\lib\\site-packages (from sktime) (1.21.5)\n",
      "Requirement already satisfied: numba>=0.53 in c:\\users\\abid5.000\\anaconda3\\lib\\site-packages (from sktime) (0.53.1)\n",
      "Requirement already satisfied: scikit-learn>=0.24.0 in c:\\users\\abid5.000\\anaconda3\\lib\\site-packages (from sktime) (0.24.1)\n",
      "Requirement already satisfied: deprecated>=1.2.13 in c:\\users\\abid5.000\\anaconda3\\lib\\site-packages (from sktime) (1.2.13)\n",
      "Requirement already satisfied: pandas<1.5.0,>=1.1.0 in c:\\users\\abid5.000\\anaconda3\\lib\\site-packages (from sktime) (1.2.4)\n",
      "Requirement already satisfied: scipy<1.8.0 in c:\\users\\abid5.000\\anaconda3\\lib\\site-packages (from sktime) (1.6.2)\n",
      "Requirement already satisfied: wrapt<2,>=1.10 in c:\\users\\abid5.000\\anaconda3\\lib\\site-packages (from deprecated>=1.2.13->sktime) (1.12.1)\n",
      "Requirement already satisfied: llvmlite<0.37,>=0.36.0rc1 in c:\\users\\abid5.000\\anaconda3\\lib\\site-packages (from numba>=0.53->sktime) (0.36.0)\n",
      "Requirement already satisfied: setuptools in c:\\users\\abid5.000\\anaconda3\\lib\\site-packages (from numba>=0.53->sktime) (52.0.0.post20210125)\n",
      "Requirement already satisfied: python-dateutil>=2.7.3 in c:\\users\\abid5.000\\anaconda3\\lib\\site-packages (from pandas<1.5.0,>=1.1.0->sktime) (2.8.1)\n",
      "Requirement already satisfied: pytz>=2017.3 in c:\\users\\abid5.000\\anaconda3\\lib\\site-packages (from pandas<1.5.0,>=1.1.0->sktime) (2021.1)\n",
      "Requirement already satisfied: six>=1.5 in c:\\users\\abid5.000\\anaconda3\\lib\\site-packages (from python-dateutil>=2.7.3->pandas<1.5.0,>=1.1.0->sktime) (1.15.0)\n",
      "Requirement already satisfied: joblib>=0.11 in c:\\users\\abid5.000\\anaconda3\\lib\\site-packages (from scikit-learn>=0.24.0->sktime) (1.0.1)\n",
      "Requirement already satisfied: threadpoolctl>=2.0.0 in c:\\users\\abid5.000\\anaconda3\\lib\\site-packages (from scikit-learn>=0.24.0->sktime) (2.1.0)\n",
      "Requirement already satisfied: patsy>=0.5 in c:\\users\\abid5.000\\anaconda3\\lib\\site-packages (from statsmodels>=0.12.1->sktime) (0.5.1)\n"
     ]
    }
   ],
   "source": [
    "! pip install sktime\n",
    "\n",
    "import sktime\n",
    "from sktime.classification.all import TimeSeriesForestClassifier, KNeighborsTimeSeriesClassifier, ElasticEnsemble, ProximityForest\n",
    "from sktime.classification.shapelet_based import ShapeletTransformClassifier\n",
    "from sktime.classification.kernel_based import Arsenal\n",
    "from sktime.classification.hybrid import HIVECOTEV1\n",
    "from sktime.classification.dictionary_based import IndividualBOSS, BOSSEnsemble, WEASEL, MUSE\n",
    "from sktime.contrib.vector_classifiers._rotation_forest import RotationForest\n",
    "\n",
    "from sklearn.model_selection import train_test_split\n",
    "\n",
    "import sklearn.metrics as metrics\n",
    "from sklearn.metrics import accuracy_score, recall_score, precision_score ,f1_score\n",
    "from sklearn.metrics import classification_report, ConfusionMatrixDisplay, confusion_matrix\n",
    "\n",
    "import pickle\n",
    "import math\n",
    "import pandas as pd\n",
    "import numpy as np\n",
    "import matplotlib.pyplot as plt"
   ]
  },
  {
   "cell_type": "code",
   "execution_count": 2,
   "id": "ac02d2f9",
   "metadata": {},
   "outputs": [],
   "source": [
    "# Load\n",
    "all_videos = pickle.load(open('all-overhead-press.dump', 'rb'))"
   ]
  },
  {
   "cell_type": "code",
   "execution_count": 3,
   "id": "03d4a358",
   "metadata": {},
   "outputs": [],
   "source": [
    "# Find the shortest and longest length video in terms of frame number\n",
    "lengths = []\n",
    "\n",
    "for video in all_videos:\n",
    "    lengths.append(len(video[1]))\n",
    "    \n",
    "shortest_vid = min(lengths)\n",
    "longest_vid = max(lengths)"
   ]
  },
  {
   "cell_type": "code",
   "execution_count": 4,
   "id": "42fbb933",
   "metadata": {},
   "outputs": [],
   "source": [
    "# The list we want to convert has format: [{'frame': num, 'coordinates': {'x1'...'z33'}}]\n",
    "def convert_list_to_df(list_to_convert):\n",
    "    d = {'frame': []}\n",
    "    for i in range(33):\n",
    "        d['x' +  str(i)] = []\n",
    "        d['y' +  str(i)] = []\n",
    "        d['z' +  str(i)] = []\n",
    "    \n",
    "    for frame in list_to_convert:\n",
    "        d['frame'].append(frame['frame'])\n",
    "        for j in range(33):\n",
    "            d['x' +  str(j)].append(frame['coordinates']['x' + str(j)])\n",
    "            d['y' +  str(j)].append(frame['coordinates']['y' + str(j)])\n",
    "            d['z' +  str(j)].append(frame['coordinates']['z' + str(j)])\n",
    "    return d"
   ]
  },
  {
   "cell_type": "code",
   "execution_count": 5,
   "id": "db3b572c",
   "metadata": {},
   "outputs": [],
   "source": [
    "# Get the angle between 3 keypoint's coordinates\n",
    "# INPUT: frame (dictonary storing the coordinates of all the keypoints), the keypoint numbers\n",
    "# OUTPUT: angle as float\n",
    "def get_angle(frame, keypoint_1, keypoint_2, keypoint_3):\n",
    "    a = np.array([frame['x'+str(keypoint_1)], frame['y'+str(keypoint_1)]]) # First\n",
    "    b = np.array([frame['x'+str(keypoint_2)], frame['y'+str(keypoint_2)]]) # Mid\n",
    "    c = np.array([frame['x'+str(keypoint_3)], frame['y'+str(keypoint_3)]]) # End\n",
    "    \n",
    "    ba = a - b\n",
    "    bc = c - b\n",
    "\n",
    "    cosine_angle = np.dot(ba, bc) / (np.linalg.norm(ba) * np.linalg.norm(bc))\n",
    "    angle = math.degrees(np.arccos(cosine_angle))\n",
    "    \n",
    "    if angle > 180.0:\n",
    "        angle = 360 - angle\n",
    "        \n",
    "    return angle"
   ]
  },
  {
   "cell_type": "code",
   "execution_count": 6,
   "id": "5e84d72f",
   "metadata": {},
   "outputs": [],
   "source": [
    "# Change a column in a DataFrame to a Series\n",
    "# Also makes all the series generated from videos the same length\n",
    "# INPUT: Column name and DataFrame we want to extract in form {frame number: value at that frame number}\n",
    "# OUTPUT: Pandas Series of the dictionary formed\n",
    "def df_column_to_series(name, df):\n",
    "    out_dict = {}\n",
    "\n",
    "    largest_frame = 0\n",
    "    \n",
    "    for i in range(longest_vid):\n",
    "        # If the video is shorther than the largest video, fill the values in the series with 0.0\n",
    "        if i >= len(df):\n",
    "            largest_frame += 1\n",
    "            out_dict[largest_frame] = 0.0 \n",
    "        else:\n",
    "            out_dict[int(df.iloc[i]['frame'])-1] = df.iloc[i][name]\n",
    "            largest_frame = int(df.iloc[i]['frame'])-1\n",
    "    \n",
    "    return pd.Series(out_dict)"
   ]
  },
  {
   "cell_type": "markdown",
   "id": "83014a87",
   "metadata": {},
   "source": [
    "In order for sktime univariate classification to work, we need the series to be the same length, but we have videos of different lengths. To account for this we make all the series the same length by zero-padding the end of the series to match the longest length video (the video with the most frames)."
   ]
  },
  {
   "cell_type": "code",
   "execution_count": 7,
   "id": "a2b64445",
   "metadata": {},
   "outputs": [],
   "source": [
    "# Change the shape from: number of frames x features to: 1 x features length for sktime\n",
    "# INPUT: The DataFrame we want to convert\n",
    "# OUTPUT: The new converted DataFrame\n",
    "def df_reshape(df):\n",
    "    data = {}\n",
    "\n",
    "    for col in df.columns:\n",
    "        data[col] = []\n",
    "\n",
    "    for col in df.columns:\n",
    "        data[col].append(df_column_to_series(col, df))\n",
    "\n",
    "    data.pop('frame')\n",
    "    return pd.DataFrame(data)"
   ]
  },
  {
   "cell_type": "markdown",
   "id": "303e1ad2",
   "metadata": {},
   "source": [
    "# 1. Setup Training & Testing Sets"
   ]
  },
  {
   "cell_type": "code",
   "execution_count": 8,
   "id": "82de68ee",
   "metadata": {},
   "outputs": [],
   "source": [
    "# Form the testing and training sets\n",
    "X = []\n",
    "y = []\n",
    "\n",
    "for i in all_videos:\n",
    "    X.append(i[1])\n",
    "    y.append(i[0])\n",
    "\n",
    "from sklearn.model_selection import train_test_split\n",
    "\n",
    "X_train, X_test, y_train, y_test = train_test_split(X, y, test_size=0.33, random_state=42)\n",
    "\n",
    "y_train = pd.Series(y_train)"
   ]
  },
  {
   "attachments": {
    "landmarks.png": {
     "image/png": "[encoded data removed]"
    }
   },
   "cell_type": "markdown",
   "id": "b88e2fa2",
   "metadata": {},
   "source": [
    "![landmarks.png](attachment:landmarks.png)"
   ]
  },
  {
   "cell_type": "code",
   "execution_count": 9,
   "id": "8626089a",
   "metadata": {},
   "outputs": [],
   "source": [
    "# Get data in the right form for the classifiers\n",
    "X_train_df = pd.DataFrame()\n",
    "\n",
    "for vid in X_train:\n",
    "    df = pd.DataFrame(convert_list_to_df(vid)) \n",
    "    \n",
    "    # Extract the useful angles\n",
    "    df['hip_angle'] = df.apply(lambda row: get_angle(row, 11, 23, 25), axis=1)\n",
    "    df['bicep_angle'] = df.apply(lambda row: get_angle(row, 15, 13, 11), axis=1)\n",
    "    df['knee_angle'] = df.apply(lambda row: get_angle(row, 23, 25, 27), axis=1)\n",
    "    \n",
    "    X_train_df = X_train_df.append(df_reshape(df))"
   ]
  },
  {
   "cell_type": "code",
   "execution_count": 10,
   "id": "a0acff0f",
   "metadata": {},
   "outputs": [
    {
     "data": {
      "text/html": [
       "<div>\n",
       "<style scoped>\n",
       "    .dataframe tbody tr th:only-of-type {\n",
       "        vertical-align: middle;\n",
       "    }\n",
       "\n",
       "    .dataframe tbody tr th {\n",
       "        vertical-align: top;\n",
       "    }\n",
       "\n",
       "    .dataframe thead th {\n",
       "        text-align: right;\n",
       "    }\n",
       "</style>\n",
       "<table border=\"1\" class=\"dataframe\">\n",
       "  <thead>\n",
       "    <tr style=\"text-align: right;\">\n",
       "      <th></th>\n",
       "      <th>x0</th>\n",
       "      <th>y0</th>\n",
       "      <th>z0</th>\n",
       "      <th>x1</th>\n",
       "      <th>y1</th>\n",
       "      <th>z1</th>\n",
       "      <th>x2</th>\n",
       "      <th>y2</th>\n",
       "      <th>z2</th>\n",
       "      <th>x3</th>\n",
       "      <th>...</th>\n",
       "      <th>z30</th>\n",
       "      <th>x31</th>\n",
       "      <th>y31</th>\n",
       "      <th>z31</th>\n",
       "      <th>x32</th>\n",
       "      <th>y32</th>\n",
       "      <th>z32</th>\n",
       "      <th>hip_angle</th>\n",
       "      <th>bicep_angle</th>\n",
       "      <th>knee_angle</th>\n",
       "    </tr>\n",
       "  </thead>\n",
       "  <tbody>\n",
       "    <tr>\n",
       "      <th>0</th>\n",
       "      <td>0      0.429423\n",
       "1      0.426943\n",
       "2      0.42696...</td>\n",
       "      <td>0      0.347540\n",
       "1      0.343988\n",
       "2      0.34275...</td>\n",
       "      <td>0     -0.105471\n",
       "1     -0.144790\n",
       "2     -0.15096...</td>\n",
       "      <td>0      0.450452\n",
       "1      0.449074\n",
       "2      0.44910...</td>\n",
       "      <td>0      0.333785\n",
       "1      0.331681\n",
       "2      0.33115...</td>\n",
       "      <td>0     -0.147330\n",
       "1     -0.195165\n",
       "2     -0.20066...</td>\n",
       "      <td>0      0.455084\n",
       "1      0.453640\n",
       "2      0.45371...</td>\n",
       "      <td>0      0.333870\n",
       "1      0.332082\n",
       "2      0.33168...</td>\n",
       "      <td>0     -0.147415\n",
       "1     -0.195227\n",
       "2     -0.20072...</td>\n",
       "      <td>0      0.459672\n",
       "1      0.458217\n",
       "2      0.45834...</td>\n",
       "      <td>...</td>\n",
       "      <td>0      0.574785\n",
       "1      0.607425\n",
       "2      0.60332...</td>\n",
       "      <td>0      0.420175\n",
       "1      0.419559\n",
       "2      0.41944...</td>\n",
       "      <td>0      0.911276\n",
       "1      0.910927\n",
       "2      0.91011...</td>\n",
       "      <td>0     -0.373296\n",
       "1     -0.269487\n",
       "2     -0.26180...</td>\n",
       "      <td>0      0.454396\n",
       "1      0.431846\n",
       "2      0.42571...</td>\n",
       "      <td>0      0.850732\n",
       "1      0.848288\n",
       "2      0.84680...</td>\n",
       "      <td>0      0.511645\n",
       "1      0.538852\n",
       "2      0.53572...</td>\n",
       "      <td>0      173.648469\n",
       "1      174.217245\n",
       "2      174...</td>\n",
       "      <td>0      52.605507\n",
       "1      50.820902\n",
       "2      50.36...</td>\n",
       "      <td>0      176.621810\n",
       "1      178.610393\n",
       "2      179...</td>\n",
       "    </tr>\n",
       "    <tr>\n",
       "      <th>0</th>\n",
       "      <td>0      0.400392\n",
       "1      0.400257\n",
       "2      0.39995...</td>\n",
       "      <td>0      0.337091\n",
       "1      0.346868\n",
       "2      0.34784...</td>\n",
       "      <td>0     -0.103875\n",
       "1     -0.084644\n",
       "2     -0.08248...</td>\n",
       "      <td>0      0.417904\n",
       "1      0.417696\n",
       "2      0.41715...</td>\n",
       "      <td>0      0.321473\n",
       "1      0.331833\n",
       "2      0.33290...</td>\n",
       "      <td>0     -0.153019\n",
       "1     -0.127496\n",
       "2     -0.12480...</td>\n",
       "      <td>0      0.422043\n",
       "1      0.422063\n",
       "2      0.42191...</td>\n",
       "      <td>0      0.320618\n",
       "1      0.330321\n",
       "2      0.33160...</td>\n",
       "      <td>0     -0.153107\n",
       "1     -0.127590\n",
       "2     -0.12489...</td>\n",
       "      <td>0      0.426268\n",
       "1      0.426679\n",
       "2      0.42667...</td>\n",
       "      <td>...</td>\n",
       "      <td>0      0.604953\n",
       "1      0.642496\n",
       "2      0.60403...</td>\n",
       "      <td>0      0.390190\n",
       "1      0.390166\n",
       "2      0.38917...</td>\n",
       "      <td>0      0.877139\n",
       "1      0.878969\n",
       "2      0.87895...</td>\n",
       "      <td>0     -0.341749\n",
       "1     -0.199420\n",
       "2     -0.25101...</td>\n",
       "      <td>0      0.398243\n",
       "1      0.398244\n",
       "2      0.40033...</td>\n",
       "      <td>0      0.822947\n",
       "1      0.828135\n",
       "2      0.83097...</td>\n",
       "      <td>0      0.536686\n",
       "1      0.562394\n",
       "2      0.52550...</td>\n",
       "      <td>0      172.411223\n",
       "1      170.800136\n",
       "2      170...</td>\n",
       "      <td>0      53.279275\n",
       "1      52.142803\n",
       "2      51.28...</td>\n",
       "      <td>0      179.388953\n",
       "1      177.552095\n",
       "2      177...</td>\n",
       "    </tr>\n",
       "    <tr>\n",
       "      <th>0</th>\n",
       "      <td>0      0.560623\n",
       "1      0.561151\n",
       "2      0.56181...</td>\n",
       "      <td>0      0.305677\n",
       "1      0.305672\n",
       "2      0.30565...</td>\n",
       "      <td>0     -0.054881\n",
       "1     -0.004976\n",
       "2      0.00105...</td>\n",
       "      <td>0      0.585990\n",
       "1      0.586146\n",
       "2      0.58628...</td>\n",
       "      <td>0      0.298371\n",
       "1      0.298338\n",
       "2      0.29829...</td>\n",
       "      <td>0     -0.093748\n",
       "1     -0.043309\n",
       "2     -0.03860...</td>\n",
       "      <td>0      0.590062\n",
       "1      0.590134\n",
       "2      0.59017...</td>\n",
       "      <td>0      0.299584\n",
       "1      0.299446\n",
       "2      0.29930...</td>\n",
       "      <td>0     -0.093843\n",
       "1     -0.043407\n",
       "2     -0.03869...</td>\n",
       "      <td>0      0.594164\n",
       "1      0.594188\n",
       "2      0.59418...</td>\n",
       "      <td>...</td>\n",
       "      <td>0      0.311505\n",
       "1      0.269727\n",
       "2      0.26330...</td>\n",
       "      <td>0      0.515544\n",
       "1      0.515531\n",
       "2      0.51492...</td>\n",
       "      <td>0      0.872608\n",
       "1      0.872589\n",
       "2      0.87312...</td>\n",
       "      <td>0     -0.254527\n",
       "1     -0.272457\n",
       "2     -0.27075...</td>\n",
       "      <td>0      0.523310\n",
       "1      0.512872\n",
       "2      0.51252...</td>\n",
       "      <td>0      0.838704\n",
       "1      0.833855\n",
       "2      0.83481...</td>\n",
       "      <td>0      0.232693\n",
       "1      0.201374\n",
       "2      0.19756...</td>\n",
       "      <td>0      162.832706\n",
       "1      163.182431\n",
       "2      163...</td>\n",
       "      <td>0      21.788521\n",
       "1      19.233609\n",
       "2      16.51...</td>\n",
       "      <td>0      159.541571\n",
       "1      158.564842\n",
       "2      158...</td>\n",
       "    </tr>\n",
       "    <tr>\n",
       "      <th>0</th>\n",
       "      <td>0      0.391844\n",
       "1      0.391096\n",
       "2      0.39019...</td>\n",
       "      <td>0      0.299070\n",
       "1      0.299913\n",
       "2      0.30097...</td>\n",
       "      <td>0     -0.038095\n",
       "1     -0.033408\n",
       "2     -0.02260...</td>\n",
       "      <td>0      0.409521\n",
       "1      0.409038\n",
       "2      0.40832...</td>\n",
       "      <td>0      0.287500\n",
       "1      0.288428\n",
       "2      0.28942...</td>\n",
       "      <td>0     -0.090213\n",
       "1     -0.079510\n",
       "2     -0.06723...</td>\n",
       "      <td>0      0.414082\n",
       "1      0.413436\n",
       "2      0.41265...</td>\n",
       "      <td>0      0.287786\n",
       "1      0.288727\n",
       "2      0.28968...</td>\n",
       "      <td>0     -0.090299\n",
       "1     -0.079580\n",
       "2     -0.06730...</td>\n",
       "      <td>0      0.418861\n",
       "1      0.417917\n",
       "2      0.41695...</td>\n",
       "      <td>...</td>\n",
       "      <td>0      0.491202\n",
       "1      0.491535\n",
       "2      0.42851...</td>\n",
       "      <td>0      0.368287\n",
       "1      0.368264\n",
       "2      0.36826...</td>\n",
       "      <td>0      0.834129\n",
       "1      0.836902\n",
       "2      0.83811...</td>\n",
       "      <td>0     -0.325433\n",
       "1     -0.283643\n",
       "2     -0.27664...</td>\n",
       "      <td>0      0.360707\n",
       "1      0.358920\n",
       "2      0.35863...</td>\n",
       "      <td>0      0.801635\n",
       "1      0.803714\n",
       "2      0.80606...</td>\n",
       "      <td>0      0.424095\n",
       "1      0.419812\n",
       "2      0.34809...</td>\n",
       "      <td>0      175.823623\n",
       "1      175.466629\n",
       "2      175...</td>\n",
       "      <td>0      43.826452\n",
       "1      31.406819\n",
       "2      30.71...</td>\n",
       "      <td>0      173.345455\n",
       "1      173.940691\n",
       "2      174...</td>\n",
       "    </tr>\n",
       "    <tr>\n",
       "      <th>0</th>\n",
       "      <td>0      0.421371\n",
       "1      0.418246\n",
       "2      0.41775...</td>\n",
       "      <td>0      0.336275\n",
       "1      0.336823\n",
       "2      0.33688...</td>\n",
       "      <td>0     -0.155802\n",
       "1     -0.112784\n",
       "2     -0.09893...</td>\n",
       "      <td>0      0.438973\n",
       "1      0.437281\n",
       "2      0.43714...</td>\n",
       "      <td>0      0.322594\n",
       "1      0.323913\n",
       "2      0.32427...</td>\n",
       "      <td>0     -0.200614\n",
       "1     -0.161855\n",
       "2     -0.14898...</td>\n",
       "      <td>0      0.443369\n",
       "1      0.441682\n",
       "2      0.44153...</td>\n",
       "      <td>0      0.322610\n",
       "1      0.323877\n",
       "2      0.32429...</td>\n",
       "      <td>0     -0.200697\n",
       "1     -0.161950\n",
       "2     -0.14909...</td>\n",
       "      <td>0      0.448024\n",
       "1      0.446089\n",
       "2      0.44587...</td>\n",
       "      <td>...</td>\n",
       "      <td>0      0.671221\n",
       "1      0.577679\n",
       "2      0.53407...</td>\n",
       "      <td>0      0.421596\n",
       "1      0.401197\n",
       "2      0.39427...</td>\n",
       "      <td>0      0.876223\n",
       "1      0.892154\n",
       "2      0.89722...</td>\n",
       "      <td>0     -0.199080\n",
       "1     -0.210396\n",
       "2     -0.23118...</td>\n",
       "      <td>0      0.429525\n",
       "1      0.428121\n",
       "2      0.42655...</td>\n",
       "      <td>0      0.835695\n",
       "1      0.837626\n",
       "2      0.84064...</td>\n",
       "      <td>0      0.617365\n",
       "1      0.526434\n",
       "2      0.48475...</td>\n",
       "      <td>0      177.356200\n",
       "1      178.733209\n",
       "2      179...</td>\n",
       "      <td>0      55.521315\n",
       "1      48.190656\n",
       "2      43.20...</td>\n",
       "      <td>0      175.173556\n",
       "1      175.934999\n",
       "2      177...</td>\n",
       "    </tr>\n",
       "    <tr>\n",
       "      <th>...</th>\n",
       "      <td>...</td>\n",
       "      <td>...</td>\n",
       "      <td>...</td>\n",
       "      <td>...</td>\n",
       "      <td>...</td>\n",
       "      <td>...</td>\n",
       "      <td>...</td>\n",
       "      <td>...</td>\n",
       "      <td>...</td>\n",
       "      <td>...</td>\n",
       "      <td>...</td>\n",
       "      <td>...</td>\n",
       "      <td>...</td>\n",
       "      <td>...</td>\n",
       "      <td>...</td>\n",
       "      <td>...</td>\n",
       "      <td>...</td>\n",
       "      <td>...</td>\n",
       "      <td>...</td>\n",
       "      <td>...</td>\n",
       "      <td>...</td>\n",
       "    </tr>\n",
       "    <tr>\n",
       "      <th>0</th>\n",
       "      <td>0      0.411924\n",
       "1      0.411939\n",
       "2      0.41327...</td>\n",
       "      <td>0      0.373589\n",
       "1      0.373541\n",
       "2      0.37254...</td>\n",
       "      <td>0     -0.084773\n",
       "1     -0.122690\n",
       "2     -0.11452...</td>\n",
       "      <td>0      0.436682\n",
       "1      0.436658\n",
       "2      0.43819...</td>\n",
       "      <td>0      0.359043\n",
       "1      0.358991\n",
       "2      0.35798...</td>\n",
       "      <td>0     -0.130858\n",
       "1     -0.168444\n",
       "2     -0.16016...</td>\n",
       "      <td>0      0.441761\n",
       "1      0.441805\n",
       "2      0.44398...</td>\n",
       "      <td>0      0.357885\n",
       "1      0.357878\n",
       "2      0.35677...</td>\n",
       "      <td>0     -0.130940\n",
       "1     -0.168552\n",
       "2     -0.16026...</td>\n",
       "      <td>0      0.446616\n",
       "1      0.446893\n",
       "2      0.44944...</td>\n",
       "      <td>...</td>\n",
       "      <td>0      0.548155\n",
       "1      0.631552\n",
       "2      0.59847...</td>\n",
       "      <td>0      0.411942\n",
       "1      0.413064\n",
       "2      0.41305...</td>\n",
       "      <td>0      0.926298\n",
       "1      0.926272\n",
       "2      0.92644...</td>\n",
       "      <td>0     -0.375300\n",
       "1     -0.305216\n",
       "2     -0.32742...</td>\n",
       "      <td>0      0.452717\n",
       "1      0.444918\n",
       "2      0.44013...</td>\n",
       "      <td>0      0.857459\n",
       "1      0.859694\n",
       "2      0.86298...</td>\n",
       "      <td>0      0.495404\n",
       "1      0.558473\n",
       "2      0.50546...</td>\n",
       "      <td>0      172.520724\n",
       "1      172.669282\n",
       "2      172...</td>\n",
       "      <td>0      46.912446\n",
       "1      47.132011\n",
       "2      49.13...</td>\n",
       "      <td>0      175.843487\n",
       "1      176.576626\n",
       "2      177...</td>\n",
       "    </tr>\n",
       "    <tr>\n",
       "      <th>0</th>\n",
       "      <td>0      0.449975\n",
       "1      0.450360\n",
       "2      0.45037...</td>\n",
       "      <td>0      0.357782\n",
       "1      0.362385\n",
       "2      0.36435...</td>\n",
       "      <td>0     -0.042208\n",
       "1     -0.018155\n",
       "2     -0.01936...</td>\n",
       "      <td>0      0.471884\n",
       "1      0.472170\n",
       "2      0.47221...</td>\n",
       "      <td>0      0.349340\n",
       "1      0.352510\n",
       "2      0.35395...</td>\n",
       "      <td>0     -0.085005\n",
       "1     -0.059347\n",
       "2     -0.06076...</td>\n",
       "      <td>0      0.475959\n",
       "1      0.476167\n",
       "2      0.47621...</td>\n",
       "      <td>0      0.350286\n",
       "1      0.352960\n",
       "2      0.35424...</td>\n",
       "      <td>0     -0.085091\n",
       "1     -0.059458\n",
       "2     -0.06087...</td>\n",
       "      <td>0      0.480168\n",
       "1      0.480268\n",
       "2      0.48030...</td>\n",
       "      <td>...</td>\n",
       "      <td>0      0.589833\n",
       "1      0.505367\n",
       "2      0.50646...</td>\n",
       "      <td>0      0.431608\n",
       "1      0.430336\n",
       "2      0.43035...</td>\n",
       "      <td>0      0.941026\n",
       "1      0.941484\n",
       "2      0.94148...</td>\n",
       "      <td>0     -0.312984\n",
       "1     -0.326526\n",
       "2     -0.32130...</td>\n",
       "      <td>0      0.448576\n",
       "1      0.448191\n",
       "2      0.44678...</td>\n",
       "      <td>0      0.890933\n",
       "1      0.893739\n",
       "2      0.89569...</td>\n",
       "      <td>0      0.525990\n",
       "1      0.438820\n",
       "2      0.43948...</td>\n",
       "      <td>0      173.161482\n",
       "1      173.649150\n",
       "2      174...</td>\n",
       "      <td>0      31.068686\n",
       "1      30.313565\n",
       "2      29.98...</td>\n",
       "      <td>0      173.738255\n",
       "1      172.872544\n",
       "2      172...</td>\n",
       "    </tr>\n",
       "    <tr>\n",
       "      <th>0</th>\n",
       "      <td>0      0.466279\n",
       "1      0.466006\n",
       "2      0.46562...</td>\n",
       "      <td>0      0.329942\n",
       "1      0.330142\n",
       "2      0.33014...</td>\n",
       "      <td>0     -0.172593\n",
       "1     -0.109733\n",
       "2     -0.12249...</td>\n",
       "      <td>0      0.481872\n",
       "1      0.481086\n",
       "2      0.48048...</td>\n",
       "      <td>0      0.317629\n",
       "1      0.317692\n",
       "2      0.31767...</td>\n",
       "      <td>0     -0.217514\n",
       "1     -0.155270\n",
       "2     -0.16809...</td>\n",
       "      <td>0      0.487550\n",
       "1      0.486412\n",
       "2      0.48557...</td>\n",
       "      <td>0      0.317506\n",
       "1      0.317602\n",
       "2      0.31759...</td>\n",
       "      <td>0     -0.217571\n",
       "1     -0.155371\n",
       "2     -0.16819...</td>\n",
       "      <td>0      0.493910\n",
       "1      0.492738\n",
       "2      0.49184...</td>\n",
       "      <td>...</td>\n",
       "      <td>0      0.767044\n",
       "1      0.537016\n",
       "2      0.52323...</td>\n",
       "      <td>0      0.429045\n",
       "1      0.432102\n",
       "2      0.43209...</td>\n",
       "      <td>0      0.877475\n",
       "1      0.878605\n",
       "2      0.87982...</td>\n",
       "      <td>0     -0.369356\n",
       "1     -0.326950\n",
       "2     -0.26985...</td>\n",
       "      <td>0      0.438502\n",
       "1      0.438038\n",
       "2      0.43801...</td>\n",
       "      <td>0      0.836676\n",
       "1      0.836073\n",
       "2      0.83672...</td>\n",
       "      <td>0      0.698642\n",
       "1      0.461056\n",
       "2      0.44551...</td>\n",
       "      <td>0      166.300226\n",
       "1      166.105417\n",
       "2      165...</td>\n",
       "      <td>0      66.393761\n",
       "1      71.884772\n",
       "2      74.22...</td>\n",
       "      <td>0      178.534040\n",
       "1      177.622373\n",
       "2      176...</td>\n",
       "    </tr>\n",
       "    <tr>\n",
       "      <th>0</th>\n",
       "      <td>0      0.414169\n",
       "1      0.414235\n",
       "2      0.41484...</td>\n",
       "      <td>0      0.318349\n",
       "1      0.315592\n",
       "2      0.31423...</td>\n",
       "      <td>0     -0.034782\n",
       "1     -0.059219\n",
       "2     -0.06210...</td>\n",
       "      <td>0      0.434148\n",
       "1      0.434338\n",
       "2      0.43492...</td>\n",
       "      <td>0      0.305068\n",
       "1      0.303616\n",
       "2      0.30304...</td>\n",
       "      <td>0     -0.079841\n",
       "1     -0.111096\n",
       "2     -0.11358...</td>\n",
       "      <td>0      0.438238\n",
       "1      0.438352\n",
       "2      0.43885...</td>\n",
       "      <td>0      0.305178\n",
       "1      0.303859\n",
       "2      0.30335...</td>\n",
       "      <td>0     -0.079918\n",
       "1     -0.111151\n",
       "2     -0.11364...</td>\n",
       "      <td>0      0.442474\n",
       "1      0.442552\n",
       "2      0.44302...</td>\n",
       "      <td>...</td>\n",
       "      <td>0      0.629705\n",
       "1      0.634885\n",
       "2      0.64755...</td>\n",
       "      <td>0      0.403076\n",
       "1      0.402560\n",
       "2      0.40139...</td>\n",
       "      <td>0      0.887055\n",
       "1      0.886193\n",
       "2      0.88624...</td>\n",
       "      <td>0     -0.347730\n",
       "1     -0.329058\n",
       "2     -0.32939...</td>\n",
       "      <td>0      0.424889\n",
       "1      0.418708\n",
       "2      0.41652...</td>\n",
       "      <td>0      0.831420\n",
       "1      0.832829\n",
       "2      0.83391...</td>\n",
       "      <td>0      0.571751\n",
       "1      0.578445\n",
       "2      0.58807...</td>\n",
       "      <td>0      173.581980\n",
       "1      174.100021\n",
       "2      173...</td>\n",
       "      <td>0      38.325980\n",
       "1      30.995709\n",
       "2      29.23...</td>\n",
       "      <td>0      177.445383\n",
       "1      174.662884\n",
       "2      173...</td>\n",
       "    </tr>\n",
       "    <tr>\n",
       "      <th>0</th>\n",
       "      <td>0      0.467351\n",
       "1      0.466210\n",
       "2      0.46576...</td>\n",
       "      <td>0      0.371377\n",
       "1      0.374939\n",
       "2      0.37621...</td>\n",
       "      <td>0     -0.027284\n",
       "1     -0.031653\n",
       "2     -0.03062...</td>\n",
       "      <td>0      0.488442\n",
       "1      0.487705\n",
       "2      0.48744...</td>\n",
       "      <td>0      0.361273\n",
       "1      0.363863\n",
       "2      0.36467...</td>\n",
       "      <td>0     -0.074207\n",
       "1     -0.078224\n",
       "2     -0.07681...</td>\n",
       "      <td>0      0.492631\n",
       "1      0.491870\n",
       "2      0.49154...</td>\n",
       "      <td>0      0.362034\n",
       "1      0.364294\n",
       "2      0.36496...</td>\n",
       "      <td>0     -0.074302\n",
       "1     -0.078327\n",
       "2     -0.07691...</td>\n",
       "      <td>0      0.497160\n",
       "1      0.496337\n",
       "2      0.49588...</td>\n",
       "      <td>...</td>\n",
       "      <td>0      0.536041\n",
       "1      0.507905\n",
       "2      0.50906...</td>\n",
       "      <td>0      0.417515\n",
       "1      0.417249\n",
       "2      0.41724...</td>\n",
       "      <td>0      0.954760\n",
       "1      0.954592\n",
       "2      0.95464...</td>\n",
       "      <td>0     -0.380389\n",
       "1     -0.266881\n",
       "2     -0.26268...</td>\n",
       "      <td>0      0.442909\n",
       "1      0.437894\n",
       "2      0.43581...</td>\n",
       "      <td>0      0.911286\n",
       "1      0.909045\n",
       "2      0.90714...</td>\n",
       "      <td>0      0.469051\n",
       "1      0.434201\n",
       "2      0.43903...</td>\n",
       "      <td>0      168.835794\n",
       "1      170.760181\n",
       "2      171...</td>\n",
       "      <td>0      39.643506\n",
       "1      36.838922\n",
       "2      35.63...</td>\n",
       "      <td>0      172.009348\n",
       "1      172.360478\n",
       "2      172...</td>\n",
       "    </tr>\n",
       "  </tbody>\n",
       "</table>\n",
       "<p>89 rows × 102 columns</p>\n",
       "</div>"
      ],
      "text/plain": [
       "                                                   x0  \\\n",
       "0   0      0.429423\n",
       "1      0.426943\n",
       "2      0.42696...   \n",
       "0   0      0.400392\n",
       "1      0.400257\n",
       "2      0.39995...   \n",
       "0   0      0.560623\n",
       "1      0.561151\n",
       "2      0.56181...   \n",
       "0   0      0.391844\n",
       "1      0.391096\n",
       "2      0.39019...   \n",
       "0   0      0.421371\n",
       "1      0.418246\n",
       "2      0.41775...   \n",
       "..                                                ...   \n",
       "0   0      0.411924\n",
       "1      0.411939\n",
       "2      0.41327...   \n",
       "0   0      0.449975\n",
       "1      0.450360\n",
       "2      0.45037...   \n",
       "0   0      0.466279\n",
       "1      0.466006\n",
       "2      0.46562...   \n",
       "0   0      0.414169\n",
       "1      0.414235\n",
       "2      0.41484...   \n",
       "0   0      0.467351\n",
       "1      0.466210\n",
       "2      0.46576...   \n",
       "\n",
       "                                                   y0  \\\n",
       "0   0      0.347540\n",
       "1      0.343988\n",
       "2      0.34275...   \n",
       "0   0      0.337091\n",
       "1      0.346868\n",
       "2      0.34784...   \n",
       "0   0      0.305677\n",
       "1      0.305672\n",
       "2      0.30565...   \n",
       "0   0      0.299070\n",
       "1      0.299913\n",
       "2      0.30097...   \n",
       "0   0      0.336275\n",
       "1      0.336823\n",
       "2      0.33688...   \n",
       "..                                                ...   \n",
       "0   0      0.373589\n",
       "1      0.373541\n",
       "2      0.37254...   \n",
       "0   0      0.357782\n",
       "1      0.362385\n",
       "2      0.36435...   \n",
       "0   0      0.329942\n",
       "1      0.330142\n",
       "2      0.33014...   \n",
       "0   0      0.318349\n",
       "1      0.315592\n",
       "2      0.31423...   \n",
       "0   0      0.371377\n",
       "1      0.374939\n",
       "2      0.37621...   \n",
       "\n",
       "                                                   z0  \\\n",
       "0   0     -0.105471\n",
       "1     -0.144790\n",
       "2     -0.15096...   \n",
       "0   0     -0.103875\n",
       "1     -0.084644\n",
       "2     -0.08248...   \n",
       "0   0     -0.054881\n",
       "1     -0.004976\n",
       "2      0.00105...   \n",
       "0   0     -0.038095\n",
       "1     -0.033408\n",
       "2     -0.02260...   \n",
       "0   0     -0.155802\n",
       "1     -0.112784\n",
       "2     -0.09893...   \n",
       "..                                                ...   \n",
       "0   0     -0.084773\n",
       "1     -0.122690\n",
       "2     -0.11452...   \n",
       "0   0     -0.042208\n",
       "1     -0.018155\n",
       "2     -0.01936...   \n",
       "0   0     -0.172593\n",
       "1     -0.109733\n",
       "2     -0.12249...   \n",
       "0   0     -0.034782\n",
       "1     -0.059219\n",
       "2     -0.06210...   \n",
       "0   0     -0.027284\n",
       "1     -0.031653\n",
       "2     -0.03062...   \n",
       "\n",
       "                                                   x1  \\\n",
       "0   0      0.450452\n",
       "1      0.449074\n",
       "2      0.44910...   \n",
       "0   0      0.417904\n",
       "1      0.417696\n",
       "2      0.41715...   \n",
       "0   0      0.585990\n",
       "1      0.586146\n",
       "2      0.58628...   \n",
       "0   0      0.409521\n",
       "1      0.409038\n",
       "2      0.40832...   \n",
       "0   0      0.438973\n",
       "1      0.437281\n",
       "2      0.43714...   \n",
       "..                                                ...   \n",
       "0   0      0.436682\n",
       "1      0.436658\n",
       "2      0.43819...   \n",
       "0   0      0.471884\n",
       "1      0.472170\n",
       "2      0.47221...   \n",
       "0   0      0.481872\n",
       "1      0.481086\n",
       "2      0.48048...   \n",
       "0   0      0.434148\n",
       "1      0.434338\n",
       "2      0.43492...   \n",
       "0   0      0.488442\n",
       "1      0.487705\n",
       "2      0.48744...   \n",
       "\n",
       "                                                   y1  \\\n",
       "0   0      0.333785\n",
       "1      0.331681\n",
       "2      0.33115...   \n",
       "0   0      0.321473\n",
       "1      0.331833\n",
       "2      0.33290...   \n",
       "0   0      0.298371\n",
       "1      0.298338\n",
       "2      0.29829...   \n",
       "0   0      0.287500\n",
       "1      0.288428\n",
       "2      0.28942...   \n",
       "0   0      0.322594\n",
       "1      0.323913\n",
       "2      0.32427...   \n",
       "..                                                ...   \n",
       "0   0      0.359043\n",
       "1      0.358991\n",
       "2      0.35798...   \n",
       "0   0      0.349340\n",
       "1      0.352510\n",
       "2      0.35395...   \n",
       "0   0      0.317629\n",
       "1      0.317692\n",
       "2      0.31767...   \n",
       "0   0      0.305068\n",
       "1      0.303616\n",
       "2      0.30304...   \n",
       "0   0      0.361273\n",
       "1      0.363863\n",
       "2      0.36467...   \n",
       "\n",
       "                                                   z1  \\\n",
       "0   0     -0.147330\n",
       "1     -0.195165\n",
       "2     -0.20066...   \n",
       "0   0     -0.153019\n",
       "1     -0.127496\n",
       "2     -0.12480...   \n",
       "0   0     -0.093748\n",
       "1     -0.043309\n",
       "2     -0.03860...   \n",
       "0   0     -0.090213\n",
       "1     -0.079510\n",
       "2     -0.06723...   \n",
       "0   0     -0.200614\n",
       "1     -0.161855\n",
       "2     -0.14898...   \n",
       "..                                                ...   \n",
       "0   0     -0.130858\n",
       "1     -0.168444\n",
       "2     -0.16016...   \n",
       "0   0     -0.085005\n",
       "1     -0.059347\n",
       "2     -0.06076...   \n",
       "0   0     -0.217514\n",
       "1     -0.155270\n",
       "2     -0.16809...   \n",
       "0   0     -0.079841\n",
       "1     -0.111096\n",
       "2     -0.11358...   \n",
       "0   0     -0.074207\n",
       "1     -0.078224\n",
       "2     -0.07681...   \n",
       "\n",
       "                                                   x2  \\\n",
       "0   0      0.455084\n",
       "1      0.453640\n",
       "2      0.45371...   \n",
       "0   0      0.422043\n",
       "1      0.422063\n",
       "2      0.42191...   \n",
       "0   0      0.590062\n",
       "1      0.590134\n",
       "2      0.59017...   \n",
       "0   0      0.414082\n",
       "1      0.413436\n",
       "2      0.41265...   \n",
       "0   0      0.443369\n",
       "1      0.441682\n",
       "2      0.44153...   \n",
       "..                                                ...   \n",
       "0   0      0.441761\n",
       "1      0.441805\n",
       "2      0.44398...   \n",
       "0   0      0.475959\n",
       "1      0.476167\n",
       "2      0.47621...   \n",
       "0   0      0.487550\n",
       "1      0.486412\n",
       "2      0.48557...   \n",
       "0   0      0.438238\n",
       "1      0.438352\n",
       "2      0.43885...   \n",
       "0   0      0.492631\n",
       "1      0.491870\n",
       "2      0.49154...   \n",
       "\n",
       "                                                   y2  \\\n",
       "0   0      0.333870\n",
       "1      0.332082\n",
       "2      0.33168...   \n",
       "0   0      0.320618\n",
       "1      0.330321\n",
       "2      0.33160...   \n",
       "0   0      0.299584\n",
       "1      0.299446\n",
       "2      0.29930...   \n",
       "0   0      0.287786\n",
       "1      0.288727\n",
       "2      0.28968...   \n",
       "0   0      0.322610\n",
       "1      0.323877\n",
       "2      0.32429...   \n",
       "..                                                ...   \n",
       "0   0      0.357885\n",
       "1      0.357878\n",
       "2      0.35677...   \n",
       "0   0      0.350286\n",
       "1      0.352960\n",
       "2      0.35424...   \n",
       "0   0      0.317506\n",
       "1      0.317602\n",
       "2      0.31759...   \n",
       "0   0      0.305178\n",
       "1      0.303859\n",
       "2      0.30335...   \n",
       "0   0      0.362034\n",
       "1      0.364294\n",
       "2      0.36496...   \n",
       "\n",
       "                                                   z2  \\\n",
       "0   0     -0.147415\n",
       "1     -0.195227\n",
       "2     -0.20072...   \n",
       "0   0     -0.153107\n",
       "1     -0.127590\n",
       "2     -0.12489...   \n",
       "0   0     -0.093843\n",
       "1     -0.043407\n",
       "2     -0.03869...   \n",
       "0   0     -0.090299\n",
       "1     -0.079580\n",
       "2     -0.06730...   \n",
       "0   0     -0.200697\n",
       "1     -0.161950\n",
       "2     -0.14909...   \n",
       "..                                                ...   \n",
       "0   0     -0.130940\n",
       "1     -0.168552\n",
       "2     -0.16026...   \n",
       "0   0     -0.085091\n",
       "1     -0.059458\n",
       "2     -0.06087...   \n",
       "0   0     -0.217571\n",
       "1     -0.155371\n",
       "2     -0.16819...   \n",
       "0   0     -0.079918\n",
       "1     -0.111151\n",
       "2     -0.11364...   \n",
       "0   0     -0.074302\n",
       "1     -0.078327\n",
       "2     -0.07691...   \n",
       "\n",
       "                                                   x3  ...  \\\n",
       "0   0      0.459672\n",
       "1      0.458217\n",
       "2      0.45834...  ...   \n",
       "0   0      0.426268\n",
       "1      0.426679\n",
       "2      0.42667...  ...   \n",
       "0   0      0.594164\n",
       "1      0.594188\n",
       "2      0.59418...  ...   \n",
       "0   0      0.418861\n",
       "1      0.417917\n",
       "2      0.41695...  ...   \n",
       "0   0      0.448024\n",
       "1      0.446089\n",
       "2      0.44587...  ...   \n",
       "..                                                ...  ...   \n",
       "0   0      0.446616\n",
       "1      0.446893\n",
       "2      0.44944...  ...   \n",
       "0   0      0.480168\n",
       "1      0.480268\n",
       "2      0.48030...  ...   \n",
       "0   0      0.493910\n",
       "1      0.492738\n",
       "2      0.49184...  ...   \n",
       "0   0      0.442474\n",
       "1      0.442552\n",
       "2      0.44302...  ...   \n",
       "0   0      0.497160\n",
       "1      0.496337\n",
       "2      0.49588...  ...   \n",
       "\n",
       "                                                  z30  \\\n",
       "0   0      0.574785\n",
       "1      0.607425\n",
       "2      0.60332...   \n",
       "0   0      0.604953\n",
       "1      0.642496\n",
       "2      0.60403...   \n",
       "0   0      0.311505\n",
       "1      0.269727\n",
       "2      0.26330...   \n",
       "0   0      0.491202\n",
       "1      0.491535\n",
       "2      0.42851...   \n",
       "0   0      0.671221\n",
       "1      0.577679\n",
       "2      0.53407...   \n",
       "..                                                ...   \n",
       "0   0      0.548155\n",
       "1      0.631552\n",
       "2      0.59847...   \n",
       "0   0      0.589833\n",
       "1      0.505367\n",
       "2      0.50646...   \n",
       "0   0      0.767044\n",
       "1      0.537016\n",
       "2      0.52323...   \n",
       "0   0      0.629705\n",
       "1      0.634885\n",
       "2      0.64755...   \n",
       "0   0      0.536041\n",
       "1      0.507905\n",
       "2      0.50906...   \n",
       "\n",
       "                                                  x31  \\\n",
       "0   0      0.420175\n",
       "1      0.419559\n",
       "2      0.41944...   \n",
       "0   0      0.390190\n",
       "1      0.390166\n",
       "2      0.38917...   \n",
       "0   0      0.515544\n",
       "1      0.515531\n",
       "2      0.51492...   \n",
       "0   0      0.368287\n",
       "1      0.368264\n",
       "2      0.36826...   \n",
       "0   0      0.421596\n",
       "1      0.401197\n",
       "2      0.39427...   \n",
       "..                                                ...   \n",
       "0   0      0.411942\n",
       "1      0.413064\n",
       "2      0.41305...   \n",
       "0   0      0.431608\n",
       "1      0.430336\n",
       "2      0.43035...   \n",
       "0   0      0.429045\n",
       "1      0.432102\n",
       "2      0.43209...   \n",
       "0   0      0.403076\n",
       "1      0.402560\n",
       "2      0.40139...   \n",
       "0   0      0.417515\n",
       "1      0.417249\n",
       "2      0.41724...   \n",
       "\n",
       "                                                  y31  \\\n",
       "0   0      0.911276\n",
       "1      0.910927\n",
       "2      0.91011...   \n",
       "0   0      0.877139\n",
       "1      0.878969\n",
       "2      0.87895...   \n",
       "0   0      0.872608\n",
       "1      0.872589\n",
       "2      0.87312...   \n",
       "0   0      0.834129\n",
       "1      0.836902\n",
       "2      0.83811...   \n",
       "0   0      0.876223\n",
       "1      0.892154\n",
       "2      0.89722...   \n",
       "..                                                ...   \n",
       "0   0      0.926298\n",
       "1      0.926272\n",
       "2      0.92644...   \n",
       "0   0      0.941026\n",
       "1      0.941484\n",
       "2      0.94148...   \n",
       "0   0      0.877475\n",
       "1      0.878605\n",
       "2      0.87982...   \n",
       "0   0      0.887055\n",
       "1      0.886193\n",
       "2      0.88624...   \n",
       "0   0      0.954760\n",
       "1      0.954592\n",
       "2      0.95464...   \n",
       "\n",
       "                                                  z31  \\\n",
       "0   0     -0.373296\n",
       "1     -0.269487\n",
       "2     -0.26180...   \n",
       "0   0     -0.341749\n",
       "1     -0.199420\n",
       "2     -0.25101...   \n",
       "0   0     -0.254527\n",
       "1     -0.272457\n",
       "2     -0.27075...   \n",
       "0   0     -0.325433\n",
       "1     -0.283643\n",
       "2     -0.27664...   \n",
       "0   0     -0.199080\n",
       "1     -0.210396\n",
       "2     -0.23118...   \n",
       "..                                                ...   \n",
       "0   0     -0.375300\n",
       "1     -0.305216\n",
       "2     -0.32742...   \n",
       "0   0     -0.312984\n",
       "1     -0.326526\n",
       "2     -0.32130...   \n",
       "0   0     -0.369356\n",
       "1     -0.326950\n",
       "2     -0.26985...   \n",
       "0   0     -0.347730\n",
       "1     -0.329058\n",
       "2     -0.32939...   \n",
       "0   0     -0.380389\n",
       "1     -0.266881\n",
       "2     -0.26268...   \n",
       "\n",
       "                                                  x32  \\\n",
       "0   0      0.454396\n",
       "1      0.431846\n",
       "2      0.42571...   \n",
       "0   0      0.398243\n",
       "1      0.398244\n",
       "2      0.40033...   \n",
       "0   0      0.523310\n",
       "1      0.512872\n",
       "2      0.51252...   \n",
       "0   0      0.360707\n",
       "1      0.358920\n",
       "2      0.35863...   \n",
       "0   0      0.429525\n",
       "1      0.428121\n",
       "2      0.42655...   \n",
       "..                                                ...   \n",
       "0   0      0.452717\n",
       "1      0.444918\n",
       "2      0.44013...   \n",
       "0   0      0.448576\n",
       "1      0.448191\n",
       "2      0.44678...   \n",
       "0   0      0.438502\n",
       "1      0.438038\n",
       "2      0.43801...   \n",
       "0   0      0.424889\n",
       "1      0.418708\n",
       "2      0.41652...   \n",
       "0   0      0.442909\n",
       "1      0.437894\n",
       "2      0.43581...   \n",
       "\n",
       "                                                  y32  \\\n",
       "0   0      0.850732\n",
       "1      0.848288\n",
       "2      0.84680...   \n",
       "0   0      0.822947\n",
       "1      0.828135\n",
       "2      0.83097...   \n",
       "0   0      0.838704\n",
       "1      0.833855\n",
       "2      0.83481...   \n",
       "0   0      0.801635\n",
       "1      0.803714\n",
       "2      0.80606...   \n",
       "0   0      0.835695\n",
       "1      0.837626\n",
       "2      0.84064...   \n",
       "..                                                ...   \n",
       "0   0      0.857459\n",
       "1      0.859694\n",
       "2      0.86298...   \n",
       "0   0      0.890933\n",
       "1      0.893739\n",
       "2      0.89569...   \n",
       "0   0      0.836676\n",
       "1      0.836073\n",
       "2      0.83672...   \n",
       "0   0      0.831420\n",
       "1      0.832829\n",
       "2      0.83391...   \n",
       "0   0      0.911286\n",
       "1      0.909045\n",
       "2      0.90714...   \n",
       "\n",
       "                                                  z32  \\\n",
       "0   0      0.511645\n",
       "1      0.538852\n",
       "2      0.53572...   \n",
       "0   0      0.536686\n",
       "1      0.562394\n",
       "2      0.52550...   \n",
       "0   0      0.232693\n",
       "1      0.201374\n",
       "2      0.19756...   \n",
       "0   0      0.424095\n",
       "1      0.419812\n",
       "2      0.34809...   \n",
       "0   0      0.617365\n",
       "1      0.526434\n",
       "2      0.48475...   \n",
       "..                                                ...   \n",
       "0   0      0.495404\n",
       "1      0.558473\n",
       "2      0.50546...   \n",
       "0   0      0.525990\n",
       "1      0.438820\n",
       "2      0.43948...   \n",
       "0   0      0.698642\n",
       "1      0.461056\n",
       "2      0.44551...   \n",
       "0   0      0.571751\n",
       "1      0.578445\n",
       "2      0.58807...   \n",
       "0   0      0.469051\n",
       "1      0.434201\n",
       "2      0.43903...   \n",
       "\n",
       "                                            hip_angle  \\\n",
       "0   0      173.648469\n",
       "1      174.217245\n",
       "2      174...   \n",
       "0   0      172.411223\n",
       "1      170.800136\n",
       "2      170...   \n",
       "0   0      162.832706\n",
       "1      163.182431\n",
       "2      163...   \n",
       "0   0      175.823623\n",
       "1      175.466629\n",
       "2      175...   \n",
       "0   0      177.356200\n",
       "1      178.733209\n",
       "2      179...   \n",
       "..                                                ...   \n",
       "0   0      172.520724\n",
       "1      172.669282\n",
       "2      172...   \n",
       "0   0      173.161482\n",
       "1      173.649150\n",
       "2      174...   \n",
       "0   0      166.300226\n",
       "1      166.105417\n",
       "2      165...   \n",
       "0   0      173.581980\n",
       "1      174.100021\n",
       "2      173...   \n",
       "0   0      168.835794\n",
       "1      170.760181\n",
       "2      171...   \n",
       "\n",
       "                                          bicep_angle  \\\n",
       "0   0      52.605507\n",
       "1      50.820902\n",
       "2      50.36...   \n",
       "0   0      53.279275\n",
       "1      52.142803\n",
       "2      51.28...   \n",
       "0   0      21.788521\n",
       "1      19.233609\n",
       "2      16.51...   \n",
       "0   0      43.826452\n",
       "1      31.406819\n",
       "2      30.71...   \n",
       "0   0      55.521315\n",
       "1      48.190656\n",
       "2      43.20...   \n",
       "..                                                ...   \n",
       "0   0      46.912446\n",
       "1      47.132011\n",
       "2      49.13...   \n",
       "0   0      31.068686\n",
       "1      30.313565\n",
       "2      29.98...   \n",
       "0   0      66.393761\n",
       "1      71.884772\n",
       "2      74.22...   \n",
       "0   0      38.325980\n",
       "1      30.995709\n",
       "2      29.23...   \n",
       "0   0      39.643506\n",
       "1      36.838922\n",
       "2      35.63...   \n",
       "\n",
       "                                           knee_angle  \n",
       "0   0      176.621810\n",
       "1      178.610393\n",
       "2      179...  \n",
       "0   0      179.388953\n",
       "1      177.552095\n",
       "2      177...  \n",
       "0   0      159.541571\n",
       "1      158.564842\n",
       "2      158...  \n",
       "0   0      173.345455\n",
       "1      173.940691\n",
       "2      174...  \n",
       "0   0      175.173556\n",
       "1      175.934999\n",
       "2      177...  \n",
       "..                                                ...  \n",
       "0   0      175.843487\n",
       "1      176.576626\n",
       "2      177...  \n",
       "0   0      173.738255\n",
       "1      172.872544\n",
       "2      172...  \n",
       "0   0      178.534040\n",
       "1      177.622373\n",
       "2      176...  \n",
       "0   0      177.445383\n",
       "1      174.662884\n",
       "2      173...  \n",
       "0   0      172.009348\n",
       "1      172.360478\n",
       "2      172...  \n",
       "\n",
       "[89 rows x 102 columns]"
      ]
     },
     "execution_count": 10,
     "metadata": {},
     "output_type": "execute_result"
    }
   ],
   "source": [
    "X_train_df"
   ]
  },
  {
   "cell_type": "code",
   "execution_count": 11,
   "id": "a18cb0bc",
   "metadata": {},
   "outputs": [
    {
     "name": "stdout",
     "output_type": "stream",
     "text": [
      "X_train_df's shape: (89, 102)\n",
      "y_train's length: 89\n"
     ]
    }
   ],
   "source": [
    "print(\"X_train_df's shape: \" + str(X_train_df.shape) + '\\n' + \"y_train's length: \" + str(len(y_train)))"
   ]
  },
  {
   "cell_type": "code",
   "execution_count": 12,
   "id": "1e1a894f",
   "metadata": {},
   "outputs": [],
   "source": [
    "# Fix the index so that they don't all have value of 0\n",
    "X_train_df = X_train_df.reset_index(drop=True) "
   ]
  },
  {
   "cell_type": "code",
   "execution_count": 13,
   "id": "ab84c788",
   "metadata": {},
   "outputs": [],
   "source": [
    "# Drop all other columns apart from the specific\n",
    "X_train_df_1 = X_train_df.drop(X_train_df.columns.difference(['knee_angle']), 1) \n",
    "X_train_df_2 = X_train_df.drop(X_train_df.columns.difference(['bicep_angle']), 1)\n",
    "X_train_df_3 = X_train_df.drop(X_train_df.columns.difference(['hip_angle']), 1)"
   ]
  },
  {
   "cell_type": "code",
   "execution_count": 14,
   "id": "ec951725",
   "metadata": {},
   "outputs": [],
   "source": [
    "# Prepare the testing set same as the training set\n",
    "X_test_df = pd.DataFrame()\n",
    "\n",
    "for vid in X_test:\n",
    "    df = pd.DataFrame(convert_list_to_df(vid))\n",
    "    df['hip_angle'] = df.apply(lambda row: get_angle(row, 11, 23, 25), axis=1)\n",
    "    df['bicep_angle'] = df.apply(lambda row: get_angle(row, 15, 13, 11), axis=1)\n",
    "    df['knee_angle'] = df.apply(lambda row: get_angle(row, 23, 25, 27), axis=1)\n",
    "    X_test_df = X_test_df.append(df_reshape(df))"
   ]
  },
  {
   "cell_type": "code",
   "execution_count": 15,
   "id": "832dbef8",
   "metadata": {},
   "outputs": [],
   "source": [
    "X_test_df_1 = X_test_df.drop(X_test_df.columns.difference(['knee_angle']), 1) \n",
    "X_test_df_2 = X_test_df.drop(X_test_df.columns.difference(['bicep_angle']), 1)\n",
    "X_test_df_3 = X_test_df.drop(X_test_df.columns.difference(['hip_angle']), 1)"
   ]
  },
  {
   "cell_type": "code",
   "execution_count": 16,
   "id": "e17c3c34",
   "metadata": {},
   "outputs": [
    {
     "name": "stdout",
     "output_type": "stream",
     "text": [
      "X_test_df's shape: (45, 102)\n",
      "y_test's length: 45\n"
     ]
    }
   ],
   "source": [
    "print(\"X_test_df's shape: \" + str(X_test_df.shape) + '\\n' + \"y_test's length: \" + str(len(y_test)))"
   ]
  },
  {
   "cell_type": "markdown",
   "id": "107936fa",
   "metadata": {},
   "source": [
    "# 2. Train & Evaluate Models"
   ]
  },
  {
   "cell_type": "code",
   "execution_count": 17,
   "id": "c864433e",
   "metadata": {},
   "outputs": [],
   "source": [
    "# List to keep track of metrics for each\n",
    "hip_scores = [] # Hip angle (11, 23, 25) - keypoint numbers, see above for reference\n",
    "bicep_scores = [] # Bicep angle (11, 13, 15)\n",
    "knee_scores = [] # Hip angle (15, 11, 27)\n",
    "\n",
    "def evaluate_model(model_name, prediction, display_matrix=False):\n",
    "    acc = metrics.accuracy_score(y_test, prediction)\n",
    "    f1 = f1_score(y_test, prediction, average='micro')\n",
    "    precision = precision_score(y_test, prediction, average='macro')\n",
    "    recall = recall_score(y_test, prediction, average='macro')\n",
    "\n",
    "    model_metrics = {'Classifier': model_name, \n",
    "                   'Accuracy': acc, \n",
    "                   'Precision': precision, \n",
    "                   'Recall': recall,\n",
    "                   'F1 Score': f1}\n",
    "\n",
    "    if display_matrix:\n",
    "        labels = ['back', 'good', 'knees', 'forward']\n",
    "        cm = confusion_matrix(y_test, prediction, labels=labels)\n",
    "        disp = ConfusionMatrixDisplay(confusion_matrix=cm, display_labels=labels)\n",
    "        disp.plot()\n",
    "        plt.title(model_name)\n",
    "        plt.show()\n",
    "\n",
    "    return model_metrics"
   ]
  },
  {
   "cell_type": "markdown",
   "id": "cc7f7d12",
   "metadata": {},
   "source": [
    "## Using Knee Angle (23, 25, 27)"
   ]
  },
  {
   "cell_type": "markdown",
   "id": "a4e6f224",
   "metadata": {},
   "source": [
    "### Distance-based"
   ]
  },
  {
   "cell_type": "markdown",
   "id": "8f23cb8c",
   "metadata": {},
   "source": [
    "#### KNeighbours Time Series"
   ]
  },
  {
   "cell_type": "code",
   "execution_count": 18,
   "id": "cf6c122e",
   "metadata": {},
   "outputs": [
    {
     "data": {
      "image/png": "[encoded data removed]",
      "text/plain": [
       "<Figure size 432x288 with 2 Axes>"
      ]
     },
     "metadata": {
      "needs_background": "light"
     },
     "output_type": "display_data"
    },
    {
     "name": "stdout",
     "output_type": "stream",
     "text": [
      "{'Classifier': 'KNeighbours', 'Accuracy': 0.7777777777777778, 'Precision': 0.7710622710622711, 'Recall': 0.766955266955267, 'F1 Score': 0.7777777777777778}\n"
     ]
    }
   ],
   "source": [
    "clf = KNeighborsTimeSeriesClassifier()\n",
    "clf.fit(X_train_df_1, y_train)\n",
    "y_pred = clf.predict(X_test_df_1)\n",
    "\n",
    "scores = evaluate_model('KNeighbours', y_pred, True)\n",
    "knee_scores.append(scores)\n",
    "print(scores)"
   ]
  },
  {
   "cell_type": "markdown",
   "id": "c6b5f81a",
   "metadata": {},
   "source": [
    "#### Elastic Ensemble"
   ]
  },
  {
   "cell_type": "code",
   "execution_count": 19,
   "id": "1a9ca7c7",
   "metadata": {},
   "outputs": [
    {
     "data": {
      "image/png": "[encoded data removed]",
      "text/plain": [
       "<Figure size 432x288 with 2 Axes>"
      ]
     },
     "metadata": {
      "needs_background": "light"
     },
     "output_type": "display_data"
    },
    {
     "name": "stdout",
     "output_type": "stream",
     "text": [
      "{'Classifier': 'Elastic', 'Accuracy': 0.8444444444444444, 'Precision': 0.8410839160839161, 'Recall': 0.8502886002886003, 'F1 Score': 0.8444444444444444}\n"
     ]
    }
   ],
   "source": [
    "clf = ElasticEnsemble(\n",
    "    proportion_of_param_options=0.1,\n",
    "    proportion_train_for_test=0.1,\n",
    "    distance_measures = [\"dtw\",\"ddtw\"],\n",
    "    majority_vote=True,\n",
    "    random_state=1\n",
    ")\n",
    "clf.fit(X_train_df_1, y_train)\n",
    "y_pred = clf.predict(X_test_df_1)\n",
    "\n",
    "scores = evaluate_model('Elastic', y_pred, True)\n",
    "knee_scores.append(scores)\n",
    "print(scores)"
   ]
  },
  {
   "cell_type": "markdown",
   "id": "81e518e2",
   "metadata": {},
   "source": [
    "#### Proximity Forest"
   ]
  },
  {
   "cell_type": "code",
   "execution_count": 20,
   "id": "0bfc289e",
   "metadata": {},
   "outputs": [
    {
     "name": "stdout",
     "output_type": "stream",
     "text": [
      "{'Classifier': 'Proximity Forest', 'Accuracy': 0.5555555555555556, 'Precision': 0.7100694444444444, 'Recall': 0.5885642135642135, 'F1 Score': 0.5555555555555556}\n"
     ]
    }
   ],
   "source": [
    "clf = ProximityForest(n_estimators=5, random_state=1)\n",
    "clf.fit(X_train_df_1, pd.Series(y_train))\n",
    "y_pred = clf.predict(X_test_df_1)\n",
    "\n",
    "scores = evaluate_model('Proximity Forest', y_pred)\n",
    "knee_scores.append(scores)\n",
    "print(scores)"
   ]
  },
  {
   "cell_type": "markdown",
   "id": "2e2ac1f5",
   "metadata": {},
   "source": [
    "### Dictionary-based"
   ]
  },
  {
   "cell_type": "markdown",
   "id": "9d9395fa",
   "metadata": {},
   "source": [
    "#### IndividualBOSS"
   ]
  },
  {
   "cell_type": "code",
   "execution_count": 21,
   "id": "2a1eeb36",
   "metadata": {},
   "outputs": [
    {
     "name": "stdout",
     "output_type": "stream",
     "text": [
      "{'Classifier': 'IndividualBOSS', 'Accuracy': 0.4888888888888889, 'Precision': 0.485733384262796, 'Recall': 0.476010101010101, 'F1 Score': 0.4888888888888889}\n"
     ]
    }
   ],
   "source": [
    "clf = IndividualBOSS()\n",
    "clf.fit(X_train_df_1, y_train)\n",
    "y_pred = clf.predict(X_test_df_1)\n",
    "\n",
    "scores = evaluate_model('IndividualBOSS', y_pred)\n",
    "knee_scores.append(scores)\n",
    "print(scores)"
   ]
  },
  {
   "cell_type": "markdown",
   "id": "56486c86",
   "metadata": {},
   "source": [
    "IndividualBOSS doesn't seem to work very well."
   ]
  },
  {
   "cell_type": "markdown",
   "id": "1fde8186",
   "metadata": {},
   "source": [
    "#### BOSSEnsemble"
   ]
  },
  {
   "cell_type": "code",
   "execution_count": 22,
   "id": "e93e42c1",
   "metadata": {},
   "outputs": [
    {
     "name": "stdout",
     "output_type": "stream",
     "text": [
      "{'Classifier': 'BOSSEnsemble', 'Accuracy': 0.7777777777777778, 'Precision': 0.7735042735042735, 'Recall': 0.772005772005772, 'F1 Score': 0.7777777777777778}\n"
     ]
    }
   ],
   "source": [
    "clf = BOSSEnsemble(max_ensemble_size=5, random_state=1)\n",
    "clf.fit(X_train_df_1, y_train)\n",
    "y_pred = clf.predict(X_test_df_1)\n",
    "\n",
    "scores = evaluate_model('BOSSEnsemble', y_pred)\n",
    "knee_scores.append(scores)\n",
    "print(scores)"
   ]
  },
  {
   "cell_type": "markdown",
   "id": "cdbc65cc",
   "metadata": {},
   "source": [
    "EnsembleBOSS works a lot better."
   ]
  },
  {
   "cell_type": "markdown",
   "id": "57251f93",
   "metadata": {},
   "source": [
    "#### WEASEL"
   ]
  },
  {
   "cell_type": "code",
   "execution_count": 23,
   "id": "b414e0b7",
   "metadata": {},
   "outputs": [
    {
     "name": "stdout",
     "output_type": "stream",
     "text": [
      "{'Classifier': 'WEASEL', 'Accuracy': 0.9111111111111111, 'Precision': 0.9270833333333334, 'Recall': 0.8939393939393939, 'F1 Score': 0.9111111111111111}\n"
     ]
    }
   ],
   "source": [
    "clf = WEASEL(window_inc=10, random_state=1)\n",
    "clf.fit(X_train_df_1, y_train)\n",
    "y_pred = clf.predict(X_test_df_1)\n",
    "\n",
    "scores = evaluate_model('WEASEL', y_pred)\n",
    "knee_scores.append(scores)\n",
    "print(scores)"
   ]
  },
  {
   "cell_type": "markdown",
   "id": "8d93b6b8",
   "metadata": {},
   "source": [
    "### Interval-based"
   ]
  },
  {
   "cell_type": "markdown",
   "id": "55ec9f5f",
   "metadata": {},
   "source": [
    "#### Time Series Forest"
   ]
  },
  {
   "cell_type": "code",
   "execution_count": 24,
   "id": "53f49114",
   "metadata": {},
   "outputs": [
    {
     "name": "stdout",
     "output_type": "stream",
     "text": [
      "{'Classifier': 'Forest', 'Accuracy': 0.8444444444444444, 'Precision': 0.8431372549019608, 'Recall': 0.8253968253968254, 'F1 Score': 0.8444444444444444}\n"
     ]
    }
   ],
   "source": [
    "# Train classifier\n",
    "clf = TimeSeriesForestClassifier(random_state=1)\n",
    "clf.fit(X_train_df_1, y_train)\n",
    "y_pred = clf.predict(X_test_df_1)\n",
    "\n",
    "scores = evaluate_model('Forest', y_pred)\n",
    "knee_scores.append(scores)\n",
    "print(scores)"
   ]
  },
  {
   "cell_type": "markdown",
   "id": "aa575983",
   "metadata": {},
   "source": [
    "### Kernel-based"
   ]
  },
  {
   "cell_type": "code",
   "execution_count": 25,
   "id": "950f6e07",
   "metadata": {},
   "outputs": [
    {
     "name": "stdout",
     "output_type": "stream",
     "text": [
      "{'Classifier': 'Arsenal', 'Accuracy': 0.7111111111111111, 'Precision': 0.5974025974025974, 'Recall': 0.6688311688311688, 'F1 Score': 0.7111111111111111}\n"
     ]
    }
   ],
   "source": [
    "clf = Arsenal(num_kernels=200, n_estimators=5, random_state=1)\n",
    "clf.fit(X_train_df_1, y_train)\n",
    "y_pred = clf.predict(X_test_df_1)\n",
    "\n",
    "scores = evaluate_model('Arsenal', y_pred)\n",
    "knee_scores.append(scores)\n",
    "print(scores)"
   ]
  },
  {
   "cell_type": "markdown",
   "id": "93f8ac75",
   "metadata": {},
   "source": [
    "### Shapelet-based"
   ]
  },
  {
   "cell_type": "code",
   "execution_count": 26,
   "id": "1b46c17d",
   "metadata": {},
   "outputs": [
    {
     "name": "stdout",
     "output_type": "stream",
     "text": [
      "{'Classifier': 'Shapelet', 'Accuracy': 0.7333333333333333, 'Precision': 0.6700980392156863, 'Recall': 0.7014790764790765, 'F1 Score': 0.7333333333333333}\n"
     ]
    }
   ],
   "source": [
    "clf = ShapeletTransformClassifier(\n",
    "    estimator=RotationForest(n_estimators=3),\n",
    "    n_shapelet_samples=500,\n",
    "    max_shapelets=20,\n",
    "    batch_size=100,\n",
    "    random_state=1\n",
    ")\n",
    "clf.fit(X_train_df_1, y_train)\n",
    "y_pred = clf.predict(X_test_df_1)\n",
    "\n",
    "scores = evaluate_model('Shapelet', y_pred)\n",
    "knee_scores.append(scores)\n",
    "print(scores)"
   ]
  },
  {
   "cell_type": "markdown",
   "id": "15ea743b",
   "metadata": {},
   "source": [
    "### Hybrid"
   ]
  },
  {
   "cell_type": "code",
   "execution_count": 27,
   "id": "37bb4f10",
   "metadata": {},
   "outputs": [
    {
     "data": {
      "image/png": "[encoded data removed]",
      "text/plain": [
       "<Figure size 432x288 with 2 Axes>"
      ]
     },
     "metadata": {
      "needs_background": "light"
     },
     "output_type": "display_data"
    },
    {
     "name": "stdout",
     "output_type": "stream",
     "text": [
      "{'Classifier': 'HIVECOTEV1', 'Accuracy': 0.8444444444444444, 'Precision': 0.8282051282051281, 'Recall': 0.8253968253968254, 'F1 Score': 0.8444444444444444}\n"
     ]
    }
   ],
   "source": [
    "clf = HIVECOTEV1(\n",
    "    stc_params={\n",
    "        \"estimator\": RotationForest(n_estimators=3),\n",
    "        \"n_shapelet_samples\": 500,\n",
    "        \"max_shapelets\": 20,\n",
    "        \"batch_size\": 100,\n",
    "    },\n",
    "    tsf_params={\"n_estimators\": 10},\n",
    "    rise_params={\"n_estimators\": 10},\n",
    "    cboss_params={\"n_parameter_samples\": 25, \"max_ensemble_size\": 5},\n",
    "    random_state=1\n",
    ")\n",
    "clf.fit(X_train_df_1, y_train)\n",
    "y_pred = clf.predict(X_test_df_1)\n",
    "\n",
    "scores = evaluate_model('HIVECOTEV1', y_pred, True)\n",
    "knee_scores.append(scores)\n",
    "print(scores)"
   ]
  },
  {
   "cell_type": "markdown",
   "id": "44a51a52",
   "metadata": {},
   "source": [
    "## Using Bicep Angle (11, 13, 15)"
   ]
  },
  {
   "cell_type": "markdown",
   "id": "4242d8b4",
   "metadata": {},
   "source": [
    "### Distance-based"
   ]
  },
  {
   "cell_type": "markdown",
   "id": "bfaf82fd",
   "metadata": {},
   "source": [
    "#### KNeighbours Time Series"
   ]
  },
  {
   "cell_type": "code",
   "execution_count": 28,
   "id": "89a76adf",
   "metadata": {},
   "outputs": [
    {
     "name": "stdout",
     "output_type": "stream",
     "text": [
      "{'Classifier': 'KNeighbours', 'Accuracy': 0.7333333333333333, 'Precision': 0.7406565656565656, 'Recall': 0.7613636363636364, 'F1 Score': 0.7333333333333333}\n"
     ]
    }
   ],
   "source": [
    "clf = KNeighborsTimeSeriesClassifier()\n",
    "clf.fit(X_train_df_2, y_train)\n",
    "y_pred = clf.predict(X_test_df_2)\n",
    "\n",
    "scores = evaluate_model('KNeighbours', y_pred)\n",
    "bicep_scores.append(scores)\n",
    "print(scores)"
   ]
  },
  {
   "cell_type": "markdown",
   "id": "a5240d86",
   "metadata": {},
   "source": [
    "#### Elastic Ensemble"
   ]
  },
  {
   "cell_type": "code",
   "execution_count": 29,
   "id": "91ecf16d",
   "metadata": {},
   "outputs": [
    {
     "name": "stdout",
     "output_type": "stream",
     "text": [
      "{'Classifier': 'Elastic', 'Accuracy': 0.7555555555555555, 'Precision': 0.8081165158371041, 'Recall': 0.7593795093795094, 'F1 Score': 0.7555555555555555}\n"
     ]
    }
   ],
   "source": [
    "clf = ElasticEnsemble(\n",
    "    proportion_of_param_options=0.1,\n",
    "    proportion_train_for_test=0.1,\n",
    "    distance_measures = [\"dtw\",\"ddtw\"],\n",
    "    majority_vote=True,\n",
    "    random_state=1\n",
    ")\n",
    "clf.fit(X_train_df_2, y_train)\n",
    "y_pred = clf.predict(X_test_df_2)\n",
    "\n",
    "scores = evaluate_model('Elastic', y_pred)\n",
    "bicep_scores.append(scores)\n",
    "print(scores)"
   ]
  },
  {
   "cell_type": "markdown",
   "id": "6cba2c28",
   "metadata": {},
   "source": [
    "### Dictionary-based"
   ]
  },
  {
   "cell_type": "markdown",
   "id": "50ad4538",
   "metadata": {},
   "source": [
    "#### BOSSEnsemble"
   ]
  },
  {
   "cell_type": "code",
   "execution_count": 30,
   "id": "2e800837",
   "metadata": {},
   "outputs": [
    {
     "name": "stdout",
     "output_type": "stream",
     "text": [
      "{'Classifier': 'BOSSEnsemble', 'Accuracy': 0.8, 'Precision': 0.8276223776223777, 'Recall': 0.7900432900432901, 'F1 Score': 0.8000000000000002}\n"
     ]
    }
   ],
   "source": [
    "clf = BOSSEnsemble(max_ensemble_size=5, random_state=1)\n",
    "clf.fit(X_train_df_2, y_train)\n",
    "y_pred = clf.predict(X_test_df_2)\n",
    "\n",
    "scores = evaluate_model('BOSSEnsemble', y_pred)\n",
    "bicep_scores.append(scores)\n",
    "print(scores)"
   ]
  },
  {
   "cell_type": "markdown",
   "id": "8bb0b90a",
   "metadata": {},
   "source": [
    "#### WEASEL"
   ]
  },
  {
   "cell_type": "code",
   "execution_count": 31,
   "id": "87bd284c",
   "metadata": {},
   "outputs": [
    {
     "data": {
      "image/png": "[encoded data removed]",
      "text/plain": [
       "<Figure size 432x288 with 2 Axes>"
      ]
     },
     "metadata": {
      "needs_background": "light"
     },
     "output_type": "display_data"
    },
    {
     "name": "stdout",
     "output_type": "stream",
     "text": [
      "{'Classifier': 'WEASEL', 'Accuracy': 0.8666666666666667, 'Precision': 0.8826704545454546, 'Recall': 0.8634559884559885, 'F1 Score': 0.8666666666666667}\n"
     ]
    }
   ],
   "source": [
    "clf = WEASEL(window_inc=3, random_state=1)\n",
    "clf.fit(X_train_df_2, y_train)\n",
    "y_pred = clf.predict(X_test_df_2)\n",
    "\n",
    "scores = evaluate_model('WEASEL', y_pred, True)\n",
    "bicep_scores.append(scores)\n",
    "print(scores)"
   ]
  },
  {
   "cell_type": "markdown",
   "id": "fc5a60d2",
   "metadata": {},
   "source": [
    "### Interval-based"
   ]
  },
  {
   "cell_type": "markdown",
   "id": "abdbc56f",
   "metadata": {},
   "source": [
    "#### Time Series Forest"
   ]
  },
  {
   "cell_type": "code",
   "execution_count": 32,
   "id": "a1202435",
   "metadata": {},
   "outputs": [
    {
     "name": "stdout",
     "output_type": "stream",
     "text": [
      "{'Classifier': 'Forest', 'Accuracy': 0.7777777777777778, 'Precision': 0.7931372549019609, 'Recall': 0.7622655122655123, 'F1 Score': 0.7777777777777778}\n"
     ]
    }
   ],
   "source": [
    "clf = TimeSeriesForestClassifier(random_state=1)\n",
    "clf.fit(X_train_df_2, y_train)\n",
    "y_pred = clf.predict(X_test_df_2)\n",
    "\n",
    "scores = evaluate_model('Forest', y_pred)\n",
    "bicep_scores.append(scores)\n",
    "print(scores)"
   ]
  },
  {
   "cell_type": "markdown",
   "id": "6f82ebc6",
   "metadata": {},
   "source": [
    "### Kernel-based"
   ]
  },
  {
   "cell_type": "code",
   "execution_count": 33,
   "id": "242bbd21",
   "metadata": {},
   "outputs": [
    {
     "data": {
      "image/png": "[encoded data removed]",
      "text/plain": [
       "<Figure size 432x288 with 2 Axes>"
      ]
     },
     "metadata": {
      "needs_background": "light"
     },
     "output_type": "display_data"
    },
    {
     "name": "stdout",
     "output_type": "stream",
     "text": [
      "{'Classifier': 'Arsenal', 'Accuracy': 0.9111111111111111, 'Precision': 0.9182449494949495, 'Recall': 0.9040404040404041, 'F1 Score': 0.9111111111111111}\n"
     ]
    }
   ],
   "source": [
    "clf = Arsenal(num_kernels=200, n_estimators=5, random_state=1)\n",
    "clf.fit(X_train_df_2, y_train)\n",
    "y_pred = clf.predict(X_test_df_2)\n",
    "\n",
    "scores = evaluate_model('Arsenal', y_pred, True)\n",
    "bicep_scores.append(scores)\n",
    "print(scores)"
   ]
  },
  {
   "cell_type": "markdown",
   "id": "975c08b5",
   "metadata": {},
   "source": [
    "### Shapelet-based"
   ]
  },
  {
   "cell_type": "code",
   "execution_count": 34,
   "id": "6236b080",
   "metadata": {},
   "outputs": [
    {
     "name": "stdout",
     "output_type": "stream",
     "text": [
      "{'Classifier': 'Shapelet', 'Accuracy': 0.7333333333333333, 'Precision': 0.7259469696969697, 'Recall': 0.7314213564213564, 'F1 Score': 0.7333333333333333}\n"
     ]
    }
   ],
   "source": [
    "clf = ShapeletTransformClassifier(\n",
    "    estimator=RotationForest(n_estimators=3),\n",
    "    n_shapelet_samples=500,\n",
    "    max_shapelets=20,\n",
    "    batch_size=100,\n",
    "    random_state=1\n",
    ")\n",
    "clf.fit(X_train_df_2, y_train)\n",
    "y_pred = clf.predict(X_test_df_2)\n",
    "\n",
    "scores = evaluate_model('Shapelet', y_pred)\n",
    "bicep_scores.append(scores)\n",
    "print(scores)"
   ]
  },
  {
   "cell_type": "markdown",
   "id": "c1845b9f",
   "metadata": {},
   "source": [
    "### Hybrid"
   ]
  },
  {
   "cell_type": "code",
   "execution_count": 35,
   "id": "2d181329",
   "metadata": {},
   "outputs": [
    {
     "name": "stdout",
     "output_type": "stream",
     "text": [
      "{'Classifier': 'HIVECOTEV1', 'Accuracy': 0.8, 'Precision': 0.8334841628959275, 'Recall': 0.7801226551226552, 'F1 Score': 0.8000000000000002}\n"
     ]
    }
   ],
   "source": [
    "clf = HIVECOTEV1(\n",
    "    stc_params={\n",
    "        \"estimator\": RotationForest(n_estimators=3),\n",
    "        \"n_shapelet_samples\": 500,\n",
    "        \"max_shapelets\": 20,\n",
    "        \"batch_size\": 100,\n",
    "    },\n",
    "    tsf_params={\"n_estimators\": 10},\n",
    "    rise_params={\"n_estimators\": 10},\n",
    "    cboss_params={\"n_parameter_samples\": 25, \"max_ensemble_size\": 5},\n",
    "    random_state=1\n",
    ")\n",
    "clf.fit(X_train_df_2, y_train)\n",
    "y_pred = clf.predict(X_test_df_2)\n",
    "\n",
    "scores = evaluate_model('HIVECOTEV1', y_pred)\n",
    "bicep_scores.append(scores)\n",
    "print(scores)"
   ]
  },
  {
   "cell_type": "markdown",
   "id": "ee923cf6",
   "metadata": {},
   "source": [
    "## Using Hip Angle (11, 23, 25)"
   ]
  },
  {
   "cell_type": "markdown",
   "id": "295b1746",
   "metadata": {},
   "source": [
    "### Distance-based"
   ]
  },
  {
   "cell_type": "markdown",
   "id": "61e935f2",
   "metadata": {},
   "source": [
    "#### KNeighbours Time Series"
   ]
  },
  {
   "cell_type": "code",
   "execution_count": 36,
   "id": "41fb2eb6",
   "metadata": {},
   "outputs": [
    {
     "data": {
      "image/png": "[encoded data removed]",
      "text/plain": [
       "<Figure size 432x288 with 2 Axes>"
      ]
     },
     "metadata": {
      "needs_background": "light"
     },
     "output_type": "display_data"
    },
    {
     "name": "stdout",
     "output_type": "stream",
     "text": [
      "{'Classifier': 'KNeighbours', 'Accuracy': 0.8888888888888888, 'Precision': 0.9203431372549019, 'Recall': 0.871031746031746, 'F1 Score': 0.8888888888888888}\n"
     ]
    }
   ],
   "source": [
    "clf = KNeighborsTimeSeriesClassifier()\n",
    "clf.fit(X_train_df_3, y_train)\n",
    "y_pred = clf.predict(X_test_df_3)\n",
    "\n",
    "scores = evaluate_model('KNeighbours', y_pred, True)\n",
    "hip_scores.append(scores)\n",
    "print(scores)"
   ]
  },
  {
   "cell_type": "markdown",
   "id": "845f09ff",
   "metadata": {},
   "source": [
    "#### Elastic Ensemble"
   ]
  },
  {
   "cell_type": "code",
   "execution_count": 37,
   "id": "7d05ae0e",
   "metadata": {},
   "outputs": [
    {
     "name": "stdout",
     "output_type": "stream",
     "text": [
      "{'Classifier': 'Elastic', 'Accuracy': 0.8888888888888888, 'Precision': 0.8883304195804196, 'Recall': 0.886002886002886, 'F1 Score': 0.8888888888888888}\n"
     ]
    }
   ],
   "source": [
    "clf = ElasticEnsemble(\n",
    "    proportion_of_param_options=0.1,\n",
    "    proportion_train_for_test=0.1,\n",
    "    distance_measures = [\"dtw\",\"ddtw\"],\n",
    "    majority_vote=True,\n",
    "    random_state=1\n",
    ")\n",
    "clf.fit(X_train_df_3, y_train)\n",
    "y_pred = clf.predict(X_test_df_3)\n",
    "\n",
    "scores = evaluate_model('Elastic', y_pred)\n",
    "hip_scores.append(scores)\n",
    "print(scores)"
   ]
  },
  {
   "cell_type": "markdown",
   "id": "be78c893",
   "metadata": {},
   "source": [
    "### Dictionary-based"
   ]
  },
  {
   "cell_type": "markdown",
   "id": "ce12f08d",
   "metadata": {},
   "source": [
    "#### BOSSEnsemble"
   ]
  },
  {
   "cell_type": "code",
   "execution_count": 38,
   "id": "8aeec6a6",
   "metadata": {},
   "outputs": [
    {
     "name": "stdout",
     "output_type": "stream",
     "text": [
      "{'Classifier': 'BOSSEnsemble', 'Accuracy': 0.8, 'Precision': 0.8625, 'Recall': 0.7651515151515151, 'F1 Score': 0.8000000000000002}\n"
     ]
    }
   ],
   "source": [
    "clf = BOSSEnsemble(max_ensemble_size=5, random_state=1)\n",
    "clf.fit(X_train_df_3, y_train)\n",
    "y_pred = clf.predict(X_test_df_3)\n",
    "\n",
    "scores = evaluate_model('BOSSEnsemble', y_pred)\n",
    "hip_scores.append(scores)\n",
    "print(scores)"
   ]
  },
  {
   "cell_type": "markdown",
   "id": "4d29b773",
   "metadata": {},
   "source": [
    "#### WEASEL"
   ]
  },
  {
   "cell_type": "code",
   "execution_count": 39,
   "id": "c7eec76f",
   "metadata": {},
   "outputs": [
    {
     "data": {
      "image/png": "[encoded data removed]",
      "text/plain": [
       "<Figure size 432x288 with 2 Axes>"
      ]
     },
     "metadata": {
      "needs_background": "light"
     },
     "output_type": "display_data"
    },
    {
     "name": "stdout",
     "output_type": "stream",
     "text": [
      "{'Classifier': 'WEASEL', 'Accuracy': 0.8666666666666667, 'Precision': 0.898989898989899, 'Recall': 0.8434343434343434, 'F1 Score': 0.8666666666666667}\n"
     ]
    }
   ],
   "source": [
    "clf = WEASEL(window_inc=3, random_state=1)\n",
    "clf.fit(X_train_df_3, y_train)\n",
    "y_pred = clf.predict(X_test_df_3)\n",
    "\n",
    "scores = evaluate_model('WEASEL', y_pred, True)\n",
    "hip_scores.append(scores)\n",
    "print(scores)"
   ]
  },
  {
   "cell_type": "markdown",
   "id": "3cc64a24",
   "metadata": {},
   "source": [
    "### Interval-based"
   ]
  },
  {
   "cell_type": "markdown",
   "id": "faefaefe",
   "metadata": {},
   "source": [
    "#### Time Series Forest"
   ]
  },
  {
   "cell_type": "code",
   "execution_count": 40,
   "id": "4cbbe4bc",
   "metadata": {},
   "outputs": [
    {
     "data": {
      "image/png": "[encoded data removed]",
      "text/plain": [
       "<Figure size 432x288 with 2 Axes>"
      ]
     },
     "metadata": {
      "needs_background": "light"
     },
     "output_type": "display_data"
    },
    {
     "name": "stdout",
     "output_type": "stream",
     "text": [
      "{'Classifier': 'Forest', 'Accuracy': 0.8444444444444444, 'Precision': 0.895748987854251, 'Recall': 0.8055555555555556, 'F1 Score': 0.8444444444444444}\n"
     ]
    }
   ],
   "source": [
    "clf = TimeSeriesForestClassifier(random_state=1)\n",
    "clf.fit(X_train_df_3, y_train)\n",
    "y_pred = clf.predict(X_test_df_3)\n",
    "\n",
    "scores = evaluate_model('Forest', y_pred, True)\n",
    "hip_scores.append(scores)\n",
    "print(scores)"
   ]
  },
  {
   "cell_type": "markdown",
   "id": "d2d3812b",
   "metadata": {},
   "source": [
    "### Kernel-based"
   ]
  },
  {
   "cell_type": "code",
   "execution_count": 41,
   "id": "adc904ab",
   "metadata": {},
   "outputs": [
    {
     "name": "stdout",
     "output_type": "stream",
     "text": [
      "{'Classifier': 'Arsenal', 'Accuracy': 0.8444444444444444, 'Precision': 0.8748885918003565, 'Recall': 0.8255772005772006, 'F1 Score': 0.8444444444444444}\n"
     ]
    }
   ],
   "source": [
    "clf = Arsenal(num_kernels=200, n_estimators=5, random_state=1)\n",
    "clf.fit(X_train_df_3, y_train)\n",
    "y_pred = clf.predict(X_test_df_3)\n",
    "\n",
    "scores = evaluate_model('Arsenal', y_pred)\n",
    "hip_scores.append(scores)\n",
    "print(scores)"
   ]
  },
  {
   "cell_type": "markdown",
   "id": "f6680ac0",
   "metadata": {},
   "source": [
    "### Shapelet-based"
   ]
  },
  {
   "cell_type": "code",
   "execution_count": 42,
   "id": "e530c664",
   "metadata": {},
   "outputs": [
    {
     "name": "stdout",
     "output_type": "stream",
     "text": [
      "{'Classifier': 'Shapelet', 'Accuracy': 0.8, 'Precision': 0.7964285714285714, 'Recall': 0.7949134199134199, 'F1 Score': 0.8000000000000002}\n"
     ]
    }
   ],
   "source": [
    "clf = ShapeletTransformClassifier(\n",
    "    estimator=RotationForest(n_estimators=3),\n",
    "    n_shapelet_samples=500,\n",
    "    max_shapelets=20,\n",
    "    batch_size=100,\n",
    "    random_state=1\n",
    ")\n",
    "clf.fit(X_train_df_3, y_train)\n",
    "y_pred = clf.predict(X_test_df_3)\n",
    "\n",
    "scores = evaluate_model('Shapelet', y_pred)\n",
    "hip_scores.append(scores)\n",
    "print(scores)"
   ]
  },
  {
   "cell_type": "markdown",
   "id": "06f8ac22",
   "metadata": {},
   "source": [
    "### Hybrid"
   ]
  },
  {
   "cell_type": "code",
   "execution_count": 43,
   "id": "2adf5bd8",
   "metadata": {},
   "outputs": [
    {
     "name": "stdout",
     "output_type": "stream",
     "text": [
      "{'Classifier': 'HIVECOTEV1', 'Accuracy': 0.8, 'Precision': 0.8625, 'Recall': 0.7651515151515151, 'F1 Score': 0.8000000000000002}\n"
     ]
    }
   ],
   "source": [
    "clf = HIVECOTEV1(\n",
    "    stc_params={\n",
    "        \"estimator\": RotationForest(n_estimators=3),\n",
    "        \"n_shapelet_samples\": 500,\n",
    "        \"max_shapelets\": 20,\n",
    "        \"batch_size\": 100,\n",
    "    },\n",
    "    tsf_params={\"n_estimators\": 10},\n",
    "    rise_params={\"n_estimators\": 10},\n",
    "    cboss_params={\"n_parameter_samples\": 25, \"max_ensemble_size\": 5},\n",
    "    random_state=1\n",
    ")\n",
    "clf.fit(X_train_df_3, y_train)\n",
    "y_pred = clf.predict(X_test_df_3)\n",
    "\n",
    "scores = evaluate_model('HIVECOTEV1', y_pred)\n",
    "hip_scores.append(scores)\n",
    "print(scores)"
   ]
  },
  {
   "cell_type": "markdown",
   "id": "ad7cdbbe",
   "metadata": {},
   "source": [
    "# 3. Choose Best Model"
   ]
  },
  {
   "cell_type": "markdown",
   "id": "80369b3e",
   "metadata": {},
   "source": [
    "## Best Classifier for Knee Angle"
   ]
  },
  {
   "cell_type": "code",
   "execution_count": 44,
   "id": "0fda1639",
   "metadata": {},
   "outputs": [
    {
     "data": {
      "text/html": [
       "<div>\n",
       "<style scoped>\n",
       "    .dataframe tbody tr th:only-of-type {\n",
       "        vertical-align: middle;\n",
       "    }\n",
       "\n",
       "    .dataframe tbody tr th {\n",
       "        vertical-align: top;\n",
       "    }\n",
       "\n",
       "    .dataframe thead th {\n",
       "        text-align: right;\n",
       "    }\n",
       "</style>\n",
       "<table border=\"1\" class=\"dataframe\">\n",
       "  <thead>\n",
       "    <tr style=\"text-align: right;\">\n",
       "      <th></th>\n",
       "      <th>Classifier</th>\n",
       "      <th>Accuracy</th>\n",
       "      <th>Precision</th>\n",
       "      <th>Recall</th>\n",
       "      <th>F1 Score</th>\n",
       "    </tr>\n",
       "  </thead>\n",
       "  <tbody>\n",
       "    <tr>\n",
       "      <th>5</th>\n",
       "      <td>WEASEL</td>\n",
       "      <td>0.911111</td>\n",
       "      <td>0.927083</td>\n",
       "      <td>0.893939</td>\n",
       "      <td>0.911111</td>\n",
       "    </tr>\n",
       "    <tr>\n",
       "      <th>1</th>\n",
       "      <td>Elastic</td>\n",
       "      <td>0.844444</td>\n",
       "      <td>0.841084</td>\n",
       "      <td>0.850289</td>\n",
       "      <td>0.844444</td>\n",
       "    </tr>\n",
       "    <tr>\n",
       "      <th>6</th>\n",
       "      <td>Forest</td>\n",
       "      <td>0.844444</td>\n",
       "      <td>0.843137</td>\n",
       "      <td>0.825397</td>\n",
       "      <td>0.844444</td>\n",
       "    </tr>\n",
       "    <tr>\n",
       "      <th>9</th>\n",
       "      <td>HIVECOTEV1</td>\n",
       "      <td>0.844444</td>\n",
       "      <td>0.828205</td>\n",
       "      <td>0.825397</td>\n",
       "      <td>0.844444</td>\n",
       "    </tr>\n",
       "    <tr>\n",
       "      <th>0</th>\n",
       "      <td>KNeighbours</td>\n",
       "      <td>0.777778</td>\n",
       "      <td>0.771062</td>\n",
       "      <td>0.766955</td>\n",
       "      <td>0.777778</td>\n",
       "    </tr>\n",
       "    <tr>\n",
       "      <th>4</th>\n",
       "      <td>BOSSEnsemble</td>\n",
       "      <td>0.777778</td>\n",
       "      <td>0.773504</td>\n",
       "      <td>0.772006</td>\n",
       "      <td>0.777778</td>\n",
       "    </tr>\n",
       "    <tr>\n",
       "      <th>8</th>\n",
       "      <td>Shapelet</td>\n",
       "      <td>0.733333</td>\n",
       "      <td>0.670098</td>\n",
       "      <td>0.701479</td>\n",
       "      <td>0.733333</td>\n",
       "    </tr>\n",
       "    <tr>\n",
       "      <th>7</th>\n",
       "      <td>Arsenal</td>\n",
       "      <td>0.711111</td>\n",
       "      <td>0.597403</td>\n",
       "      <td>0.668831</td>\n",
       "      <td>0.711111</td>\n",
       "    </tr>\n",
       "    <tr>\n",
       "      <th>2</th>\n",
       "      <td>Proximity Forest</td>\n",
       "      <td>0.555556</td>\n",
       "      <td>0.710069</td>\n",
       "      <td>0.588564</td>\n",
       "      <td>0.555556</td>\n",
       "    </tr>\n",
       "    <tr>\n",
       "      <th>3</th>\n",
       "      <td>IndividualBOSS</td>\n",
       "      <td>0.488889</td>\n",
       "      <td>0.485733</td>\n",
       "      <td>0.476010</td>\n",
       "      <td>0.488889</td>\n",
       "    </tr>\n",
       "  </tbody>\n",
       "</table>\n",
       "</div>"
      ],
      "text/plain": [
       "         Classifier  Accuracy  Precision    Recall  F1 Score\n",
       "5            WEASEL  0.911111   0.927083  0.893939  0.911111\n",
       "1           Elastic  0.844444   0.841084  0.850289  0.844444\n",
       "6            Forest  0.844444   0.843137  0.825397  0.844444\n",
       "9        HIVECOTEV1  0.844444   0.828205  0.825397  0.844444\n",
       "0       KNeighbours  0.777778   0.771062  0.766955  0.777778\n",
       "4      BOSSEnsemble  0.777778   0.773504  0.772006  0.777778\n",
       "8          Shapelet  0.733333   0.670098  0.701479  0.733333\n",
       "7           Arsenal  0.711111   0.597403  0.668831  0.711111\n",
       "2  Proximity Forest  0.555556   0.710069  0.588564  0.555556\n",
       "3    IndividualBOSS  0.488889   0.485733  0.476010  0.488889"
      ]
     },
     "execution_count": 44,
     "metadata": {},
     "output_type": "execute_result"
    }
   ],
   "source": [
    "knee_scores_df = pd.DataFrame(knee_scores)\n",
    "knee_scores_df = knee_scores_df.sort_values(by = ['F1 Score'], ascending = False)\n",
    "knee_scores_df"
   ]
  },
  {
   "cell_type": "code",
   "execution_count": 45,
   "id": "b07dc42c",
   "metadata": {},
   "outputs": [
    {
     "data": {
      "image/png": "[encoded data removed]",
      "text/plain": [
       "<Figure size 1296x360 with 1 Axes>"
      ]
     },
     "metadata": {
      "needs_background": "light"
     },
     "output_type": "display_data"
    }
   ],
   "source": [
    "knee_scores_df.plot.bar(x = 'Classifier', figsize = (18,5))\n",
    "plt.title('Comparison of Classifiers for Elbow-Hip Angle')\n",
    "plt.show()"
   ]
  },
  {
   "cell_type": "markdown",
   "id": "9294c91b",
   "metadata": {},
   "source": [
    "## Best Classifier for Bicep Angle"
   ]
  },
  {
   "cell_type": "code",
   "execution_count": 46,
   "id": "91f968f3",
   "metadata": {},
   "outputs": [
    {
     "data": {
      "text/html": [
       "<div>\n",
       "<style scoped>\n",
       "    .dataframe tbody tr th:only-of-type {\n",
       "        vertical-align: middle;\n",
       "    }\n",
       "\n",
       "    .dataframe tbody tr th {\n",
       "        vertical-align: top;\n",
       "    }\n",
       "\n",
       "    .dataframe thead th {\n",
       "        text-align: right;\n",
       "    }\n",
       "</style>\n",
       "<table border=\"1\" class=\"dataframe\">\n",
       "  <thead>\n",
       "    <tr style=\"text-align: right;\">\n",
       "      <th></th>\n",
       "      <th>Classifier</th>\n",
       "      <th>Accuracy</th>\n",
       "      <th>Precision</th>\n",
       "      <th>Recall</th>\n",
       "      <th>F1 Score</th>\n",
       "    </tr>\n",
       "  </thead>\n",
       "  <tbody>\n",
       "    <tr>\n",
       "      <th>5</th>\n",
       "      <td>Arsenal</td>\n",
       "      <td>0.911111</td>\n",
       "      <td>0.918245</td>\n",
       "      <td>0.904040</td>\n",
       "      <td>0.911111</td>\n",
       "    </tr>\n",
       "    <tr>\n",
       "      <th>3</th>\n",
       "      <td>WEASEL</td>\n",
       "      <td>0.866667</td>\n",
       "      <td>0.882670</td>\n",
       "      <td>0.863456</td>\n",
       "      <td>0.866667</td>\n",
       "    </tr>\n",
       "    <tr>\n",
       "      <th>2</th>\n",
       "      <td>BOSSEnsemble</td>\n",
       "      <td>0.800000</td>\n",
       "      <td>0.827622</td>\n",
       "      <td>0.790043</td>\n",
       "      <td>0.800000</td>\n",
       "    </tr>\n",
       "    <tr>\n",
       "      <th>7</th>\n",
       "      <td>HIVECOTEV1</td>\n",
       "      <td>0.800000</td>\n",
       "      <td>0.833484</td>\n",
       "      <td>0.780123</td>\n",
       "      <td>0.800000</td>\n",
       "    </tr>\n",
       "    <tr>\n",
       "      <th>4</th>\n",
       "      <td>Forest</td>\n",
       "      <td>0.777778</td>\n",
       "      <td>0.793137</td>\n",
       "      <td>0.762266</td>\n",
       "      <td>0.777778</td>\n",
       "    </tr>\n",
       "    <tr>\n",
       "      <th>1</th>\n",
       "      <td>Elastic</td>\n",
       "      <td>0.755556</td>\n",
       "      <td>0.808117</td>\n",
       "      <td>0.759380</td>\n",
       "      <td>0.755556</td>\n",
       "    </tr>\n",
       "    <tr>\n",
       "      <th>0</th>\n",
       "      <td>KNeighbours</td>\n",
       "      <td>0.733333</td>\n",
       "      <td>0.740657</td>\n",
       "      <td>0.761364</td>\n",
       "      <td>0.733333</td>\n",
       "    </tr>\n",
       "    <tr>\n",
       "      <th>6</th>\n",
       "      <td>Shapelet</td>\n",
       "      <td>0.733333</td>\n",
       "      <td>0.725947</td>\n",
       "      <td>0.731421</td>\n",
       "      <td>0.733333</td>\n",
       "    </tr>\n",
       "  </tbody>\n",
       "</table>\n",
       "</div>"
      ],
      "text/plain": [
       "     Classifier  Accuracy  Precision    Recall  F1 Score\n",
       "5       Arsenal  0.911111   0.918245  0.904040  0.911111\n",
       "3        WEASEL  0.866667   0.882670  0.863456  0.866667\n",
       "2  BOSSEnsemble  0.800000   0.827622  0.790043  0.800000\n",
       "7    HIVECOTEV1  0.800000   0.833484  0.780123  0.800000\n",
       "4        Forest  0.777778   0.793137  0.762266  0.777778\n",
       "1       Elastic  0.755556   0.808117  0.759380  0.755556\n",
       "0   KNeighbours  0.733333   0.740657  0.761364  0.733333\n",
       "6      Shapelet  0.733333   0.725947  0.731421  0.733333"
      ]
     },
     "execution_count": 46,
     "metadata": {},
     "output_type": "execute_result"
    }
   ],
   "source": [
    "bicep_scores_df = pd.DataFrame(bicep_scores)\n",
    "bicep_scores_df = bicep_scores_df.sort_values(by = ['F1 Score'], ascending = False)\n",
    "bicep_scores_df"
   ]
  },
  {
   "cell_type": "code",
   "execution_count": 47,
   "id": "6705441a",
   "metadata": {},
   "outputs": [
    {
     "data": {
      "image/png": "[encoded data removed]",
      "text/plain": [
       "<Figure size 1296x360 with 1 Axes>"
      ]
     },
     "metadata": {
      "needs_background": "light"
     },
     "output_type": "display_data"
    }
   ],
   "source": [
    "bicep_scores_df.plot.bar(x = 'Classifier', figsize = (18,5))\n",
    "plt.title('Comparison of Classifiers for Bicep Angle')\n",
    "plt.show()"
   ]
  },
  {
   "cell_type": "markdown",
   "id": "a8cfe293",
   "metadata": {},
   "source": [
    "## Best Classifier for Hip Angle"
   ]
  },
  {
   "cell_type": "code",
   "execution_count": 48,
   "id": "0900da18",
   "metadata": {},
   "outputs": [
    {
     "data": {
      "text/html": [
       "<div>\n",
       "<style scoped>\n",
       "    .dataframe tbody tr th:only-of-type {\n",
       "        vertical-align: middle;\n",
       "    }\n",
       "\n",
       "    .dataframe tbody tr th {\n",
       "        vertical-align: top;\n",
       "    }\n",
       "\n",
       "    .dataframe thead th {\n",
       "        text-align: right;\n",
       "    }\n",
       "</style>\n",
       "<table border=\"1\" class=\"dataframe\">\n",
       "  <thead>\n",
       "    <tr style=\"text-align: right;\">\n",
       "      <th></th>\n",
       "      <th>Classifier</th>\n",
       "      <th>Accuracy</th>\n",
       "      <th>Precision</th>\n",
       "      <th>Recall</th>\n",
       "      <th>F1 Score</th>\n",
       "    </tr>\n",
       "  </thead>\n",
       "  <tbody>\n",
       "    <tr>\n",
       "      <th>0</th>\n",
       "      <td>KNeighbours</td>\n",
       "      <td>0.888889</td>\n",
       "      <td>0.920343</td>\n",
       "      <td>0.871032</td>\n",
       "      <td>0.888889</td>\n",
       "    </tr>\n",
       "    <tr>\n",
       "      <th>1</th>\n",
       "      <td>Elastic</td>\n",
       "      <td>0.888889</td>\n",
       "      <td>0.888330</td>\n",
       "      <td>0.886003</td>\n",
       "      <td>0.888889</td>\n",
       "    </tr>\n",
       "    <tr>\n",
       "      <th>3</th>\n",
       "      <td>WEASEL</td>\n",
       "      <td>0.866667</td>\n",
       "      <td>0.898990</td>\n",
       "      <td>0.843434</td>\n",
       "      <td>0.866667</td>\n",
       "    </tr>\n",
       "    <tr>\n",
       "      <th>4</th>\n",
       "      <td>Forest</td>\n",
       "      <td>0.844444</td>\n",
       "      <td>0.895749</td>\n",
       "      <td>0.805556</td>\n",
       "      <td>0.844444</td>\n",
       "    </tr>\n",
       "    <tr>\n",
       "      <th>5</th>\n",
       "      <td>Arsenal</td>\n",
       "      <td>0.844444</td>\n",
       "      <td>0.874889</td>\n",
       "      <td>0.825577</td>\n",
       "      <td>0.844444</td>\n",
       "    </tr>\n",
       "    <tr>\n",
       "      <th>2</th>\n",
       "      <td>BOSSEnsemble</td>\n",
       "      <td>0.800000</td>\n",
       "      <td>0.862500</td>\n",
       "      <td>0.765152</td>\n",
       "      <td>0.800000</td>\n",
       "    </tr>\n",
       "    <tr>\n",
       "      <th>6</th>\n",
       "      <td>Shapelet</td>\n",
       "      <td>0.800000</td>\n",
       "      <td>0.796429</td>\n",
       "      <td>0.794913</td>\n",
       "      <td>0.800000</td>\n",
       "    </tr>\n",
       "    <tr>\n",
       "      <th>7</th>\n",
       "      <td>HIVECOTEV1</td>\n",
       "      <td>0.800000</td>\n",
       "      <td>0.862500</td>\n",
       "      <td>0.765152</td>\n",
       "      <td>0.800000</td>\n",
       "    </tr>\n",
       "  </tbody>\n",
       "</table>\n",
       "</div>"
      ],
      "text/plain": [
       "     Classifier  Accuracy  Precision    Recall  F1 Score\n",
       "0   KNeighbours  0.888889   0.920343  0.871032  0.888889\n",
       "1       Elastic  0.888889   0.888330  0.886003  0.888889\n",
       "3        WEASEL  0.866667   0.898990  0.843434  0.866667\n",
       "4        Forest  0.844444   0.895749  0.805556  0.844444\n",
       "5       Arsenal  0.844444   0.874889  0.825577  0.844444\n",
       "2  BOSSEnsemble  0.800000   0.862500  0.765152  0.800000\n",
       "6      Shapelet  0.800000   0.796429  0.794913  0.800000\n",
       "7    HIVECOTEV1  0.800000   0.862500  0.765152  0.800000"
      ]
     },
     "execution_count": 48,
     "metadata": {},
     "output_type": "execute_result"
    }
   ],
   "source": [
    "hip_scores_df = pd.DataFrame(hip_scores)\n",
    "hip_scores_df = hip_scores_df.sort_values(by = ['F1 Score'], ascending = False)\n",
    "hip_scores_df"
   ]
  },
  {
   "cell_type": "code",
   "execution_count": 49,
   "id": "f240047a",
   "metadata": {},
   "outputs": [
    {
     "data": {
      "image/png": "[encoded data removed]",
      "text/plain": [
       "<Figure size 1296x360 with 1 Axes>"
      ]
     },
     "metadata": {
      "needs_background": "light"
     },
     "output_type": "display_data"
    }
   ],
   "source": [
    "hip_scores_df.plot.bar(x = 'Classifier', figsize = (18,5))\n",
    "plt.title('Comparison of Classifiers for Hip Angle')\n",
    "plt.show()"
   ]
  },
  {
   "cell_type": "markdown",
   "id": "f93630de",
   "metadata": {},
   "source": [
    "Univariate classifiers do a good job, but we can combine them with multivariate classification for even better performance."
   ]
  }
 ],
 "metadata": {
  "kernelspec": {
   "display_name": "Python 3",
   "language": "python",
   "name": "python3"
  },
  "language_info": {
   "codemirror_mode": {
    "name": "ipython",
    "version": 3
   },
   "file_extension": ".py",
   "mimetype": "text/x-python",
   "name": "python",
   "nbconvert_exporter": "python",
   "pygments_lexer": "ipython3",
   "version": "3.8.8"
  }
 },
 "nbformat": 4,
 "nbformat_minor": 5
}
