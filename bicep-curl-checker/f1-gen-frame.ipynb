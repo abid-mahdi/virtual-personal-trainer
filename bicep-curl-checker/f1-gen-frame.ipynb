{
 "cells": [
  {
   "cell_type": "markdown",
   "id": "06c10eca",
   "metadata": {},
   "source": [
    "# Frame Analysis F1 Score Generator"
   ]
  },
  {
   "cell_type": "markdown",
   "id": "e0b3b18c",
   "metadata": {},
   "source": [
    "Author: Abid Mahdi, University of Southampton. 28/03/2022. am14g19@soton.ac.uk.\n",
    "\n",
    "This notebook tests how good a trained frame-by-frame analysis model is by generating an F1 score for a dataset of bicep curls. \n",
    "\n",
    "Input: tuples of the bicep curl videos and trained frame analysis models.\n",
    "\n",
    "## TOC:\n",
    "0. [Import Libraries & Setup](#0.-Import-Libraries-&-Setup)\n",
    "1. [Setup Testing Set](#1.-Setup-Testing-Set)\n",
    "2. [Evaluate Models](#2.-Evaluate-Models)\n",
    "    * [Linear SVC](#SVC-Model)\n",
    "    * [Nearest Neighbours](#KNC-Model)\n",
    "    * [Gaussian Naive Bayes](#Gaussian-NB-Model)\n",
    "    * [Neural Network](#Neural-Network-Model)"
   ]
  },
  {
   "cell_type": "markdown",
   "id": "ac03b8ae",
   "metadata": {},
   "source": [
    "# 0. Import Libraries & Setup"
   ]
  },
  {
   "cell_type": "code",
   "execution_count": 1,
   "id": "8d908534",
   "metadata": {},
   "outputs": [],
   "source": [
    "import numpy as np\n",
    "import pandas as pd\n",
    "import matplotlib.pyplot as plt\n",
    "\n",
    "import cv2\n",
    "import mediapipe as mp\n",
    "\n",
    "import math\n",
    "\n",
    "import os\n",
    "import pickle\n",
    "\n",
    "from joblib import load\n",
    "\n",
    "import sklearn.metrics as metrics\n",
    "from sklearn.metrics import accuracy_score, recall_score, precision_score ,f1_score\n",
    "from sklearn.metrics import classification_report, ConfusionMatrixDisplay, confusion_matrix\n",
    "from sklearn.model_selection import train_test_split"
   ]
  },
  {
   "cell_type": "code",
   "execution_count": 2,
   "id": "55838d21",
   "metadata": {},
   "outputs": [],
   "source": [
    "svc_model = load('svc-bicep-curl-mistakes.joblib')\n",
    "knc_model = load('knc-bicep-curl-mistakes.joblib')\n",
    "mlp_model = load('mlp-bicep-curl-mistakes.joblib')\n",
    "gnb_model = load('gnb-bicep-curl-mistakes.joblib')\n",
    "\n",
    "all_videos = pickle.load(open('all-bicep-curls.dump', 'rb'))"
   ]
  },
  {
   "cell_type": "code",
   "execution_count": 3,
   "id": "4eba85d4",
   "metadata": {},
   "outputs": [
    {
     "data": {
      "text/plain": [
       "85"
      ]
     },
     "execution_count": 3,
     "metadata": {},
     "output_type": "execute_result"
    }
   ],
   "source": [
    "len(all_videos)"
   ]
  },
  {
   "cell_type": "markdown",
   "id": "f2bf6f5c",
   "metadata": {},
   "source": [
    "# 1. Setup Testing Set"
   ]
  },
  {
   "cell_type": "code",
   "execution_count": 4,
   "id": "118044f9",
   "metadata": {},
   "outputs": [],
   "source": [
    "X = []\n",
    "y = []\n",
    "\n",
    "for i in all_videos:\n",
    "    X.append(i[1])\n",
    "    y.append(i[0])"
   ]
  },
  {
   "cell_type": "code",
   "execution_count": 5,
   "id": "279c0948",
   "metadata": {},
   "outputs": [
    {
     "name": "stdout",
     "output_type": "stream",
     "text": [
      "29 29\n"
     ]
    }
   ],
   "source": [
    "_, X_test, _, y_test = train_test_split(X, y, test_size=0.33, random_state=42)\n",
    "print(len(X_test), len(y_test))"
   ]
  },
  {
   "cell_type": "markdown",
   "id": "9ae4fc1d",
   "metadata": {},
   "source": [
    "The same seed is used as in label-frames notebook, so the same test set is created. We don't need the training set in this notebook, the training set is used in label-frames."
   ]
  },
  {
   "cell_type": "code",
   "execution_count": 6,
   "id": "5caddd0f",
   "metadata": {},
   "outputs": [
    {
     "data": {
      "text/plain": [
       "['shoulder',\n",
       " 'good',\n",
       " 'shoulder',\n",
       " 'good',\n",
       " 'good',\n",
       " 'shoulder',\n",
       " 'good',\n",
       " 'good',\n",
       " 'good',\n",
       " 'shoulder',\n",
       " 'elbow',\n",
       " 'elbow',\n",
       " 'elbow',\n",
       " 'shoulder',\n",
       " 'elbow',\n",
       " 'elbow',\n",
       " 'elbow',\n",
       " 'shoulder',\n",
       " 'elbow',\n",
       " 'elbow',\n",
       " 'good',\n",
       " 'good',\n",
       " 'elbow',\n",
       " 'good',\n",
       " 'good',\n",
       " 'shoulder',\n",
       " 'good',\n",
       " 'elbow',\n",
       " 'elbow']"
      ]
     },
     "execution_count": 6,
     "metadata": {},
     "output_type": "execute_result"
    }
   ],
   "source": [
    "y_test # A list of the labels"
   ]
  },
  {
   "cell_type": "markdown",
   "id": "4949ac20",
   "metadata": {},
   "source": [
    "# 2. Evaluate Models"
   ]
  },
  {
   "cell_type": "code",
   "execution_count": 7,
   "id": "7d98ec1a",
   "metadata": {},
   "outputs": [],
   "source": [
    "labels = ['elbow', 'good', 'shoulder']\n",
    "    \n",
    "def evaluate_model(model_name, prediction, display_matrix=False):\n",
    "    acc = metrics.accuracy_score(y_test, prediction)\n",
    "    f1 = f1_score(y_test, prediction, average='micro')\n",
    "    precision = precision_score(y_test, prediction, average='macro')\n",
    "    recall = recall_score(y_test, prediction, average='macro')\n",
    "\n",
    "    model_metrics = {'Classifier': model_name, \n",
    "                   'Accuracy': acc, \n",
    "                   'Precision': precision, \n",
    "                   'Recall': recall,\n",
    "                   'F1 Score': f1}\n",
    "\n",
    "    if display_matrix:\n",
    "        cm = confusion_matrix(y_test, prediction, labels=labels)\n",
    "        disp = ConfusionMatrixDisplay(confusion_matrix=cm, display_labels=labels)\n",
    "        disp.plot()\n",
    "        plt.title(model_name)\n",
    "        plt.show()\n",
    "\n",
    "    return model_metrics"
   ]
  },
  {
   "cell_type": "markdown",
   "id": "0b371774",
   "metadata": {},
   "source": [
    "Using the three features extracted in label-frames:\n",
    "   - Hip angle (via keypoints 11, 23, 25)\n",
    "   - Elbow-hip angle (via keypoints 13, 11, 23)\n",
    "   - Bicep angle (via keypoints 11, 13, 15)\n",
    "   \n",
    "First we have to set up the functions that calculate these heuristics."
   ]
  },
  {
   "cell_type": "code",
   "execution_count": 8,
   "id": "7ed2f32d",
   "metadata": {},
   "outputs": [],
   "source": [
    "# Get the angle between 3 keypoint's coordinates\n",
    "# INPUT: frame (dictonary storing the coordinates of all the keypoints), the keypoint numbers\n",
    "# OUTPUT: angle as float\n",
    "def get_angle(frame, keypoint_1, keypoint_2, keypoint_3):\n",
    "    a = np.array([frame['x'+str(keypoint_1)], frame['y'+str(keypoint_1)]]) # First\n",
    "    b = np.array([frame['x'+str(keypoint_2)], frame['y'+str(keypoint_2)]]) # Mid\n",
    "    c = np.array([frame['x'+str(keypoint_3)], frame['y'+str(keypoint_3)]]) # End\n",
    "    \n",
    "    ba = a - b\n",
    "    bc = c - b\n",
    "\n",
    "    cosine_angle = np.dot(ba, bc) / (np.linalg.norm(ba) * np.linalg.norm(bc))\n",
    "    angle = math.degrees(np.arccos(cosine_angle))\n",
    "    \n",
    "    if angle > 180.0:\n",
    "        angle = 360 - angle\n",
    "        \n",
    "    return angle"
   ]
  },
  {
   "cell_type": "code",
   "execution_count": 9,
   "id": "4501b334",
   "metadata": {},
   "outputs": [],
   "source": [
    "# Function to search through all the frames in the video and label whole video with feature extraction\n",
    "# INPUT: list of frames with the coordinates of the keypoints (landmarks) in each frame and the trained model\n",
    "# OUTPUT: string of the label outputted by the trained model\n",
    "def label_video(frames, model):\n",
    "    # By default, the video is labelled as good until a frame with a mistake is found\n",
    "    label = 'good'\n",
    "    \n",
    "    for f in frames:\n",
    "        # Setup heuristic values for input into model\n",
    "        heuristics = {}\n",
    "        \n",
    "        # Note: the order of these should be same as the order in .filter of label-frames notebook\n",
    "        heuristics['bicep_angle'] = get_angle(f['coordinates'], 11, 13, 15)\n",
    "        heuristics['elbow_hip_angle'] = get_angle(f['coordinates'], 13, 11, 23)\n",
    "        heuristics['hip_angle'] = get_angle(f['coordinates'], 11, 23, 25)\n",
    "\n",
    "        prediction = model.predict(pd.DataFrame([heuristics]))[0]\n",
    "        \n",
    "        # Frame with a mistake is found\n",
    "        if prediction != 'good':\n",
    "            return prediction\n",
    "        \n",
    "    return label"
   ]
  },
  {
   "cell_type": "markdown",
   "id": "b3e38591",
   "metadata": {},
   "source": [
    "## SVC Model"
   ]
  },
  {
   "cell_type": "code",
   "execution_count": 10,
   "id": "f498690d",
   "metadata": {},
   "outputs": [
    {
     "data": {
      "image/png": "[encoded data removed]",
      "text/plain": [
       "<Figure size 432x288 with 2 Axes>"
      ]
     },
     "metadata": {
      "needs_background": "light"
     },
     "output_type": "display_data"
    },
    {
     "data": {
      "text/plain": [
       "{'Classifier': 'Linear SVC',\n",
       " 'Accuracy': 0.8620689655172413,\n",
       " 'Precision': 0.9111111111111111,\n",
       " 'Recall': 0.8095238095238094,\n",
       " 'F1 Score': 0.8620689655172413}"
      ]
     },
     "execution_count": 10,
     "metadata": {},
     "output_type": "execute_result"
    }
   ],
   "source": [
    "y_pred = []\n",
    "\n",
    "# Make predictions and populate y_pred\n",
    "for video in X_test:\n",
    "    y_pred.append(label_video(video, svc_model))\n",
    "    \n",
    "evaluate_model('Linear SVC', y_pred, True)"
   ]
  },
  {
   "cell_type": "markdown",
   "id": "188670be",
   "metadata": {},
   "source": [
    "## KNC Model"
   ]
  },
  {
   "cell_type": "code",
   "execution_count": 11,
   "id": "af48ff75",
   "metadata": {},
   "outputs": [
    {
     "data": {
      "image/png": "[encoded data removed]",
      "text/plain": [
       "<Figure size 432x288 with 2 Axes>"
      ]
     },
     "metadata": {
      "needs_background": "light"
     },
     "output_type": "display_data"
    },
    {
     "data": {
      "text/plain": [
       "{'Classifier': 'KNN',\n",
       " 'Accuracy': 0.896551724137931,\n",
       " 'Precision': 0.9285714285714285,\n",
       " 'Recall': 0.8744588744588745,\n",
       " 'F1 Score': 0.896551724137931}"
      ]
     },
     "execution_count": 11,
     "metadata": {},
     "output_type": "execute_result"
    }
   ],
   "source": [
    "y_pred = []\n",
    "\n",
    "# Make predictions and populate y_pred\n",
    "for video in X_test:\n",
    "    y_pred.append(label_video(video, knc_model))\n",
    "    \n",
    "evaluate_model('KNN', y_pred, True)"
   ]
  },
  {
   "cell_type": "markdown",
   "id": "7c04e328",
   "metadata": {},
   "source": [
    "## Gaussian NB Model"
   ]
  },
  {
   "cell_type": "code",
   "execution_count": 12,
   "id": "ad8e10d7",
   "metadata": {},
   "outputs": [
    {
     "data": {
      "image/png": "[encoded data removed]",
      "text/plain": [
       "<Figure size 432x288 with 2 Axes>"
      ]
     },
     "metadata": {
      "needs_background": "light"
     },
     "output_type": "display_data"
    },
    {
     "data": {
      "text/plain": [
       "{'Classifier': 'Gaussian NB',\n",
       " 'Accuracy': 1.0,\n",
       " 'Precision': 1.0,\n",
       " 'Recall': 1.0,\n",
       " 'F1 Score': 1.0}"
      ]
     },
     "execution_count": 12,
     "metadata": {},
     "output_type": "execute_result"
    }
   ],
   "source": [
    "y_pred = []\n",
    "\n",
    "# Make predictions and populate y_pred\n",
    "for video in X_test:\n",
    "    y_pred.append(label_video(video, gnb_model))\n",
    "    \n",
    "evaluate_model('Gaussian NB', y_pred, True)"
   ]
  },
  {
   "cell_type": "code",
   "execution_count": 13,
   "id": "f6054e9f",
   "metadata": {},
   "outputs": [
    {
     "name": "stdout",
     "output_type": "stream",
     "text": [
      "              precision    recall  f1-score   support\n",
      "\n",
      "       elbow       1.00      1.00      1.00        11\n",
      "        good       1.00      1.00      1.00        11\n",
      "    shoulder       1.00      1.00      1.00         7\n",
      "\n",
      "    accuracy                           1.00        29\n",
      "   macro avg       1.00      1.00      1.00        29\n",
      "weighted avg       1.00      1.00      1.00        29\n",
      "\n"
     ]
    }
   ],
   "source": [
    "print(classification_report(y_test, y_pred, target_names=labels))"
   ]
  },
  {
   "cell_type": "markdown",
   "id": "d6582e69",
   "metadata": {},
   "source": [
    "## Neural Network Model"
   ]
  },
  {
   "cell_type": "code",
   "execution_count": 14,
   "id": "61e8fbfe",
   "metadata": {},
   "outputs": [
    {
     "name": "stderr",
     "output_type": "stream",
     "text": [
      "C:\\Users\\abid5.000\\anaconda3\\lib\\site-packages\\sklearn\\metrics\\_classification.py:1245: UndefinedMetricWarning: Precision is ill-defined and being set to 0.0 in labels with no predicted samples. Use `zero_division` parameter to control this behavior.\n",
      "  _warn_prf(average, modifier, msg_start, len(result))\n"
     ]
    },
    {
     "data": {
      "image/png": "[encoded data removed]",
      "text/plain": [
       "<Figure size 432x288 with 2 Axes>"
      ]
     },
     "metadata": {
      "needs_background": "light"
     },
     "output_type": "display_data"
    },
    {
     "data": {
      "text/plain": [
       "{'Classifier': 'Nerual Network',\n",
       " 'Accuracy': 0.7586206896551724,\n",
       " 'Precision': 0.5370370370370371,\n",
       " 'Recall': 0.6666666666666666,\n",
       " 'F1 Score': 0.7586206896551724}"
      ]
     },
     "execution_count": 14,
     "metadata": {},
     "output_type": "execute_result"
    }
   ],
   "source": [
    "y_pred = []\n",
    "\n",
    "# Make predictions and populate y_pred\n",
    "for video in X_test:\n",
    "    y_pred.append(label_video(video, mlp_model))\n",
    "    \n",
    "evaluate_model('Nerual Network', y_pred, True)"
   ]
  }
 ],
 "metadata": {
  "kernelspec": {
   "display_name": "Python 3",
   "language": "python",
   "name": "python3"
  },
  "language_info": {
   "codemirror_mode": {
    "name": "ipython",
    "version": 3
   },
   "file_extension": ".py",
   "mimetype": "text/x-python",
   "name": "python",
   "nbconvert_exporter": "python",
   "pygments_lexer": "ipython3",
   "version": "3.8.8"
  }
 },
 "nbformat": 4,
 "nbformat_minor": 5
}
