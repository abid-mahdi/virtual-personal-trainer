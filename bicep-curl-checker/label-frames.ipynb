{
 "cells": [
  {
   "cell_type": "markdown",
   "id": "0879b8ef",
   "metadata": {},
   "source": [
    "# Label Frames & Train Frame Classifier"
   ]
  },
  {
   "cell_type": "markdown",
   "id": "f19aa975",
   "metadata": {},
   "source": [
    "Author: Abid Mahdi, University of Southampton. 28/03/2022. am14g19@soton.ac.uk.\n",
    "\n",
    "This notebook allows you to label the individual frames in a video from which a classifier in the sklearn library can be trained.\n",
    "\n",
    "Notebook exports: labelled frames in a csv file and a trained model in a joblib file.\n",
    "\n",
    "## TOC:\n",
    "0. [Import Libraries & Setup Helper Functions](#0.-Import-Libraries-&-Setup)\n",
    "1. [Labeller](#1.-Detect-Pose-&-Label)\n",
    "2. [Train & Evaluate Models](#2.-Train-&-Evaluate-Models)"
   ]
  },
  {
   "cell_type": "markdown",
   "id": "86ccf9c1",
   "metadata": {},
   "source": [
    "# 0. Import Libraries & Setup"
   ]
  },
  {
   "cell_type": "code",
   "execution_count": 1,
   "id": "48b42737",
   "metadata": {},
   "outputs": [],
   "source": [
    "folder_name = 'bicep-curl-videos'\n",
    "output_input_csv_filename = 'bicep-curl-labelled-frames.csv'"
   ]
  },
  {
   "cell_type": "code",
   "execution_count": 2,
   "id": "010d361e",
   "metadata": {},
   "outputs": [],
   "source": [
    "import numpy as np\n",
    "import pandas as pd\n",
    "import math\n",
    "import matplotlib.pyplot as plt\n",
    "\n",
    "import sklearn\n",
    "from sklearn.model_selection import train_test_split\n",
    "import sklearn.metrics as metrics\n",
    "from sklearn.metrics import accuracy_score, recall_score, precision_score ,f1_score\n",
    "from sklearn.metrics import classification_report, ConfusionMatrixDisplay, confusion_matrix\n",
    "\n",
    "from sklearn.linear_model import SGDClassifier, LogisticRegression\n",
    "from sklearn.ensemble import RandomForestClassifier, VotingClassifier\n",
    "from sklearn.svm import LinearSVC\n",
    "from sklearn.neighbors import KNeighborsClassifier\n",
    "from sklearn.naive_bayes import MultinomialNB, GaussianNB\n",
    "from sklearn.model_selection import train_test_split\n",
    "from sklearn.pipeline import make_pipeline\n",
    "from sklearn.preprocessing import StandardScaler\n",
    "\n",
    "import pickle\n",
    "from joblib import dump, load\n",
    "\n",
    "import cv2\n",
    "import mediapipe as mp\n",
    "\n",
    "import os"
   ]
  },
  {
   "cell_type": "code",
   "execution_count": 3,
   "id": "ca58e968",
   "metadata": {},
   "outputs": [],
   "source": [
    "all_landmarks = [] # List of dictionaries storing all the landmarks\n",
    "\n",
    "def label_landmarks(landmarks, label):\n",
    "    unboxed_landmarks = {}\n",
    "    unboxed_landmarks['label'] = label # Label of the keypoint's coordinates\n",
    "    \n",
    "    # Store all the keypoint's x0,y0,z0...z32 coordinates in dictionary\n",
    "    for i in range(33):\n",
    "        unboxed_landmarks['x' + str(i)] = landmarks.landmark[i].x\n",
    "        unboxed_landmarks['y' + str(i)] = landmarks.landmark[i].y\n",
    "        unboxed_landmarks['z' + str(i)] = landmarks.landmark[i].z\n",
    "        \n",
    "    all_landmarks.append(unboxed_landmarks)"
   ]
  },
  {
   "cell_type": "markdown",
   "id": "eb79f384",
   "metadata": {},
   "source": [
    "# 1. Detect Pose & Label"
   ]
  },
  {
   "cell_type": "markdown",
   "id": "c276e394",
   "metadata": {},
   "source": [
    "The code below is used to label frames in all the videos in a folder. First we find the training set and set aside the test set in the evaluation.\n",
    "\n",
    "- Press 'e' to label a frame as having too much elbow movement\n",
    "- Press 's' to label a frame as having too much shoulder movement\n",
    "- Press 'g' to label a frame as being good"
   ]
  },
  {
   "cell_type": "code",
   "execution_count": 4,
   "id": "6723fdcb",
   "metadata": {},
   "outputs": [],
   "source": [
    "mp_drawing = mp.solutions.drawing_utils\n",
    "mp_pose = mp.solutions.pose\n",
    "\n",
    "all_videos = []\n",
    "\n",
    "directory = os.fsencode(folder_name)\n",
    "\n",
    "for file in os.listdir(directory):\n",
    "    all_videos.append(os.fsdecode(file))\n",
    "    \n",
    "# Filenames of the videos we want to train the frame labeller on\n",
    "# The test set is in f1-gen-heuristic notebook, same seed is used so same train and test set is created\n",
    "train_videos, _, _, _ = train_test_split(all_videos, all_videos, test_size=0.33, random_state=42)\n",
    "\n",
    "exit = False\n",
    "\n",
    "for filename in train_videos:\n",
    "    cap = cv2.VideoCapture(folder_name + '/' + filename)\n",
    "    with mp_pose.Pose(min_detection_confidence=0.7, min_tracking_confidence=0.5) as pose:\n",
    "\n",
    "        while cap.isOpened():\n",
    "            ret, image = cap.read()\n",
    "\n",
    "            if ret == False:\n",
    "                break\n",
    "            \n",
    "            image = cv2.cvtColor(image, cv2.COLOR_BGR2RGB)\n",
    "            image.flags.writeable = False\n",
    "            results = pose.process(image)\n",
    "            image.flags.writeable = True\n",
    "            image = cv2.cvtColor(image, cv2.COLOR_RGB2BGR)\n",
    "\n",
    "            mp_drawing.draw_landmarks(image, results.pose_landmarks, mp_pose.POSE_CONNECTIONS)\n",
    "\n",
    "            cv2.rectangle(image, (0,0), (225, 100), (0,0,0), -1)\n",
    "\n",
    "            k = cv2.waitKey(1)\n",
    "            # Press 'e' to label frame as elbow\n",
    "            if k == 101:\n",
    "                label_landmarks(results.pose_landmarks, 'elbow')\n",
    "                cv2.putText(image, 'elbow', (60,60), cv2.FONT_HERSHEY_SIMPLEX, 2, (255,255,255), 2, cv2.LINE_AA)\n",
    "\n",
    "            # Press 's' to label frame as shoulder\n",
    "            if k == 115:\n",
    "                label_landmarks(results.pose_landmarks, 'shoulder')\n",
    "                cv2.putText(image, 'shoulder', (60,60), cv2.FONT_HERSHEY_SIMPLEX, 2, (255,255,255), 2, cv2.LINE_AA)\n",
    "\n",
    "            # Press 'g' to label frame as good\n",
    "            if k == 103:\n",
    "                label_landmarks(results.pose_landmarks, 'good')\n",
    "                cv2.putText(image, 'good', (60,60), cv2.FONT_HERSHEY_SIMPLEX, 2, (255,255,255), 2, cv2.LINE_AA)\n",
    "                \n",
    "            # Press ESC to quit\n",
    "            if k == 27:\n",
    "                exit = True\n",
    "                break\n",
    "\n",
    "            cv2.namedWindow('output', cv2.WINDOW_NORMAL) # Allows you to manually change the size of the window\n",
    "            cv2.imshow(\"output\", image)\n",
    "\n",
    "        cap.release()\n",
    "        cv2.destroyAllWindows()\n",
    "        if exit == True:\n",
    "            break"
   ]
  },
  {
   "cell_type": "code",
   "execution_count": 5,
   "id": "e1ea1fa7",
   "metadata": {},
   "outputs": [],
   "source": [
    "# Save the data in a csv\n",
    "landmarks_df = pd.DataFrame(all_landmarks)\n",
    "landmarks_df.to_csv(output_input_csv_filename, index=False)"
   ]
  },
  {
   "cell_type": "code",
   "execution_count": 45,
   "id": "784bd8c2",
   "metadata": {},
   "outputs": [
    {
     "data": {
      "text/html": [
       "<div>\n",
       "<style scoped>\n",
       "    .dataframe tbody tr th:only-of-type {\n",
       "        vertical-align: middle;\n",
       "    }\n",
       "\n",
       "    .dataframe tbody tr th {\n",
       "        vertical-align: top;\n",
       "    }\n",
       "\n",
       "    .dataframe thead th {\n",
       "        text-align: right;\n",
       "    }\n",
       "</style>\n",
       "<table border=\"1\" class=\"dataframe\">\n",
       "  <thead>\n",
       "    <tr style=\"text-align: right;\">\n",
       "      <th></th>\n",
       "      <th>label</th>\n",
       "      <th>x0</th>\n",
       "      <th>y0</th>\n",
       "      <th>z0</th>\n",
       "      <th>x1</th>\n",
       "      <th>y1</th>\n",
       "      <th>z1</th>\n",
       "      <th>x2</th>\n",
       "      <th>y2</th>\n",
       "      <th>z2</th>\n",
       "      <th>...</th>\n",
       "      <th>z29</th>\n",
       "      <th>x30</th>\n",
       "      <th>y30</th>\n",
       "      <th>z30</th>\n",
       "      <th>x31</th>\n",
       "      <th>y31</th>\n",
       "      <th>z31</th>\n",
       "      <th>x32</th>\n",
       "      <th>y32</th>\n",
       "      <th>z32</th>\n",
       "    </tr>\n",
       "  </thead>\n",
       "  <tbody>\n",
       "    <tr>\n",
       "      <th>0</th>\n",
       "      <td>elbow</td>\n",
       "      <td>0.443093</td>\n",
       "      <td>0.161381</td>\n",
       "      <td>-0.101420</td>\n",
       "      <td>0.450379</td>\n",
       "      <td>0.144473</td>\n",
       "      <td>-0.165286</td>\n",
       "      <td>0.454412</td>\n",
       "      <td>0.143811</td>\n",
       "      <td>-0.165362</td>\n",
       "      <td>...</td>\n",
       "      <td>-0.016946</td>\n",
       "      <td>0.583670</td>\n",
       "      <td>0.760894</td>\n",
       "      <td>0.573409</td>\n",
       "      <td>0.436530</td>\n",
       "      <td>0.808394</td>\n",
       "      <td>-0.174437</td>\n",
       "      <td>0.463945</td>\n",
       "      <td>0.765809</td>\n",
       "      <td>0.525320</td>\n",
       "    </tr>\n",
       "    <tr>\n",
       "      <th>1</th>\n",
       "      <td>elbow</td>\n",
       "      <td>0.447388</td>\n",
       "      <td>0.180204</td>\n",
       "      <td>-0.120142</td>\n",
       "      <td>0.442015</td>\n",
       "      <td>0.163513</td>\n",
       "      <td>-0.182616</td>\n",
       "      <td>0.445655</td>\n",
       "      <td>0.161362</td>\n",
       "      <td>-0.182662</td>\n",
       "      <td>...</td>\n",
       "      <td>-0.008184</td>\n",
       "      <td>0.583494</td>\n",
       "      <td>0.754490</td>\n",
       "      <td>0.536074</td>\n",
       "      <td>0.432123</td>\n",
       "      <td>0.808205</td>\n",
       "      <td>-0.154826</td>\n",
       "      <td>0.463750</td>\n",
       "      <td>0.761782</td>\n",
       "      <td>0.496120</td>\n",
       "    </tr>\n",
       "    <tr>\n",
       "      <th>2</th>\n",
       "      <td>elbow</td>\n",
       "      <td>0.460635</td>\n",
       "      <td>0.177298</td>\n",
       "      <td>-0.100945</td>\n",
       "      <td>0.456729</td>\n",
       "      <td>0.160945</td>\n",
       "      <td>-0.164320</td>\n",
       "      <td>0.459875</td>\n",
       "      <td>0.159335</td>\n",
       "      <td>-0.164340</td>\n",
       "      <td>...</td>\n",
       "      <td>-0.000498</td>\n",
       "      <td>0.583771</td>\n",
       "      <td>0.754715</td>\n",
       "      <td>0.480002</td>\n",
       "      <td>0.429977</td>\n",
       "      <td>0.808668</td>\n",
       "      <td>-0.147399</td>\n",
       "      <td>0.463581</td>\n",
       "      <td>0.761515</td>\n",
       "      <td>0.436693</td>\n",
       "    </tr>\n",
       "    <tr>\n",
       "      <th>3</th>\n",
       "      <td>elbow</td>\n",
       "      <td>0.462211</td>\n",
       "      <td>0.166524</td>\n",
       "      <td>-0.100571</td>\n",
       "      <td>0.460950</td>\n",
       "      <td>0.148563</td>\n",
       "      <td>-0.163544</td>\n",
       "      <td>0.464577</td>\n",
       "      <td>0.147461</td>\n",
       "      <td>-0.163577</td>\n",
       "      <td>...</td>\n",
       "      <td>0.080868</td>\n",
       "      <td>0.577578</td>\n",
       "      <td>0.756123</td>\n",
       "      <td>0.537807</td>\n",
       "      <td>0.432419</td>\n",
       "      <td>0.806675</td>\n",
       "      <td>-0.067822</td>\n",
       "      <td>0.458218</td>\n",
       "      <td>0.763661</td>\n",
       "      <td>0.482909</td>\n",
       "    </tr>\n",
       "    <tr>\n",
       "      <th>4</th>\n",
       "      <td>elbow</td>\n",
       "      <td>0.462060</td>\n",
       "      <td>0.156854</td>\n",
       "      <td>-0.082532</td>\n",
       "      <td>0.466014</td>\n",
       "      <td>0.140115</td>\n",
       "      <td>-0.142117</td>\n",
       "      <td>0.469821</td>\n",
       "      <td>0.139524</td>\n",
       "      <td>-0.142199</td>\n",
       "      <td>...</td>\n",
       "      <td>-0.034920</td>\n",
       "      <td>0.580388</td>\n",
       "      <td>0.759046</td>\n",
       "      <td>0.565462</td>\n",
       "      <td>0.436141</td>\n",
       "      <td>0.803172</td>\n",
       "      <td>-0.208801</td>\n",
       "      <td>0.455701</td>\n",
       "      <td>0.760788</td>\n",
       "      <td>0.522673</td>\n",
       "    </tr>\n",
       "    <tr>\n",
       "      <th>...</th>\n",
       "      <td>...</td>\n",
       "      <td>...</td>\n",
       "      <td>...</td>\n",
       "      <td>...</td>\n",
       "      <td>...</td>\n",
       "      <td>...</td>\n",
       "      <td>...</td>\n",
       "      <td>...</td>\n",
       "      <td>...</td>\n",
       "      <td>...</td>\n",
       "      <td>...</td>\n",
       "      <td>...</td>\n",
       "      <td>...</td>\n",
       "      <td>...</td>\n",
       "      <td>...</td>\n",
       "      <td>...</td>\n",
       "      <td>...</td>\n",
       "      <td>...</td>\n",
       "      <td>...</td>\n",
       "      <td>...</td>\n",
       "      <td>...</td>\n",
       "    </tr>\n",
       "    <tr>\n",
       "      <th>295</th>\n",
       "      <td>elbow</td>\n",
       "      <td>0.445262</td>\n",
       "      <td>0.195094</td>\n",
       "      <td>-0.060764</td>\n",
       "      <td>0.445062</td>\n",
       "      <td>0.177167</td>\n",
       "      <td>-0.125263</td>\n",
       "      <td>0.448945</td>\n",
       "      <td>0.175737</td>\n",
       "      <td>-0.125293</td>\n",
       "      <td>...</td>\n",
       "      <td>-0.129435</td>\n",
       "      <td>0.615893</td>\n",
       "      <td>0.785729</td>\n",
       "      <td>0.700741</td>\n",
       "      <td>0.466888</td>\n",
       "      <td>0.849227</td>\n",
       "      <td>-0.292871</td>\n",
       "      <td>0.481084</td>\n",
       "      <td>0.792984</td>\n",
       "      <td>0.677866</td>\n",
       "    </tr>\n",
       "    <tr>\n",
       "      <th>296</th>\n",
       "      <td>elbow</td>\n",
       "      <td>0.463613</td>\n",
       "      <td>0.198097</td>\n",
       "      <td>-0.132433</td>\n",
       "      <td>0.470118</td>\n",
       "      <td>0.181107</td>\n",
       "      <td>-0.197287</td>\n",
       "      <td>0.475608</td>\n",
       "      <td>0.179858</td>\n",
       "      <td>-0.197218</td>\n",
       "      <td>...</td>\n",
       "      <td>-0.185787</td>\n",
       "      <td>0.607302</td>\n",
       "      <td>0.782388</td>\n",
       "      <td>0.688053</td>\n",
       "      <td>0.465918</td>\n",
       "      <td>0.852424</td>\n",
       "      <td>-0.350524</td>\n",
       "      <td>0.478923</td>\n",
       "      <td>0.793839</td>\n",
       "      <td>0.666587</td>\n",
       "    </tr>\n",
       "    <tr>\n",
       "      <th>297</th>\n",
       "      <td>elbow</td>\n",
       "      <td>0.464070</td>\n",
       "      <td>0.198900</td>\n",
       "      <td>-0.053110</td>\n",
       "      <td>0.468875</td>\n",
       "      <td>0.181811</td>\n",
       "      <td>-0.120282</td>\n",
       "      <td>0.473976</td>\n",
       "      <td>0.180304</td>\n",
       "      <td>-0.120272</td>\n",
       "      <td>...</td>\n",
       "      <td>-0.090150</td>\n",
       "      <td>0.609173</td>\n",
       "      <td>0.804751</td>\n",
       "      <td>0.606350</td>\n",
       "      <td>0.466810</td>\n",
       "      <td>0.853727</td>\n",
       "      <td>-0.237127</td>\n",
       "      <td>0.479318</td>\n",
       "      <td>0.798613</td>\n",
       "      <td>0.565754</td>\n",
       "    </tr>\n",
       "    <tr>\n",
       "      <th>298</th>\n",
       "      <td>elbow</td>\n",
       "      <td>0.464874</td>\n",
       "      <td>0.199419</td>\n",
       "      <td>-0.043170</td>\n",
       "      <td>0.466426</td>\n",
       "      <td>0.182332</td>\n",
       "      <td>-0.107780</td>\n",
       "      <td>0.470673</td>\n",
       "      <td>0.180684</td>\n",
       "      <td>-0.107811</td>\n",
       "      <td>...</td>\n",
       "      <td>0.024804</td>\n",
       "      <td>0.634873</td>\n",
       "      <td>0.824164</td>\n",
       "      <td>0.454501</td>\n",
       "      <td>0.467835</td>\n",
       "      <td>0.856326</td>\n",
       "      <td>-0.123714</td>\n",
       "      <td>0.485973</td>\n",
       "      <td>0.809859</td>\n",
       "      <td>0.387884</td>\n",
       "    </tr>\n",
       "    <tr>\n",
       "      <th>299</th>\n",
       "      <td>elbow</td>\n",
       "      <td>0.468209</td>\n",
       "      <td>0.193820</td>\n",
       "      <td>-0.033872</td>\n",
       "      <td>0.469826</td>\n",
       "      <td>0.177820</td>\n",
       "      <td>-0.090213</td>\n",
       "      <td>0.473784</td>\n",
       "      <td>0.176535</td>\n",
       "      <td>-0.090294</td>\n",
       "      <td>...</td>\n",
       "      <td>0.032732</td>\n",
       "      <td>0.631360</td>\n",
       "      <td>0.820772</td>\n",
       "      <td>0.462216</td>\n",
       "      <td>0.467777</td>\n",
       "      <td>0.857628</td>\n",
       "      <td>-0.138953</td>\n",
       "      <td>0.485451</td>\n",
       "      <td>0.814577</td>\n",
       "      <td>0.369683</td>\n",
       "    </tr>\n",
       "  </tbody>\n",
       "</table>\n",
       "<p>300 rows × 100 columns</p>\n",
       "</div>"
      ],
      "text/plain": [
       "     label        x0        y0        z0        x1        y1        z1  \\\n",
       "0    elbow  0.443093  0.161381 -0.101420  0.450379  0.144473 -0.165286   \n",
       "1    elbow  0.447388  0.180204 -0.120142  0.442015  0.163513 -0.182616   \n",
       "2    elbow  0.460635  0.177298 -0.100945  0.456729  0.160945 -0.164320   \n",
       "3    elbow  0.462211  0.166524 -0.100571  0.460950  0.148563 -0.163544   \n",
       "4    elbow  0.462060  0.156854 -0.082532  0.466014  0.140115 -0.142117   \n",
       "..     ...       ...       ...       ...       ...       ...       ...   \n",
       "295  elbow  0.445262  0.195094 -0.060764  0.445062  0.177167 -0.125263   \n",
       "296  elbow  0.463613  0.198097 -0.132433  0.470118  0.181107 -0.197287   \n",
       "297  elbow  0.464070  0.198900 -0.053110  0.468875  0.181811 -0.120282   \n",
       "298  elbow  0.464874  0.199419 -0.043170  0.466426  0.182332 -0.107780   \n",
       "299  elbow  0.468209  0.193820 -0.033872  0.469826  0.177820 -0.090213   \n",
       "\n",
       "           x2        y2        z2  ...       z29       x30       y30  \\\n",
       "0    0.454412  0.143811 -0.165362  ... -0.016946  0.583670  0.760894   \n",
       "1    0.445655  0.161362 -0.182662  ... -0.008184  0.583494  0.754490   \n",
       "2    0.459875  0.159335 -0.164340  ... -0.000498  0.583771  0.754715   \n",
       "3    0.464577  0.147461 -0.163577  ...  0.080868  0.577578  0.756123   \n",
       "4    0.469821  0.139524 -0.142199  ... -0.034920  0.580388  0.759046   \n",
       "..        ...       ...       ...  ...       ...       ...       ...   \n",
       "295  0.448945  0.175737 -0.125293  ... -0.129435  0.615893  0.785729   \n",
       "296  0.475608  0.179858 -0.197218  ... -0.185787  0.607302  0.782388   \n",
       "297  0.473976  0.180304 -0.120272  ... -0.090150  0.609173  0.804751   \n",
       "298  0.470673  0.180684 -0.107811  ...  0.024804  0.634873  0.824164   \n",
       "299  0.473784  0.176535 -0.090294  ...  0.032732  0.631360  0.820772   \n",
       "\n",
       "          z30       x31       y31       z31       x32       y32       z32  \n",
       "0    0.573409  0.436530  0.808394 -0.174437  0.463945  0.765809  0.525320  \n",
       "1    0.536074  0.432123  0.808205 -0.154826  0.463750  0.761782  0.496120  \n",
       "2    0.480002  0.429977  0.808668 -0.147399  0.463581  0.761515  0.436693  \n",
       "3    0.537807  0.432419  0.806675 -0.067822  0.458218  0.763661  0.482909  \n",
       "4    0.565462  0.436141  0.803172 -0.208801  0.455701  0.760788  0.522673  \n",
       "..        ...       ...       ...       ...       ...       ...       ...  \n",
       "295  0.700741  0.466888  0.849227 -0.292871  0.481084  0.792984  0.677866  \n",
       "296  0.688053  0.465918  0.852424 -0.350524  0.478923  0.793839  0.666587  \n",
       "297  0.606350  0.466810  0.853727 -0.237127  0.479318  0.798613  0.565754  \n",
       "298  0.454501  0.467835  0.856326 -0.123714  0.485973  0.809859  0.387884  \n",
       "299  0.462216  0.467777  0.857628 -0.138953  0.485451  0.814577  0.369683  \n",
       "\n",
       "[300 rows x 100 columns]"
      ]
     },
     "execution_count": 45,
     "metadata": {},
     "output_type": "execute_result"
    }
   ],
   "source": [
    "# Read the data from a csv\n",
    "landmarks_df = pd.read_csv(output_input_csv_filename)\n",
    "landmarks_df"
   ]
  },
  {
   "cell_type": "code",
   "execution_count": 46,
   "id": "d1573c39",
   "metadata": {},
   "outputs": [
    {
     "data": {
      "text/plain": [
       "good        173\n",
       "elbow        67\n",
       "shoulder     60\n",
       "Name: label, dtype: int64"
      ]
     },
     "execution_count": 46,
     "metadata": {},
     "output_type": "execute_result"
    }
   ],
   "source": [
    "landmarks_df['label'].value_counts()"
   ]
  },
  {
   "cell_type": "markdown",
   "id": "c72488e6",
   "metadata": {},
   "source": [
    "# 2. Train & Evaluate Models"
   ]
  },
  {
   "cell_type": "code",
   "execution_count": 47,
   "id": "3dfd3f5f",
   "metadata": {},
   "outputs": [],
   "source": [
    "model_scores = [] # Used for comparing different model's scores\n",
    "\n",
    "def evaluate_model(model_name, prediction, display_matrix=False):\n",
    "    acc = metrics.accuracy_score(y_test, prediction)\n",
    "    f1 = f1_score(y_test, prediction, average='micro')\n",
    "    precision = precision_score(y_test, prediction, average='macro')\n",
    "    recall = recall_score(y_test, prediction, average='macro')\n",
    "\n",
    "    model_metrics = {'Classifier': model_name, \n",
    "                     'Accuracy': acc, \n",
    "                     'Precision': precision, \n",
    "                     'Recall': recall,\n",
    "                     'F1 Score': f1}\n",
    "\n",
    "    if display_matrix:\n",
    "        labels= ['elbow', 'shoulder', 'good']\n",
    "        cm = confusion_matrix(y_test, prediction, labels=labels)\n",
    "        disp = ConfusionMatrixDisplay(confusion_matrix=cm, display_labels=labels)\n",
    "        disp.plot()\n",
    "        plt.title(model_name)\n",
    "        plt.show()\n",
    "    \n",
    "    return model_metrics"
   ]
  },
  {
   "cell_type": "code",
   "execution_count": 48,
   "id": "898916e4",
   "metadata": {},
   "outputs": [
    {
     "name": "stdout",
     "output_type": "stream",
     "text": [
      "(201, 99) (201,) (99, 99) (99,)\n"
     ]
    }
   ],
   "source": [
    "model_scores = [] # Used for comparing different model's scores\n",
    "\n",
    "# Setup the testing and training sets\n",
    "X = landmarks_df.drop('label', axis=1)\n",
    "y = landmarks_df['label']\n",
    "\n",
    "X_train, X_test, y_train, y_test = train_test_split(X, y, test_size=0.33, random_state=42)\n",
    "print(X_train.shape, y_train.shape, X_test.shape, y_test.shape)"
   ]
  },
  {
   "cell_type": "markdown",
   "id": "e8634b12",
   "metadata": {},
   "source": [
    "## Feature Extraction"
   ]
  },
  {
   "attachments": {
    "landmarks.png": {
     "image/png": "[encoded data removed]"
    }
   },
   "cell_type": "markdown",
   "id": "110b8d5a",
   "metadata": {},
   "source": [
    "![landmarks.png](attachment:landmarks.png)"
   ]
  },
  {
   "cell_type": "code",
   "execution_count": 49,
   "id": "ca0d3b9e",
   "metadata": {},
   "outputs": [],
   "source": [
    "# Get the angle between 3 keypoint's coordinates\n",
    "# INPUT: frame (dictonary storing the coordinates of all the keypoints), the keypoint numbers\n",
    "# OUTPUT: angle as float\n",
    "def get_angle(frame, keypoint_1, keypoint_2, keypoint_3):\n",
    "    a = np.array([frame['x'+str(keypoint_1)], frame['y'+str(keypoint_1)]]) # First\n",
    "    b = np.array([frame['x'+str(keypoint_2)], frame['y'+str(keypoint_2)]]) # Mid\n",
    "    c = np.array([frame['x'+str(keypoint_3)], frame['y'+str(keypoint_3)]]) # End\n",
    "    \n",
    "    ba = a - b\n",
    "    bc = c - b\n",
    "    \n",
    "    cosine_angle = np.dot(ba, bc) / (np.linalg.norm(ba) * np.linalg.norm(bc))\n",
    "    angle = math.degrees(np.arccos(cosine_angle))\n",
    "    \n",
    "    if angle > 180.0:\n",
    "        angle = 360 - angle\n",
    "        \n",
    "    return angle"
   ]
  },
  {
   "cell_type": "code",
   "execution_count": 50,
   "id": "4b74d529",
   "metadata": {},
   "outputs": [],
   "source": [
    "landmarks_df['hip_angle'] = landmarks_df.apply(lambda row: get_angle(row, 11, 23, 25), axis=1)\n",
    "landmarks_df['elbow_hip_angle'] = landmarks_df.apply(lambda row: get_angle(row, 13, 11, 23), axis=1)\n",
    "landmarks_df['bicep_angle'] = landmarks_df.apply(lambda row: get_angle(row, 11, 13, 15), axis=1)"
   ]
  },
  {
   "cell_type": "code",
   "execution_count": 51,
   "id": "371d94f9",
   "metadata": {},
   "outputs": [
    {
     "data": {
      "text/html": [
       "<div>\n",
       "<style scoped>\n",
       "    .dataframe tbody tr th:only-of-type {\n",
       "        vertical-align: middle;\n",
       "    }\n",
       "\n",
       "    .dataframe tbody tr th {\n",
       "        vertical-align: top;\n",
       "    }\n",
       "\n",
       "    .dataframe thead th {\n",
       "        text-align: right;\n",
       "    }\n",
       "</style>\n",
       "<table border=\"1\" class=\"dataframe\">\n",
       "  <thead>\n",
       "    <tr style=\"text-align: right;\">\n",
       "      <th></th>\n",
       "      <th>label</th>\n",
       "      <th>x0</th>\n",
       "      <th>y0</th>\n",
       "      <th>z0</th>\n",
       "      <th>x1</th>\n",
       "      <th>y1</th>\n",
       "      <th>z1</th>\n",
       "      <th>x2</th>\n",
       "      <th>y2</th>\n",
       "      <th>z2</th>\n",
       "      <th>...</th>\n",
       "      <th>z30</th>\n",
       "      <th>x31</th>\n",
       "      <th>y31</th>\n",
       "      <th>z31</th>\n",
       "      <th>x32</th>\n",
       "      <th>y32</th>\n",
       "      <th>z32</th>\n",
       "      <th>hip_angle</th>\n",
       "      <th>elbow_hip_angle</th>\n",
       "      <th>bicep_angle</th>\n",
       "    </tr>\n",
       "  </thead>\n",
       "  <tbody>\n",
       "    <tr>\n",
       "      <th>0</th>\n",
       "      <td>elbow</td>\n",
       "      <td>0.443093</td>\n",
       "      <td>0.161381</td>\n",
       "      <td>-0.101420</td>\n",
       "      <td>0.450379</td>\n",
       "      <td>0.144473</td>\n",
       "      <td>-0.165286</td>\n",
       "      <td>0.454412</td>\n",
       "      <td>0.143811</td>\n",
       "      <td>-0.165362</td>\n",
       "      <td>...</td>\n",
       "      <td>0.573409</td>\n",
       "      <td>0.436530</td>\n",
       "      <td>0.808394</td>\n",
       "      <td>-0.174437</td>\n",
       "      <td>0.463945</td>\n",
       "      <td>0.765809</td>\n",
       "      <td>0.525320</td>\n",
       "      <td>176.097048</td>\n",
       "      <td>74.941286</td>\n",
       "      <td>83.789244</td>\n",
       "    </tr>\n",
       "    <tr>\n",
       "      <th>1</th>\n",
       "      <td>elbow</td>\n",
       "      <td>0.447388</td>\n",
       "      <td>0.180204</td>\n",
       "      <td>-0.120142</td>\n",
       "      <td>0.442015</td>\n",
       "      <td>0.163513</td>\n",
       "      <td>-0.182616</td>\n",
       "      <td>0.445655</td>\n",
       "      <td>0.161362</td>\n",
       "      <td>-0.182662</td>\n",
       "      <td>...</td>\n",
       "      <td>0.536074</td>\n",
       "      <td>0.432123</td>\n",
       "      <td>0.808205</td>\n",
       "      <td>-0.154826</td>\n",
       "      <td>0.463750</td>\n",
       "      <td>0.761782</td>\n",
       "      <td>0.496120</td>\n",
       "      <td>176.544631</td>\n",
       "      <td>74.806848</td>\n",
       "      <td>53.676714</td>\n",
       "    </tr>\n",
       "    <tr>\n",
       "      <th>2</th>\n",
       "      <td>elbow</td>\n",
       "      <td>0.460635</td>\n",
       "      <td>0.177298</td>\n",
       "      <td>-0.100945</td>\n",
       "      <td>0.456729</td>\n",
       "      <td>0.160945</td>\n",
       "      <td>-0.164320</td>\n",
       "      <td>0.459875</td>\n",
       "      <td>0.159335</td>\n",
       "      <td>-0.164340</td>\n",
       "      <td>...</td>\n",
       "      <td>0.480002</td>\n",
       "      <td>0.429977</td>\n",
       "      <td>0.808668</td>\n",
       "      <td>-0.147399</td>\n",
       "      <td>0.463581</td>\n",
       "      <td>0.761515</td>\n",
       "      <td>0.436693</td>\n",
       "      <td>178.003719</td>\n",
       "      <td>72.561587</td>\n",
       "      <td>56.491211</td>\n",
       "    </tr>\n",
       "    <tr>\n",
       "      <th>3</th>\n",
       "      <td>elbow</td>\n",
       "      <td>0.462211</td>\n",
       "      <td>0.166524</td>\n",
       "      <td>-0.100571</td>\n",
       "      <td>0.460950</td>\n",
       "      <td>0.148563</td>\n",
       "      <td>-0.163544</td>\n",
       "      <td>0.464577</td>\n",
       "      <td>0.147461</td>\n",
       "      <td>-0.163577</td>\n",
       "      <td>...</td>\n",
       "      <td>0.537807</td>\n",
       "      <td>0.432419</td>\n",
       "      <td>0.806675</td>\n",
       "      <td>-0.067822</td>\n",
       "      <td>0.458218</td>\n",
       "      <td>0.763661</td>\n",
       "      <td>0.482909</td>\n",
       "      <td>178.130870</td>\n",
       "      <td>62.485561</td>\n",
       "      <td>74.370604</td>\n",
       "    </tr>\n",
       "    <tr>\n",
       "      <th>4</th>\n",
       "      <td>elbow</td>\n",
       "      <td>0.462060</td>\n",
       "      <td>0.156854</td>\n",
       "      <td>-0.082532</td>\n",
       "      <td>0.466014</td>\n",
       "      <td>0.140115</td>\n",
       "      <td>-0.142117</td>\n",
       "      <td>0.469821</td>\n",
       "      <td>0.139524</td>\n",
       "      <td>-0.142199</td>\n",
       "      <td>...</td>\n",
       "      <td>0.565462</td>\n",
       "      <td>0.436141</td>\n",
       "      <td>0.803172</td>\n",
       "      <td>-0.208801</td>\n",
       "      <td>0.455701</td>\n",
       "      <td>0.760788</td>\n",
       "      <td>0.522673</td>\n",
       "      <td>175.159576</td>\n",
       "      <td>49.874011</td>\n",
       "      <td>97.356494</td>\n",
       "    </tr>\n",
       "  </tbody>\n",
       "</table>\n",
       "<p>5 rows × 103 columns</p>\n",
       "</div>"
      ],
      "text/plain": [
       "   label        x0        y0        z0        x1        y1        z1  \\\n",
       "0  elbow  0.443093  0.161381 -0.101420  0.450379  0.144473 -0.165286   \n",
       "1  elbow  0.447388  0.180204 -0.120142  0.442015  0.163513 -0.182616   \n",
       "2  elbow  0.460635  0.177298 -0.100945  0.456729  0.160945 -0.164320   \n",
       "3  elbow  0.462211  0.166524 -0.100571  0.460950  0.148563 -0.163544   \n",
       "4  elbow  0.462060  0.156854 -0.082532  0.466014  0.140115 -0.142117   \n",
       "\n",
       "         x2        y2        z2  ...       z30       x31       y31       z31  \\\n",
       "0  0.454412  0.143811 -0.165362  ...  0.573409  0.436530  0.808394 -0.174437   \n",
       "1  0.445655  0.161362 -0.182662  ...  0.536074  0.432123  0.808205 -0.154826   \n",
       "2  0.459875  0.159335 -0.164340  ...  0.480002  0.429977  0.808668 -0.147399   \n",
       "3  0.464577  0.147461 -0.163577  ...  0.537807  0.432419  0.806675 -0.067822   \n",
       "4  0.469821  0.139524 -0.142199  ...  0.565462  0.436141  0.803172 -0.208801   \n",
       "\n",
       "        x32       y32       z32   hip_angle  elbow_hip_angle  bicep_angle  \n",
       "0  0.463945  0.765809  0.525320  176.097048        74.941286    83.789244  \n",
       "1  0.463750  0.761782  0.496120  176.544631        74.806848    53.676714  \n",
       "2  0.463581  0.761515  0.436693  178.003719        72.561587    56.491211  \n",
       "3  0.458218  0.763661  0.482909  178.130870        62.485561    74.370604  \n",
       "4  0.455701  0.760788  0.522673  175.159576        49.874011    97.356494  \n",
       "\n",
       "[5 rows x 103 columns]"
      ]
     },
     "execution_count": 51,
     "metadata": {},
     "output_type": "execute_result"
    }
   ],
   "source": [
    "landmarks_df.head()"
   ]
  },
  {
   "cell_type": "code",
   "execution_count": 52,
   "id": "7d891d42",
   "metadata": {},
   "outputs": [
    {
     "name": "stdout",
     "output_type": "stream",
     "text": [
      "(201, 3) (201,) (99, 3) (99,)\n"
     ]
    }
   ],
   "source": [
    "landmarks_df = landmarks_df.filter(['bicep_angle', 'elbow_hip_angle', 'hip_angle', 'label'])\n",
    "\n",
    "# Setup the testing and training sets\n",
    "X = landmarks_df.drop('label', axis=1)\n",
    "y = landmarks_df['label']\n",
    "\n",
    "X_train, X_test, y_train, y_test = train_test_split(X, y, test_size=0.33, random_state=42)\n",
    "print(X_train.shape, y_train.shape, X_test.shape, y_test.shape)"
   ]
  },
  {
   "cell_type": "code",
   "execution_count": 53,
   "id": "2182e56a",
   "metadata": {},
   "outputs": [
    {
     "data": {
      "text/html": [
       "<div>\n",
       "<style scoped>\n",
       "    .dataframe tbody tr th:only-of-type {\n",
       "        vertical-align: middle;\n",
       "    }\n",
       "\n",
       "    .dataframe tbody tr th {\n",
       "        vertical-align: top;\n",
       "    }\n",
       "\n",
       "    .dataframe thead th {\n",
       "        text-align: right;\n",
       "    }\n",
       "</style>\n",
       "<table border=\"1\" class=\"dataframe\">\n",
       "  <thead>\n",
       "    <tr style=\"text-align: right;\">\n",
       "      <th></th>\n",
       "      <th>bicep_angle</th>\n",
       "      <th>elbow_hip_angle</th>\n",
       "      <th>hip_angle</th>\n",
       "    </tr>\n",
       "  </thead>\n",
       "  <tbody>\n",
       "    <tr>\n",
       "      <th>67</th>\n",
       "      <td>76.809597</td>\n",
       "      <td>69.255183</td>\n",
       "      <td>166.614503</td>\n",
       "    </tr>\n",
       "    <tr>\n",
       "      <th>228</th>\n",
       "      <td>144.410156</td>\n",
       "      <td>3.957001</td>\n",
       "      <td>162.840716</td>\n",
       "    </tr>\n",
       "    <tr>\n",
       "      <th>69</th>\n",
       "      <td>83.920028</td>\n",
       "      <td>7.827601</td>\n",
       "      <td>165.830109</td>\n",
       "    </tr>\n",
       "    <tr>\n",
       "      <th>31</th>\n",
       "      <td>34.925415</td>\n",
       "      <td>88.383623</td>\n",
       "      <td>173.292886</td>\n",
       "    </tr>\n",
       "    <tr>\n",
       "      <th>183</th>\n",
       "      <td>32.139254</td>\n",
       "      <td>20.610983</td>\n",
       "      <td>115.004499</td>\n",
       "    </tr>\n",
       "    <tr>\n",
       "      <th>...</th>\n",
       "      <td>...</td>\n",
       "      <td>...</td>\n",
       "      <td>...</td>\n",
       "    </tr>\n",
       "    <tr>\n",
       "      <th>188</th>\n",
       "      <td>67.513177</td>\n",
       "      <td>10.518128</td>\n",
       "      <td>171.432448</td>\n",
       "    </tr>\n",
       "    <tr>\n",
       "      <th>71</th>\n",
       "      <td>103.893726</td>\n",
       "      <td>9.839522</td>\n",
       "      <td>168.340991</td>\n",
       "    </tr>\n",
       "    <tr>\n",
       "      <th>106</th>\n",
       "      <td>46.350982</td>\n",
       "      <td>25.776697</td>\n",
       "      <td>133.418092</td>\n",
       "    </tr>\n",
       "    <tr>\n",
       "      <th>270</th>\n",
       "      <td>82.093922</td>\n",
       "      <td>11.800466</td>\n",
       "      <td>163.368113</td>\n",
       "    </tr>\n",
       "    <tr>\n",
       "      <th>102</th>\n",
       "      <td>34.134510</td>\n",
       "      <td>33.141981</td>\n",
       "      <td>178.228213</td>\n",
       "    </tr>\n",
       "  </tbody>\n",
       "</table>\n",
       "<p>201 rows × 3 columns</p>\n",
       "</div>"
      ],
      "text/plain": [
       "     bicep_angle  elbow_hip_angle   hip_angle\n",
       "67     76.809597        69.255183  166.614503\n",
       "228   144.410156         3.957001  162.840716\n",
       "69     83.920028         7.827601  165.830109\n",
       "31     34.925415        88.383623  173.292886\n",
       "183    32.139254        20.610983  115.004499\n",
       "..           ...              ...         ...\n",
       "188    67.513177        10.518128  171.432448\n",
       "71    103.893726         9.839522  168.340991\n",
       "106    46.350982        25.776697  133.418092\n",
       "270    82.093922        11.800466  163.368113\n",
       "102    34.134510        33.141981  178.228213\n",
       "\n",
       "[201 rows x 3 columns]"
      ]
     },
     "execution_count": 53,
     "metadata": {},
     "output_type": "execute_result"
    }
   ],
   "source": [
    "X_train"
   ]
  },
  {
   "cell_type": "markdown",
   "id": "0c81e426",
   "metadata": {},
   "source": [
    "Trying to extract the angles seems to make the LinearSVC model perform worse."
   ]
  },
  {
   "cell_type": "markdown",
   "id": "23a5258a",
   "metadata": {},
   "source": [
    "## Models"
   ]
  },
  {
   "cell_type": "markdown",
   "id": "3fb0c56f",
   "metadata": {},
   "source": [
    "### Linear SVC"
   ]
  },
  {
   "cell_type": "code",
   "execution_count": 54,
   "id": "ca9329d5",
   "metadata": {},
   "outputs": [
    {
     "data": {
      "image/png": "[encoded data removed]",
      "text/plain": [
       "<Figure size 432x288 with 2 Axes>"
      ]
     },
     "metadata": {
      "needs_background": "light"
     },
     "output_type": "display_data"
    },
    {
     "name": "stdout",
     "output_type": "stream",
     "text": [
      "{'Classifier': 'LinearSVC', 'Accuracy': 0.9595959595959596, 'Precision': 0.9671778315846112, 'Recall': 0.9386724386724387, 'F1 Score': 0.9595959595959596}\n"
     ]
    }
   ],
   "source": [
    "svc_model = make_pipeline(StandardScaler(), LinearSVC(random_state=1, tol=1e-5)).fit(X_train, y_train)\n",
    "y_pred = svc_model.predict(X_test)\n",
    "\n",
    "scores = evaluate_model('LinearSVC', y_pred, True)\n",
    "model_scores.append(scores)\n",
    "print(scores)"
   ]
  },
  {
   "cell_type": "code",
   "execution_count": 55,
   "id": "a0d0ecdc",
   "metadata": {},
   "outputs": [
    {
     "data": {
      "text/plain": [
       "['svc-bicep-curl-mistakes.joblib']"
      ]
     },
     "execution_count": 55,
     "metadata": {},
     "output_type": "execute_result"
    }
   ],
   "source": [
    "dump(svc_model, 'svc-bicep-curl-mistakes.joblib') # Export model"
   ]
  },
  {
   "cell_type": "markdown",
   "id": "dcf1412c",
   "metadata": {},
   "source": [
    "### K-Nearest Neighbours"
   ]
  },
  {
   "cell_type": "code",
   "execution_count": 56,
   "id": "41c0bd0e",
   "metadata": {},
   "outputs": [
    {
     "data": {
      "image/png": "[encoded data removed]",
      "text/plain": [
       "<Figure size 720x360 with 1 Axes>"
      ]
     },
     "metadata": {
      "needs_background": "light"
     },
     "output_type": "display_data"
    }
   ],
   "source": [
    "# Find K value with lowest error\n",
    "error_rate = []\n",
    "for i in range(1,35):\n",
    "    knn = KNeighborsClassifier(n_neighbors=i)\n",
    "    knn.fit(X_train,y_train)\n",
    "    pred_i = knn.predict(X_test)\n",
    "    error_rate.append(np.mean(pred_i != y_test))\n",
    "    \n",
    "plt.figure(figsize=(10,5))\n",
    "plt.plot(range(1,35),error_rate,color='blue', linestyle='dashed', marker='o',\n",
    "         markerfacecolor='red', markersize=10)\n",
    "plt.title('Error Rate vs. K Value')\n",
    "plt.xlabel('K')\n",
    "plt.ylabel('Error Rate')\n",
    "plt.show()"
   ]
  },
  {
   "cell_type": "code",
   "execution_count": 57,
   "id": "98ee41b2",
   "metadata": {},
   "outputs": [
    {
     "data": {
      "image/png": "[encoded data removed]",
      "text/plain": [
       "<Figure size 432x288 with 2 Axes>"
      ]
     },
     "metadata": {
      "needs_background": "light"
     },
     "output_type": "display_data"
    },
    {
     "name": "stdout",
     "output_type": "stream",
     "text": [
      "{'Classifier': 'KNN', 'Accuracy': 0.9797979797979798, 'Precision': 0.9885057471264368, 'Recall': 0.9689754689754689, 'F1 Score': 0.9797979797979798}\n"
     ]
    }
   ],
   "source": [
    "knc_model = KNeighborsClassifier(1).fit(X_train, y_train)\n",
    "y_pred = knc_model.predict(X_test)\n",
    "scores = evaluate_model('KNN', y_pred, True)\n",
    "model_scores.append(scores)\n",
    "print(scores)"
   ]
  },
  {
   "cell_type": "code",
   "execution_count": 58,
   "id": "1d3658ba",
   "metadata": {},
   "outputs": [
    {
     "data": {
      "text/plain": [
       "['knc-bicep-curl-mistakes.joblib']"
      ]
     },
     "execution_count": 58,
     "metadata": {},
     "output_type": "execute_result"
    }
   ],
   "source": [
    "dump(knc_model, 'knc-bicep-curl-mistakes.joblib') # Export model"
   ]
  },
  {
   "cell_type": "markdown",
   "id": "aea617c5",
   "metadata": {},
   "source": [
    "### Neural Network"
   ]
  },
  {
   "cell_type": "code",
   "execution_count": 59,
   "id": "cb6388df",
   "metadata": {},
   "outputs": [
    {
     "data": {
      "image/png": "[encoded data removed]",
      "text/plain": [
       "<Figure size 432x288 with 2 Axes>"
      ]
     },
     "metadata": {
      "needs_background": "light"
     },
     "output_type": "display_data"
    },
    {
     "name": "stdout",
     "output_type": "stream",
     "text": [
      "{'Classifier': 'Neural Network', 'Accuracy': 0.8181818181818182, 'Precision': 0.841364464315284, 'Recall': 0.7265512265512265, 'F1 Score': 0.8181818181818182}\n"
     ]
    }
   ],
   "source": [
    "from sklearn.neural_network import MLPClassifier\n",
    "mlp_clf = MLPClassifier(activation='relu',\n",
    "                        learning_rate='adaptive',\n",
    "                        hidden_layer_sizes=(100),\n",
    "                        learning_rate_init=0.01,\n",
    "                        random_state=1)\n",
    "\n",
    "mlp_model = mlp_clf.fit(X_train, y_train)\n",
    "\n",
    "y_pred = mlp_model.predict(X_test)\n",
    "scores = evaluate_model('Neural Network', y_pred, True)\n",
    "model_scores.append(scores)\n",
    "print(scores)"
   ]
  },
  {
   "cell_type": "code",
   "execution_count": 60,
   "id": "91bdddc2",
   "metadata": {},
   "outputs": [
    {
     "data": {
      "text/plain": [
       "['mlp-bicep-curl-mistakes.joblib']"
      ]
     },
     "execution_count": 60,
     "metadata": {},
     "output_type": "execute_result"
    }
   ],
   "source": [
    "dump(mlp_model, 'mlp-bicep-curl-mistakes.joblib') # Export model"
   ]
  },
  {
   "cell_type": "markdown",
   "id": "ef8bdcd9",
   "metadata": {},
   "source": [
    "### Naive Bayes"
   ]
  },
  {
   "cell_type": "code",
   "execution_count": 61,
   "id": "cebd4d93",
   "metadata": {},
   "outputs": [
    {
     "data": {
      "image/png": "[encoded data removed]",
      "text/plain": [
       "<Figure size 432x288 with 2 Axes>"
      ]
     },
     "metadata": {
      "needs_background": "light"
     },
     "output_type": "display_data"
    },
    {
     "name": "stdout",
     "output_type": "stream",
     "text": [
      "{'Classifier': 'GaussianNB', 'Accuracy': 0.9797979797979798, 'Precision': 0.9782790309106097, 'Recall': 0.9689754689754689, 'F1 Score': 0.9797979797979798}\n"
     ]
    },
    {
     "data": {
      "text/plain": [
       "<Figure size 432x288 with 0 Axes>"
      ]
     },
     "metadata": {},
     "output_type": "display_data"
    }
   ],
   "source": [
    "gnb_model = GaussianNB()\n",
    "y_pred = gnb_model.fit(X_train, y_train).predict(X_test)\n",
    "\n",
    "scores = evaluate_model('GaussianNB', y_pred, True)\n",
    "\n",
    "model_scores.append(scores)\n",
    "print(scores)"
   ]
  },
  {
   "cell_type": "code",
   "execution_count": 62,
   "id": "8031f4a6",
   "metadata": {},
   "outputs": [
    {
     "data": {
      "text/plain": [
       "['gnb-bicep-curl-mistakes.joblib']"
      ]
     },
     "execution_count": 62,
     "metadata": {},
     "output_type": "execute_result"
    }
   ],
   "source": [
    "dump(gnb_model, 'gnb-bicep-curl-mistakes.joblib') # Export model"
   ]
  },
  {
   "cell_type": "code",
   "execution_count": 63,
   "id": "071e3cdf",
   "metadata": {},
   "outputs": [
    {
     "data": {
      "image/png": "[encoded data removed]",
      "text/plain": [
       "<Figure size 432x288 with 2 Axes>"
      ]
     },
     "metadata": {
      "needs_background": "light"
     },
     "output_type": "display_data"
    },
    {
     "name": "stdout",
     "output_type": "stream",
     "text": [
      "{'Classifier': 'MultinomialNB', 'Accuracy': 0.9191919191919192, 'Precision': 0.9186371726417493, 'Recall': 0.90494227994228, 'F1 Score': 0.9191919191919192}\n"
     ]
    }
   ],
   "source": [
    "mnb_model = MultinomialNB()\n",
    "y_pred = mnb_model.fit(X_train, y_train).predict(X_test)\n",
    "\n",
    "scores = evaluate_model('MultinomialNB', y_pred, True)\n",
    "model_scores.append(scores)\n",
    "print(scores)"
   ]
  },
  {
   "cell_type": "code",
   "execution_count": 64,
   "id": "b97c30f9",
   "metadata": {},
   "outputs": [
    {
     "data": {
      "text/html": [
       "<div>\n",
       "<style scoped>\n",
       "    .dataframe tbody tr th:only-of-type {\n",
       "        vertical-align: middle;\n",
       "    }\n",
       "\n",
       "    .dataframe tbody tr th {\n",
       "        vertical-align: top;\n",
       "    }\n",
       "\n",
       "    .dataframe thead th {\n",
       "        text-align: right;\n",
       "    }\n",
       "</style>\n",
       "<table border=\"1\" class=\"dataframe\">\n",
       "  <thead>\n",
       "    <tr style=\"text-align: right;\">\n",
       "      <th></th>\n",
       "      <th>Classifier</th>\n",
       "      <th>Accuracy</th>\n",
       "      <th>Precision</th>\n",
       "      <th>Recall</th>\n",
       "      <th>F1 Score</th>\n",
       "    </tr>\n",
       "  </thead>\n",
       "  <tbody>\n",
       "    <tr>\n",
       "      <th>1</th>\n",
       "      <td>KNN</td>\n",
       "      <td>0.979798</td>\n",
       "      <td>0.988506</td>\n",
       "      <td>0.968975</td>\n",
       "      <td>0.979798</td>\n",
       "    </tr>\n",
       "    <tr>\n",
       "      <th>3</th>\n",
       "      <td>GaussianNB</td>\n",
       "      <td>0.979798</td>\n",
       "      <td>0.978279</td>\n",
       "      <td>0.968975</td>\n",
       "      <td>0.979798</td>\n",
       "    </tr>\n",
       "    <tr>\n",
       "      <th>0</th>\n",
       "      <td>LinearSVC</td>\n",
       "      <td>0.959596</td>\n",
       "      <td>0.967178</td>\n",
       "      <td>0.938672</td>\n",
       "      <td>0.959596</td>\n",
       "    </tr>\n",
       "    <tr>\n",
       "      <th>4</th>\n",
       "      <td>MultinomialNB</td>\n",
       "      <td>0.919192</td>\n",
       "      <td>0.918637</td>\n",
       "      <td>0.904942</td>\n",
       "      <td>0.919192</td>\n",
       "    </tr>\n",
       "    <tr>\n",
       "      <th>2</th>\n",
       "      <td>Neural Network</td>\n",
       "      <td>0.818182</td>\n",
       "      <td>0.841364</td>\n",
       "      <td>0.726551</td>\n",
       "      <td>0.818182</td>\n",
       "    </tr>\n",
       "  </tbody>\n",
       "</table>\n",
       "</div>"
      ],
      "text/plain": [
       "       Classifier  Accuracy  Precision    Recall  F1 Score\n",
       "1             KNN  0.979798   0.988506  0.968975  0.979798\n",
       "3      GaussianNB  0.979798   0.978279  0.968975  0.979798\n",
       "0       LinearSVC  0.959596   0.967178  0.938672  0.959596\n",
       "4   MultinomialNB  0.919192   0.918637  0.904942  0.919192\n",
       "2  Neural Network  0.818182   0.841364  0.726551  0.818182"
      ]
     },
     "execution_count": 64,
     "metadata": {},
     "output_type": "execute_result"
    }
   ],
   "source": [
    "eval_scores = pd.DataFrame(model_scores)\n",
    "eval_scores = eval_scores.sort_values(by = ['F1 Score'], ascending = False)\n",
    "eval_scores"
   ]
  },
  {
   "cell_type": "markdown",
   "id": "3896d2fc",
   "metadata": {},
   "source": [
    "Now lets see how the top classifiers perform on all the testing set of videos. See f1-gen-frame notebook for the results."
   ]
  }
 ],
 "metadata": {
  "kernelspec": {
   "display_name": "Python 3",
   "language": "python",
   "name": "python3"
  },
  "language_info": {
   "codemirror_mode": {
    "name": "ipython",
    "version": 3
   },
   "file_extension": ".py",
   "mimetype": "text/x-python",
   "name": "python",
   "nbconvert_exporter": "python",
   "pygments_lexer": "ipython3",
   "version": "3.8.8"
  }
 },
 "nbformat": 4,
 "nbformat_minor": 5
}
