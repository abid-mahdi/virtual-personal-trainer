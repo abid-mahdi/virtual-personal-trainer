{
 "cells": [
  {
   "cell_type": "markdown",
   "id": "0879b8ef",
   "metadata": {},
   "source": [
    "# Label Frames & Train Frame Classifier"
   ]
  },
  {
   "cell_type": "markdown",
   "id": "f19aa975",
   "metadata": {},
   "source": [
    "Author: Abid Mahdi, University of Southampton. 28/03/2022. am14g19@soton.ac.uk.\n",
    "\n",
    "This notebook allows you to label the individual frames in a video from which a classifier in the sklearn library can be trained.\n",
    "\n",
    "Notebook exports: labelled frames in a csv file and a trained model in a joblib file.\n",
    "\n",
    "## TOC:\n",
    "0. [Import Libraries & Setup Helper Functions](#0.-Import-Libraries-&-Setup)\n",
    "1. [Labeller](#1.-Detect-Pose-&-Label)\n",
    "2. [Train & Evaluate Models](#2.-Train-&-Evaluate-Models)"
   ]
  },
  {
   "cell_type": "markdown",
   "id": "86ccf9c1",
   "metadata": {},
   "source": [
    "# 0. Import Libraries & Setup"
   ]
  },
  {
   "cell_type": "code",
   "execution_count": 1,
   "id": "48b42737",
   "metadata": {},
   "outputs": [],
   "source": [
    "folder_name = 'bicep-curl-videos'\n",
    "output_input_csv_filename = 'bicep-curl-phases-frames.csv'"
   ]
  },
  {
   "cell_type": "code",
   "execution_count": 2,
   "id": "010d361e",
   "metadata": {},
   "outputs": [],
   "source": [
    "import numpy as np\n",
    "import pandas as pd\n",
    "import math\n",
    "import matplotlib.pyplot as plt\n",
    "\n",
    "import sklearn\n",
    "from sklearn.model_selection import train_test_split\n",
    "import sklearn.metrics as metrics\n",
    "from sklearn.metrics import accuracy_score, recall_score, precision_score ,f1_score\n",
    "from sklearn.metrics import classification_report, ConfusionMatrixDisplay, confusion_matrix\n",
    "\n",
    "from sklearn.linear_model import SGDClassifier, LogisticRegression\n",
    "from sklearn.ensemble import RandomForestClassifier, VotingClassifier\n",
    "from sklearn.svm import LinearSVC\n",
    "from sklearn.neighbors import KNeighborsClassifier\n",
    "from sklearn.naive_bayes import MultinomialNB, GaussianNB\n",
    "from sklearn.model_selection import train_test_split\n",
    "from sklearn.pipeline import make_pipeline\n",
    "from sklearn.preprocessing import StandardScaler\n",
    "\n",
    "import pickle\n",
    "from joblib import dump, load\n",
    "\n",
    "import cv2\n",
    "import mediapipe as mp\n",
    "\n",
    "import os"
   ]
  },
  {
   "cell_type": "code",
   "execution_count": 3,
   "id": "ca58e968",
   "metadata": {},
   "outputs": [],
   "source": [
    "all_landmarks = [] # List of dictionaries storing all the landmarks\n",
    "\n",
    "def label_landmarks(landmarks, label):\n",
    "    unboxed_landmarks = {}\n",
    "    unboxed_landmarks['label'] = label # Label of the keypoint's coordinates\n",
    "    \n",
    "    # Store all the keypoint's x0,y0,z0...z32 coordinates in dictionary\n",
    "    for i in range(33):\n",
    "        unboxed_landmarks['x' + str(i)] = landmarks.landmark[i].x\n",
    "        unboxed_landmarks['y' + str(i)] = landmarks.landmark[i].y\n",
    "        unboxed_landmarks['z' + str(i)] = landmarks.landmark[i].z\n",
    "        \n",
    "    all_landmarks.append(unboxed_landmarks)"
   ]
  },
  {
   "cell_type": "markdown",
   "id": "eb79f384",
   "metadata": {},
   "source": [
    "# 1. Detect Pose & Label"
   ]
  },
  {
   "cell_type": "markdown",
   "id": "c276e394",
   "metadata": {},
   "source": [
    "The code below is used to label frames in all the videos in a folder. First we find the training set and set aside the test set in the evaluation.\n",
    "\n",
    "- Press 'e' to label a frame as having too much elbow movement\n",
    "- Press 's' to label a frame as having too much shoulder movement\n",
    "- Press 'g' to label a frame as being good"
   ]
  },
  {
   "cell_type": "code",
   "execution_count": 4,
   "id": "6723fdcb",
   "metadata": {},
   "outputs": [],
   "source": [
    "mp_drawing = mp.solutions.drawing_utils\n",
    "mp_pose = mp.solutions.pose\n",
    "\n",
    "all_videos = []\n",
    "\n",
    "directory = os.fsencode(folder_name)\n",
    "\n",
    "for file in os.listdir(directory):\n",
    "    all_videos.append(os.fsdecode(file))\n",
    "    \n",
    "# Filenames of the videos we want to train the frame labeller on\n",
    "# The test set is in f1-gen-heuristic notebook, same seed is used so same train and test set is created\n",
    "train_videos, _, _, _ = train_test_split(all_videos, all_videos, test_size=0.33, random_state=42)\n",
    "\n",
    "exit = False\n",
    "\n",
    "for filename in train_videos:\n",
    "    cap = cv2.VideoCapture(folder_name + '/' + filename)\n",
    "    with mp_pose.Pose(min_detection_confidence=0.7, min_tracking_confidence=0.5) as pose:\n",
    "\n",
    "        while cap.isOpened():\n",
    "            ret, image = cap.read()\n",
    "\n",
    "            if ret == False:\n",
    "                break\n",
    "            \n",
    "            image = cv2.cvtColor(image, cv2.COLOR_BGR2RGB)\n",
    "            image.flags.writeable = False\n",
    "            results = pose.process(image)\n",
    "            image.flags.writeable = True\n",
    "            image = cv2.cvtColor(image, cv2.COLOR_RGB2BGR)\n",
    "\n",
    "            mp_drawing.draw_landmarks(image, results.pose_landmarks, mp_pose.POSE_CONNECTIONS)\n",
    "\n",
    "            cv2.rectangle(image, (0,0), (225, 100), (0,0,0), -1)\n",
    "\n",
    "            k = cv2.waitKey(1)\n",
    "            # Press 'u' to label frame as elbow\n",
    "            if k == 117:\n",
    "                label_landmarks(results.pose_landmarks, 'up')\n",
    "                cv2.putText(image, 'up', (60,60), cv2.FONT_HERSHEY_SIMPLEX, 2, (255,255,255), 2, cv2.LINE_AA)\n",
    "\n",
    "            # Press 'd' to label frame as shoulder\n",
    "            if k == 100:\n",
    "                label_landmarks(results.pose_landmarks, 'down')\n",
    "                cv2.putText(image, 'down', (60,60), cv2.FONT_HERSHEY_SIMPLEX, 2, (255,255,255), 2, cv2.LINE_AA)\n",
    "                \n",
    "            # Press ESC to quit\n",
    "            if k == 27:\n",
    "                exit = True\n",
    "                break\n",
    "\n",
    "            cv2.namedWindow('output', cv2.WINDOW_NORMAL) # Allows you to manually change the size of the window\n",
    "            cv2.imshow(\"output\", image)\n",
    "\n",
    "        cap.release()\n",
    "        cv2.destroyAllWindows()\n",
    "        if exit == True:\n",
    "            break"
   ]
  },
  {
   "cell_type": "code",
   "execution_count": 5,
   "id": "e1ea1fa7",
   "metadata": {},
   "outputs": [],
   "source": [
    "# Save the data in a csv\n",
    "landmarks_df = pd.DataFrame(all_landmarks)\n",
    "landmarks_df.to_csv(output_input_csv_filename, index=False)"
   ]
  },
  {
   "cell_type": "code",
   "execution_count": 44,
   "id": "784bd8c2",
   "metadata": {},
   "outputs": [
    {
     "data": {
      "text/html": [
       "<div>\n",
       "<style scoped>\n",
       "    .dataframe tbody tr th:only-of-type {\n",
       "        vertical-align: middle;\n",
       "    }\n",
       "\n",
       "    .dataframe tbody tr th {\n",
       "        vertical-align: top;\n",
       "    }\n",
       "\n",
       "    .dataframe thead th {\n",
       "        text-align: right;\n",
       "    }\n",
       "</style>\n",
       "<table border=\"1\" class=\"dataframe\">\n",
       "  <thead>\n",
       "    <tr style=\"text-align: right;\">\n",
       "      <th></th>\n",
       "      <th>label</th>\n",
       "      <th>x0</th>\n",
       "      <th>y0</th>\n",
       "      <th>z0</th>\n",
       "      <th>x1</th>\n",
       "      <th>y1</th>\n",
       "      <th>z1</th>\n",
       "      <th>x2</th>\n",
       "      <th>y2</th>\n",
       "      <th>z2</th>\n",
       "      <th>...</th>\n",
       "      <th>z29</th>\n",
       "      <th>x30</th>\n",
       "      <th>y30</th>\n",
       "      <th>z30</th>\n",
       "      <th>x31</th>\n",
       "      <th>y31</th>\n",
       "      <th>z31</th>\n",
       "      <th>x32</th>\n",
       "      <th>y32</th>\n",
       "      <th>z32</th>\n",
       "    </tr>\n",
       "  </thead>\n",
       "  <tbody>\n",
       "    <tr>\n",
       "      <th>0</th>\n",
       "      <td>up</td>\n",
       "      <td>0.426571</td>\n",
       "      <td>0.214998</td>\n",
       "      <td>-0.259948</td>\n",
       "      <td>0.440606</td>\n",
       "      <td>0.193401</td>\n",
       "      <td>-0.316927</td>\n",
       "      <td>0.449129</td>\n",
       "      <td>0.192279</td>\n",
       "      <td>-0.316975</td>\n",
       "      <td>...</td>\n",
       "      <td>0.218229</td>\n",
       "      <td>0.572386</td>\n",
       "      <td>0.897916</td>\n",
       "      <td>0.713901</td>\n",
       "      <td>0.457626</td>\n",
       "      <td>0.966933</td>\n",
       "      <td>0.013123</td>\n",
       "      <td>0.424350</td>\n",
       "      <td>0.903602</td>\n",
       "      <td>0.654988</td>\n",
       "    </tr>\n",
       "    <tr>\n",
       "      <th>1</th>\n",
       "      <td>up</td>\n",
       "      <td>0.425828</td>\n",
       "      <td>0.215802</td>\n",
       "      <td>-0.276306</td>\n",
       "      <td>0.440624</td>\n",
       "      <td>0.193631</td>\n",
       "      <td>-0.332717</td>\n",
       "      <td>0.449338</td>\n",
       "      <td>0.192479</td>\n",
       "      <td>-0.332786</td>\n",
       "      <td>...</td>\n",
       "      <td>0.206901</td>\n",
       "      <td>0.572074</td>\n",
       "      <td>0.899050</td>\n",
       "      <td>0.741048</td>\n",
       "      <td>0.458160</td>\n",
       "      <td>0.965015</td>\n",
       "      <td>-0.008078</td>\n",
       "      <td>0.424455</td>\n",
       "      <td>0.901409</td>\n",
       "      <td>0.681464</td>\n",
       "    </tr>\n",
       "    <tr>\n",
       "      <th>2</th>\n",
       "      <td>up</td>\n",
       "      <td>0.425968</td>\n",
       "      <td>0.215754</td>\n",
       "      <td>-0.309926</td>\n",
       "      <td>0.441250</td>\n",
       "      <td>0.193694</td>\n",
       "      <td>-0.361082</td>\n",
       "      <td>0.450385</td>\n",
       "      <td>0.192567</td>\n",
       "      <td>-0.361103</td>\n",
       "      <td>...</td>\n",
       "      <td>0.205680</td>\n",
       "      <td>0.571257</td>\n",
       "      <td>0.900213</td>\n",
       "      <td>0.771678</td>\n",
       "      <td>0.458286</td>\n",
       "      <td>0.966906</td>\n",
       "      <td>-0.015116</td>\n",
       "      <td>0.423553</td>\n",
       "      <td>0.901763</td>\n",
       "      <td>0.702308</td>\n",
       "    </tr>\n",
       "    <tr>\n",
       "      <th>3</th>\n",
       "      <td>up</td>\n",
       "      <td>0.426295</td>\n",
       "      <td>0.215507</td>\n",
       "      <td>-0.301083</td>\n",
       "      <td>0.442142</td>\n",
       "      <td>0.193600</td>\n",
       "      <td>-0.356660</td>\n",
       "      <td>0.451451</td>\n",
       "      <td>0.192478</td>\n",
       "      <td>-0.356658</td>\n",
       "      <td>...</td>\n",
       "      <td>0.162253</td>\n",
       "      <td>0.571168</td>\n",
       "      <td>0.899703</td>\n",
       "      <td>0.743235</td>\n",
       "      <td>0.457676</td>\n",
       "      <td>0.968467</td>\n",
       "      <td>-0.067917</td>\n",
       "      <td>0.423455</td>\n",
       "      <td>0.901620</td>\n",
       "      <td>0.667242</td>\n",
       "    </tr>\n",
       "    <tr>\n",
       "      <th>4</th>\n",
       "      <td>up</td>\n",
       "      <td>0.427843</td>\n",
       "      <td>0.214164</td>\n",
       "      <td>-0.288749</td>\n",
       "      <td>0.443481</td>\n",
       "      <td>0.192895</td>\n",
       "      <td>-0.343560</td>\n",
       "      <td>0.452862</td>\n",
       "      <td>0.191801</td>\n",
       "      <td>-0.343511</td>\n",
       "      <td>...</td>\n",
       "      <td>0.170714</td>\n",
       "      <td>0.572065</td>\n",
       "      <td>0.897039</td>\n",
       "      <td>0.712349</td>\n",
       "      <td>0.456434</td>\n",
       "      <td>0.967925</td>\n",
       "      <td>-0.062189</td>\n",
       "      <td>0.424317</td>\n",
       "      <td>0.901071</td>\n",
       "      <td>0.633370</td>\n",
       "    </tr>\n",
       "    <tr>\n",
       "      <th>...</th>\n",
       "      <td>...</td>\n",
       "      <td>...</td>\n",
       "      <td>...</td>\n",
       "      <td>...</td>\n",
       "      <td>...</td>\n",
       "      <td>...</td>\n",
       "      <td>...</td>\n",
       "      <td>...</td>\n",
       "      <td>...</td>\n",
       "      <td>...</td>\n",
       "      <td>...</td>\n",
       "      <td>...</td>\n",
       "      <td>...</td>\n",
       "      <td>...</td>\n",
       "      <td>...</td>\n",
       "      <td>...</td>\n",
       "      <td>...</td>\n",
       "      <td>...</td>\n",
       "      <td>...</td>\n",
       "      <td>...</td>\n",
       "      <td>...</td>\n",
       "    </tr>\n",
       "    <tr>\n",
       "      <th>169</th>\n",
       "      <td>up</td>\n",
       "      <td>0.418719</td>\n",
       "      <td>0.222083</td>\n",
       "      <td>-0.313193</td>\n",
       "      <td>0.433868</td>\n",
       "      <td>0.201831</td>\n",
       "      <td>-0.368323</td>\n",
       "      <td>0.441963</td>\n",
       "      <td>0.200779</td>\n",
       "      <td>-0.368453</td>\n",
       "      <td>...</td>\n",
       "      <td>0.315944</td>\n",
       "      <td>0.583012</td>\n",
       "      <td>0.912450</td>\n",
       "      <td>0.793071</td>\n",
       "      <td>0.465429</td>\n",
       "      <td>0.974310</td>\n",
       "      <td>0.118209</td>\n",
       "      <td>0.431136</td>\n",
       "      <td>0.918985</td>\n",
       "      <td>0.736210</td>\n",
       "    </tr>\n",
       "    <tr>\n",
       "      <th>170</th>\n",
       "      <td>up</td>\n",
       "      <td>0.417949</td>\n",
       "      <td>0.223467</td>\n",
       "      <td>-0.334947</td>\n",
       "      <td>0.433440</td>\n",
       "      <td>0.202476</td>\n",
       "      <td>-0.385015</td>\n",
       "      <td>0.441626</td>\n",
       "      <td>0.201652</td>\n",
       "      <td>-0.385079</td>\n",
       "      <td>...</td>\n",
       "      <td>0.296571</td>\n",
       "      <td>0.582908</td>\n",
       "      <td>0.911737</td>\n",
       "      <td>0.873065</td>\n",
       "      <td>0.466349</td>\n",
       "      <td>0.974762</td>\n",
       "      <td>0.093333</td>\n",
       "      <td>0.430807</td>\n",
       "      <td>0.917208</td>\n",
       "      <td>0.827712</td>\n",
       "    </tr>\n",
       "    <tr>\n",
       "      <th>171</th>\n",
       "      <td>up</td>\n",
       "      <td>0.412510</td>\n",
       "      <td>0.223989</td>\n",
       "      <td>-0.291635</td>\n",
       "      <td>0.428537</td>\n",
       "      <td>0.202525</td>\n",
       "      <td>-0.348413</td>\n",
       "      <td>0.436902</td>\n",
       "      <td>0.201761</td>\n",
       "      <td>-0.348515</td>\n",
       "      <td>...</td>\n",
       "      <td>0.316789</td>\n",
       "      <td>0.580554</td>\n",
       "      <td>0.908953</td>\n",
       "      <td>0.890808</td>\n",
       "      <td>0.468755</td>\n",
       "      <td>0.974856</td>\n",
       "      <td>0.124032</td>\n",
       "      <td>0.430426</td>\n",
       "      <td>0.916401</td>\n",
       "      <td>0.851172</td>\n",
       "    </tr>\n",
       "    <tr>\n",
       "      <th>172</th>\n",
       "      <td>down</td>\n",
       "      <td>0.428518</td>\n",
       "      <td>0.216709</td>\n",
       "      <td>-0.436952</td>\n",
       "      <td>0.442911</td>\n",
       "      <td>0.196730</td>\n",
       "      <td>-0.481849</td>\n",
       "      <td>0.451650</td>\n",
       "      <td>0.195144</td>\n",
       "      <td>-0.481834</td>\n",
       "      <td>...</td>\n",
       "      <td>0.323589</td>\n",
       "      <td>0.593616</td>\n",
       "      <td>0.917551</td>\n",
       "      <td>0.792432</td>\n",
       "      <td>0.446800</td>\n",
       "      <td>0.966601</td>\n",
       "      <td>0.143051</td>\n",
       "      <td>0.434976</td>\n",
       "      <td>0.911883</td>\n",
       "      <td>0.728988</td>\n",
       "    </tr>\n",
       "    <tr>\n",
       "      <th>173</th>\n",
       "      <td>down</td>\n",
       "      <td>0.430910</td>\n",
       "      <td>0.216741</td>\n",
       "      <td>-0.404971</td>\n",
       "      <td>0.444954</td>\n",
       "      <td>0.196747</td>\n",
       "      <td>-0.453643</td>\n",
       "      <td>0.453304</td>\n",
       "      <td>0.195182</td>\n",
       "      <td>-0.453614</td>\n",
       "      <td>...</td>\n",
       "      <td>0.293268</td>\n",
       "      <td>0.594058</td>\n",
       "      <td>0.912063</td>\n",
       "      <td>0.792325</td>\n",
       "      <td>0.449586</td>\n",
       "      <td>0.966224</td>\n",
       "      <td>0.109846</td>\n",
       "      <td>0.433882</td>\n",
       "      <td>0.910014</td>\n",
       "      <td>0.727908</td>\n",
       "    </tr>\n",
       "  </tbody>\n",
       "</table>\n",
       "<p>174 rows × 100 columns</p>\n",
       "</div>"
      ],
      "text/plain": [
       "    label        x0        y0        z0        x1        y1        z1  \\\n",
       "0      up  0.426571  0.214998 -0.259948  0.440606  0.193401 -0.316927   \n",
       "1      up  0.425828  0.215802 -0.276306  0.440624  0.193631 -0.332717   \n",
       "2      up  0.425968  0.215754 -0.309926  0.441250  0.193694 -0.361082   \n",
       "3      up  0.426295  0.215507 -0.301083  0.442142  0.193600 -0.356660   \n",
       "4      up  0.427843  0.214164 -0.288749  0.443481  0.192895 -0.343560   \n",
       "..    ...       ...       ...       ...       ...       ...       ...   \n",
       "169    up  0.418719  0.222083 -0.313193  0.433868  0.201831 -0.368323   \n",
       "170    up  0.417949  0.223467 -0.334947  0.433440  0.202476 -0.385015   \n",
       "171    up  0.412510  0.223989 -0.291635  0.428537  0.202525 -0.348413   \n",
       "172  down  0.428518  0.216709 -0.436952  0.442911  0.196730 -0.481849   \n",
       "173  down  0.430910  0.216741 -0.404971  0.444954  0.196747 -0.453643   \n",
       "\n",
       "           x2        y2        z2  ...       z29       x30       y30  \\\n",
       "0    0.449129  0.192279 -0.316975  ...  0.218229  0.572386  0.897916   \n",
       "1    0.449338  0.192479 -0.332786  ...  0.206901  0.572074  0.899050   \n",
       "2    0.450385  0.192567 -0.361103  ...  0.205680  0.571257  0.900213   \n",
       "3    0.451451  0.192478 -0.356658  ...  0.162253  0.571168  0.899703   \n",
       "4    0.452862  0.191801 -0.343511  ...  0.170714  0.572065  0.897039   \n",
       "..        ...       ...       ...  ...       ...       ...       ...   \n",
       "169  0.441963  0.200779 -0.368453  ...  0.315944  0.583012  0.912450   \n",
       "170  0.441626  0.201652 -0.385079  ...  0.296571  0.582908  0.911737   \n",
       "171  0.436902  0.201761 -0.348515  ...  0.316789  0.580554  0.908953   \n",
       "172  0.451650  0.195144 -0.481834  ...  0.323589  0.593616  0.917551   \n",
       "173  0.453304  0.195182 -0.453614  ...  0.293268  0.594058  0.912063   \n",
       "\n",
       "          z30       x31       y31       z31       x32       y32       z32  \n",
       "0    0.713901  0.457626  0.966933  0.013123  0.424350  0.903602  0.654988  \n",
       "1    0.741048  0.458160  0.965015 -0.008078  0.424455  0.901409  0.681464  \n",
       "2    0.771678  0.458286  0.966906 -0.015116  0.423553  0.901763  0.702308  \n",
       "3    0.743235  0.457676  0.968467 -0.067917  0.423455  0.901620  0.667242  \n",
       "4    0.712349  0.456434  0.967925 -0.062189  0.424317  0.901071  0.633370  \n",
       "..        ...       ...       ...       ...       ...       ...       ...  \n",
       "169  0.793071  0.465429  0.974310  0.118209  0.431136  0.918985  0.736210  \n",
       "170  0.873065  0.466349  0.974762  0.093333  0.430807  0.917208  0.827712  \n",
       "171  0.890808  0.468755  0.974856  0.124032  0.430426  0.916401  0.851172  \n",
       "172  0.792432  0.446800  0.966601  0.143051  0.434976  0.911883  0.728988  \n",
       "173  0.792325  0.449586  0.966224  0.109846  0.433882  0.910014  0.727908  \n",
       "\n",
       "[174 rows x 100 columns]"
      ]
     },
     "execution_count": 44,
     "metadata": {},
     "output_type": "execute_result"
    }
   ],
   "source": [
    "# Read the data from a csv\n",
    "landmarks_df = pd.read_csv(output_input_csv_filename)\n",
    "landmarks_df"
   ]
  },
  {
   "cell_type": "code",
   "execution_count": 45,
   "id": "d1573c39",
   "metadata": {},
   "outputs": [
    {
     "data": {
      "text/plain": [
       "up      88\n",
       "down    86\n",
       "Name: label, dtype: int64"
      ]
     },
     "execution_count": 45,
     "metadata": {},
     "output_type": "execute_result"
    }
   ],
   "source": [
    "landmarks_df['label'].value_counts()"
   ]
  },
  {
   "cell_type": "markdown",
   "id": "c72488e6",
   "metadata": {},
   "source": [
    "# 2. Train & Evaluate Models"
   ]
  },
  {
   "cell_type": "code",
   "execution_count": 46,
   "id": "3dfd3f5f",
   "metadata": {},
   "outputs": [],
   "source": [
    "model_scores = [] # Used for comparing different model's scores\n",
    "\n",
    "def evaluate_model(model_name, prediction, display_matrix=False):\n",
    "    acc = metrics.accuracy_score(y_test, prediction)\n",
    "    f1 = f1_score(y_test, prediction, average='micro')\n",
    "    precision = precision_score(y_test, prediction, average='macro')\n",
    "    recall = recall_score(y_test, prediction, average='macro')\n",
    "\n",
    "    model_metrics = {'Classifier': model_name, \n",
    "                     'Accuracy': acc, \n",
    "                     'Precision': precision, \n",
    "                     'Recall': recall,\n",
    "                     'F1 Score': f1}\n",
    "\n",
    "    if display_matrix:\n",
    "        labels= ['up', 'down']\n",
    "        cm = confusion_matrix(y_test, prediction, labels=labels)\n",
    "        disp = ConfusionMatrixDisplay(confusion_matrix=cm, display_labels=labels)\n",
    "        disp.plot()\n",
    "        plt.title(model_name)\n",
    "        plt.show()\n",
    "    \n",
    "    return model_metrics"
   ]
  },
  {
   "cell_type": "code",
   "execution_count": 47,
   "id": "898916e4",
   "metadata": {},
   "outputs": [
    {
     "name": "stdout",
     "output_type": "stream",
     "text": [
      "(116, 99) (116,) (58, 99) (58,)\n"
     ]
    }
   ],
   "source": [
    "model_scores = [] # Used for comparing different model's scores\n",
    "\n",
    "# Setup the testing and training sets\n",
    "X = landmarks_df.drop('label', axis=1)\n",
    "y = landmarks_df['label']\n",
    "\n",
    "X_train, X_test, y_train, y_test = train_test_split(X, y, test_size=0.33, random_state=42)\n",
    "print(X_train.shape, y_train.shape, X_test.shape, y_test.shape)"
   ]
  },
  {
   "cell_type": "markdown",
   "id": "e8634b12",
   "metadata": {},
   "source": [
    "## Feature Extraction"
   ]
  },
  {
   "attachments": {
    "landmarks.png": {
     "image/png": "[encoded data removed]"
    }
   },
   "cell_type": "markdown",
   "id": "110b8d5a",
   "metadata": {},
   "source": [
    "![landmarks.png](attachment:landmarks.png)"
   ]
  },
  {
   "cell_type": "code",
   "execution_count": 48,
   "id": "ca0d3b9e",
   "metadata": {},
   "outputs": [],
   "source": [
    "# Get the angle between 3 keypoint's coordinates\n",
    "# INPUT: frame (dictonary storing the coordinates of all the keypoints), the keypoint numbers\n",
    "# OUTPUT: angle as float\n",
    "def get_angle(frame, keypoint_1, keypoint_2, keypoint_3):\n",
    "    a = np.array([frame['x'+str(keypoint_1)], frame['y'+str(keypoint_1)]]) # First\n",
    "    b = np.array([frame['x'+str(keypoint_2)], frame['y'+str(keypoint_2)]]) # Mid\n",
    "    c = np.array([frame['x'+str(keypoint_3)], frame['y'+str(keypoint_3)]]) # End\n",
    "    \n",
    "    ba = a - b\n",
    "    bc = c - b\n",
    "    \n",
    "    cosine_angle = np.dot(ba, bc) / (np.linalg.norm(ba) * np.linalg.norm(bc))\n",
    "    angle = math.degrees(np.arccos(cosine_angle))\n",
    "    \n",
    "    if angle > 180.0:\n",
    "        angle = 360 - angle\n",
    "        \n",
    "    return angle"
   ]
  },
  {
   "cell_type": "code",
   "execution_count": 49,
   "id": "4b74d529",
   "metadata": {},
   "outputs": [],
   "source": [
    "landmarks_df['bicep_angle'] = landmarks_df.apply(lambda row: get_angle(row, 11, 13, 15), axis=1)"
   ]
  },
  {
   "cell_type": "code",
   "execution_count": 50,
   "id": "371d94f9",
   "metadata": {},
   "outputs": [
    {
     "data": {
      "text/html": [
       "<div>\n",
       "<style scoped>\n",
       "    .dataframe tbody tr th:only-of-type {\n",
       "        vertical-align: middle;\n",
       "    }\n",
       "\n",
       "    .dataframe tbody tr th {\n",
       "        vertical-align: top;\n",
       "    }\n",
       "\n",
       "    .dataframe thead th {\n",
       "        text-align: right;\n",
       "    }\n",
       "</style>\n",
       "<table border=\"1\" class=\"dataframe\">\n",
       "  <thead>\n",
       "    <tr style=\"text-align: right;\">\n",
       "      <th></th>\n",
       "      <th>label</th>\n",
       "      <th>x0</th>\n",
       "      <th>y0</th>\n",
       "      <th>z0</th>\n",
       "      <th>x1</th>\n",
       "      <th>y1</th>\n",
       "      <th>z1</th>\n",
       "      <th>x2</th>\n",
       "      <th>y2</th>\n",
       "      <th>z2</th>\n",
       "      <th>...</th>\n",
       "      <th>x30</th>\n",
       "      <th>y30</th>\n",
       "      <th>z30</th>\n",
       "      <th>x31</th>\n",
       "      <th>y31</th>\n",
       "      <th>z31</th>\n",
       "      <th>x32</th>\n",
       "      <th>y32</th>\n",
       "      <th>z32</th>\n",
       "      <th>bicep_angle</th>\n",
       "    </tr>\n",
       "  </thead>\n",
       "  <tbody>\n",
       "    <tr>\n",
       "      <th>0</th>\n",
       "      <td>up</td>\n",
       "      <td>0.426571</td>\n",
       "      <td>0.214998</td>\n",
       "      <td>-0.259948</td>\n",
       "      <td>0.440606</td>\n",
       "      <td>0.193401</td>\n",
       "      <td>-0.316927</td>\n",
       "      <td>0.449129</td>\n",
       "      <td>0.192279</td>\n",
       "      <td>-0.316975</td>\n",
       "      <td>...</td>\n",
       "      <td>0.572386</td>\n",
       "      <td>0.897916</td>\n",
       "      <td>0.713901</td>\n",
       "      <td>0.457626</td>\n",
       "      <td>0.966933</td>\n",
       "      <td>0.013123</td>\n",
       "      <td>0.424350</td>\n",
       "      <td>0.903602</td>\n",
       "      <td>0.654988</td>\n",
       "      <td>64.403576</td>\n",
       "    </tr>\n",
       "    <tr>\n",
       "      <th>1</th>\n",
       "      <td>up</td>\n",
       "      <td>0.425828</td>\n",
       "      <td>0.215802</td>\n",
       "      <td>-0.276306</td>\n",
       "      <td>0.440624</td>\n",
       "      <td>0.193631</td>\n",
       "      <td>-0.332717</td>\n",
       "      <td>0.449338</td>\n",
       "      <td>0.192479</td>\n",
       "      <td>-0.332786</td>\n",
       "      <td>...</td>\n",
       "      <td>0.572074</td>\n",
       "      <td>0.899050</td>\n",
       "      <td>0.741048</td>\n",
       "      <td>0.458160</td>\n",
       "      <td>0.965015</td>\n",
       "      <td>-0.008078</td>\n",
       "      <td>0.424455</td>\n",
       "      <td>0.901409</td>\n",
       "      <td>0.681464</td>\n",
       "      <td>55.847749</td>\n",
       "    </tr>\n",
       "    <tr>\n",
       "      <th>2</th>\n",
       "      <td>up</td>\n",
       "      <td>0.425968</td>\n",
       "      <td>0.215754</td>\n",
       "      <td>-0.309926</td>\n",
       "      <td>0.441250</td>\n",
       "      <td>0.193694</td>\n",
       "      <td>-0.361082</td>\n",
       "      <td>0.450385</td>\n",
       "      <td>0.192567</td>\n",
       "      <td>-0.361103</td>\n",
       "      <td>...</td>\n",
       "      <td>0.571257</td>\n",
       "      <td>0.900213</td>\n",
       "      <td>0.771678</td>\n",
       "      <td>0.458286</td>\n",
       "      <td>0.966906</td>\n",
       "      <td>-0.015116</td>\n",
       "      <td>0.423553</td>\n",
       "      <td>0.901763</td>\n",
       "      <td>0.702308</td>\n",
       "      <td>57.072224</td>\n",
       "    </tr>\n",
       "    <tr>\n",
       "      <th>3</th>\n",
       "      <td>up</td>\n",
       "      <td>0.426295</td>\n",
       "      <td>0.215507</td>\n",
       "      <td>-0.301083</td>\n",
       "      <td>0.442142</td>\n",
       "      <td>0.193600</td>\n",
       "      <td>-0.356660</td>\n",
       "      <td>0.451451</td>\n",
       "      <td>0.192478</td>\n",
       "      <td>-0.356658</td>\n",
       "      <td>...</td>\n",
       "      <td>0.571168</td>\n",
       "      <td>0.899703</td>\n",
       "      <td>0.743235</td>\n",
       "      <td>0.457676</td>\n",
       "      <td>0.968467</td>\n",
       "      <td>-0.067917</td>\n",
       "      <td>0.423455</td>\n",
       "      <td>0.901620</td>\n",
       "      <td>0.667242</td>\n",
       "      <td>57.763586</td>\n",
       "    </tr>\n",
       "    <tr>\n",
       "      <th>4</th>\n",
       "      <td>up</td>\n",
       "      <td>0.427843</td>\n",
       "      <td>0.214164</td>\n",
       "      <td>-0.288749</td>\n",
       "      <td>0.443481</td>\n",
       "      <td>0.192895</td>\n",
       "      <td>-0.343560</td>\n",
       "      <td>0.452862</td>\n",
       "      <td>0.191801</td>\n",
       "      <td>-0.343511</td>\n",
       "      <td>...</td>\n",
       "      <td>0.572065</td>\n",
       "      <td>0.897039</td>\n",
       "      <td>0.712349</td>\n",
       "      <td>0.456434</td>\n",
       "      <td>0.967925</td>\n",
       "      <td>-0.062189</td>\n",
       "      <td>0.424317</td>\n",
       "      <td>0.901071</td>\n",
       "      <td>0.633370</td>\n",
       "      <td>59.976106</td>\n",
       "    </tr>\n",
       "  </tbody>\n",
       "</table>\n",
       "<p>5 rows × 101 columns</p>\n",
       "</div>"
      ],
      "text/plain": [
       "  label        x0        y0        z0        x1        y1        z1        x2  \\\n",
       "0    up  0.426571  0.214998 -0.259948  0.440606  0.193401 -0.316927  0.449129   \n",
       "1    up  0.425828  0.215802 -0.276306  0.440624  0.193631 -0.332717  0.449338   \n",
       "2    up  0.425968  0.215754 -0.309926  0.441250  0.193694 -0.361082  0.450385   \n",
       "3    up  0.426295  0.215507 -0.301083  0.442142  0.193600 -0.356660  0.451451   \n",
       "4    up  0.427843  0.214164 -0.288749  0.443481  0.192895 -0.343560  0.452862   \n",
       "\n",
       "         y2        z2  ...       x30       y30       z30       x31       y31  \\\n",
       "0  0.192279 -0.316975  ...  0.572386  0.897916  0.713901  0.457626  0.966933   \n",
       "1  0.192479 -0.332786  ...  0.572074  0.899050  0.741048  0.458160  0.965015   \n",
       "2  0.192567 -0.361103  ...  0.571257  0.900213  0.771678  0.458286  0.966906   \n",
       "3  0.192478 -0.356658  ...  0.571168  0.899703  0.743235  0.457676  0.968467   \n",
       "4  0.191801 -0.343511  ...  0.572065  0.897039  0.712349  0.456434  0.967925   \n",
       "\n",
       "        z31       x32       y32       z32  bicep_angle  \n",
       "0  0.013123  0.424350  0.903602  0.654988    64.403576  \n",
       "1 -0.008078  0.424455  0.901409  0.681464    55.847749  \n",
       "2 -0.015116  0.423553  0.901763  0.702308    57.072224  \n",
       "3 -0.067917  0.423455  0.901620  0.667242    57.763586  \n",
       "4 -0.062189  0.424317  0.901071  0.633370    59.976106  \n",
       "\n",
       "[5 rows x 101 columns]"
      ]
     },
     "execution_count": 50,
     "metadata": {},
     "output_type": "execute_result"
    }
   ],
   "source": [
    "landmarks_df.head()"
   ]
  },
  {
   "cell_type": "code",
   "execution_count": 51,
   "id": "7d891d42",
   "metadata": {},
   "outputs": [
    {
     "name": "stdout",
     "output_type": "stream",
     "text": [
      "(116, 1) (116,) (58, 1) (58,)\n"
     ]
    }
   ],
   "source": [
    "landmarks_df = landmarks_df.filter(['bicep_angle', 'label'])\n",
    "\n",
    "# Setup the testing and training sets\n",
    "X = landmarks_df.drop('label', axis=1)\n",
    "y = landmarks_df['label']\n",
    "\n",
    "X_train, X_test, y_train, y_test = train_test_split(X, y, test_size=0.33, random_state=42)\n",
    "print(X_train.shape, y_train.shape, X_test.shape, y_test.shape)"
   ]
  },
  {
   "cell_type": "code",
   "execution_count": 52,
   "id": "2182e56a",
   "metadata": {},
   "outputs": [
    {
     "data": {
      "text/html": [
       "<div>\n",
       "<style scoped>\n",
       "    .dataframe tbody tr th:only-of-type {\n",
       "        vertical-align: middle;\n",
       "    }\n",
       "\n",
       "    .dataframe tbody tr th {\n",
       "        vertical-align: top;\n",
       "    }\n",
       "\n",
       "    .dataframe thead th {\n",
       "        text-align: right;\n",
       "    }\n",
       "</style>\n",
       "<table border=\"1\" class=\"dataframe\">\n",
       "  <thead>\n",
       "    <tr style=\"text-align: right;\">\n",
       "      <th></th>\n",
       "      <th>bicep_angle</th>\n",
       "    </tr>\n",
       "  </thead>\n",
       "  <tbody>\n",
       "    <tr>\n",
       "      <th>96</th>\n",
       "      <td>174.488689</td>\n",
       "    </tr>\n",
       "    <tr>\n",
       "      <th>68</th>\n",
       "      <td>115.296633</td>\n",
       "    </tr>\n",
       "    <tr>\n",
       "      <th>167</th>\n",
       "      <td>161.095809</td>\n",
       "    </tr>\n",
       "    <tr>\n",
       "      <th>11</th>\n",
       "      <td>61.520448</td>\n",
       "    </tr>\n",
       "    <tr>\n",
       "      <th>97</th>\n",
       "      <td>167.475936</td>\n",
       "    </tr>\n",
       "    <tr>\n",
       "      <th>...</th>\n",
       "      <td>...</td>\n",
       "    </tr>\n",
       "    <tr>\n",
       "      <th>71</th>\n",
       "      <td>142.813936</td>\n",
       "    </tr>\n",
       "    <tr>\n",
       "      <th>106</th>\n",
       "      <td>133.883168</td>\n",
       "    </tr>\n",
       "    <tr>\n",
       "      <th>14</th>\n",
       "      <td>62.061616</td>\n",
       "    </tr>\n",
       "    <tr>\n",
       "      <th>92</th>\n",
       "      <td>58.052667</td>\n",
       "    </tr>\n",
       "    <tr>\n",
       "      <th>102</th>\n",
       "      <td>56.946946</td>\n",
       "    </tr>\n",
       "  </tbody>\n",
       "</table>\n",
       "<p>116 rows × 1 columns</p>\n",
       "</div>"
      ],
      "text/plain": [
       "     bicep_angle\n",
       "96    174.488689\n",
       "68    115.296633\n",
       "167   161.095809\n",
       "11     61.520448\n",
       "97    167.475936\n",
       "..           ...\n",
       "71    142.813936\n",
       "106   133.883168\n",
       "14     62.061616\n",
       "92     58.052667\n",
       "102    56.946946\n",
       "\n",
       "[116 rows x 1 columns]"
      ]
     },
     "execution_count": 52,
     "metadata": {},
     "output_type": "execute_result"
    }
   ],
   "source": [
    "X_train"
   ]
  },
  {
   "cell_type": "markdown",
   "id": "0c81e426",
   "metadata": {},
   "source": [
    "Trying to extract the angles seems to make the LinearSVC model perform worse."
   ]
  },
  {
   "cell_type": "markdown",
   "id": "23a5258a",
   "metadata": {},
   "source": [
    "## Models"
   ]
  },
  {
   "cell_type": "markdown",
   "id": "3fb0c56f",
   "metadata": {},
   "source": [
    "### Linear SVC"
   ]
  },
  {
   "cell_type": "code",
   "execution_count": 53,
   "id": "ca9329d5",
   "metadata": {},
   "outputs": [
    {
     "data": {
      "image/png": "[encoded data removed]",
      "text/plain": [
       "<Figure size 432x288 with 2 Axes>"
      ]
     },
     "metadata": {
      "needs_background": "light"
     },
     "output_type": "display_data"
    },
    {
     "name": "stdout",
     "output_type": "stream",
     "text": [
      "{'Classifier': 'LinearSVC', 'Accuracy': 1.0, 'Precision': 1.0, 'Recall': 1.0, 'F1 Score': 1.0}\n"
     ]
    }
   ],
   "source": [
    "svc_model = make_pipeline(StandardScaler(), LinearSVC(random_state=1, tol=1e-5)).fit(X_train, y_train)\n",
    "y_pred = svc_model.predict(X_test)\n",
    "\n",
    "scores = evaluate_model('LinearSVC', y_pred, True)\n",
    "model_scores.append(scores)\n",
    "print(scores)"
   ]
  },
  {
   "cell_type": "code",
   "execution_count": 54,
   "id": "a0d0ecdc",
   "metadata": {},
   "outputs": [
    {
     "data": {
      "text/plain": [
       "['svc-bicep-curl-phases.joblib']"
      ]
     },
     "execution_count": 54,
     "metadata": {},
     "output_type": "execute_result"
    }
   ],
   "source": [
    "dump(svc_model, 'svc-bicep-curl-phases.joblib') # Export model"
   ]
  },
  {
   "cell_type": "markdown",
   "id": "dcf1412c",
   "metadata": {},
   "source": [
    "### K-Nearest Neighbours"
   ]
  },
  {
   "cell_type": "code",
   "execution_count": 55,
   "id": "41c0bd0e",
   "metadata": {},
   "outputs": [
    {
     "data": {
      "image/png": "[encoded data removed]",
      "text/plain": [
       "<Figure size 720x360 with 1 Axes>"
      ]
     },
     "metadata": {
      "needs_background": "light"
     },
     "output_type": "display_data"
    }
   ],
   "source": [
    "# Find K value with lowest error\n",
    "error_rate = []\n",
    "for i in range(1,35):\n",
    "    knn = KNeighborsClassifier(n_neighbors=i)\n",
    "    knn.fit(X_train,y_train)\n",
    "    pred_i = knn.predict(X_test)\n",
    "    error_rate.append(np.mean(pred_i != y_test))\n",
    "    \n",
    "plt.figure(figsize=(10,5))\n",
    "plt.plot(range(1,35),error_rate,color='blue', linestyle='dashed', marker='o',\n",
    "         markerfacecolor='red', markersize=10)\n",
    "plt.title('Error Rate vs. K Value')\n",
    "plt.xlabel('K')\n",
    "plt.ylabel('Error Rate')\n",
    "plt.show()"
   ]
  },
  {
   "cell_type": "code",
   "execution_count": 56,
   "id": "98ee41b2",
   "metadata": {},
   "outputs": [
    {
     "data": {
      "image/png": "[encoded data removed]",
      "text/plain": [
       "<Figure size 432x288 with 2 Axes>"
      ]
     },
     "metadata": {
      "needs_background": "light"
     },
     "output_type": "display_data"
    },
    {
     "name": "stdout",
     "output_type": "stream",
     "text": [
      "{'Classifier': 'KNN', 'Accuracy': 1.0, 'Precision': 1.0, 'Recall': 1.0, 'F1 Score': 1.0}\n"
     ]
    }
   ],
   "source": [
    "knc_model = KNeighborsClassifier(1).fit(X_train, y_train)\n",
    "y_pred = knc_model.predict(X_test)\n",
    "scores = evaluate_model('KNN', y_pred, True)\n",
    "model_scores.append(scores)\n",
    "print(scores)"
   ]
  },
  {
   "cell_type": "code",
   "execution_count": 57,
   "id": "1d3658ba",
   "metadata": {},
   "outputs": [
    {
     "data": {
      "text/plain": [
       "['knc-bicep-curl-phases.joblib']"
      ]
     },
     "execution_count": 57,
     "metadata": {},
     "output_type": "execute_result"
    }
   ],
   "source": [
    "dump(knc_model, 'knc-bicep-curl-phases.joblib') # Export model"
   ]
  },
  {
   "cell_type": "markdown",
   "id": "aea617c5",
   "metadata": {},
   "source": [
    "### Neural Network"
   ]
  },
  {
   "cell_type": "code",
   "execution_count": 58,
   "id": "cb6388df",
   "metadata": {},
   "outputs": [
    {
     "name": "stderr",
     "output_type": "stream",
     "text": [
      "C:\\Users\\abid5.000\\anaconda3\\lib\\site-packages\\sklearn\\neural_network\\_multilayer_perceptron.py:614: ConvergenceWarning: Stochastic Optimizer: Maximum iterations (200) reached and the optimization hasn't converged yet.\n",
      "  warnings.warn(\n"
     ]
    },
    {
     "data": {
      "image/png": "[encoded data removed]",
      "text/plain": [
       "<Figure size 432x288 with 2 Axes>"
      ]
     },
     "metadata": {
      "needs_background": "light"
     },
     "output_type": "display_data"
    },
    {
     "name": "stdout",
     "output_type": "stream",
     "text": [
      "{'Classifier': 'Neural Network', 'Accuracy': 1.0, 'Precision': 1.0, 'Recall': 1.0, 'F1 Score': 1.0}\n"
     ]
    }
   ],
   "source": [
    "from sklearn.neural_network import MLPClassifier\n",
    "mlp_clf = MLPClassifier(activation='relu',\n",
    "                        learning_rate='adaptive',\n",
    "                        hidden_layer_sizes=(100),\n",
    "                        learning_rate_init=0.01,\n",
    "                        random_state=1)\n",
    "\n",
    "mlp_model = mlp_clf.fit(X_train, y_train)\n",
    "\n",
    "y_pred = mlp_model.predict(X_test)\n",
    "scores = evaluate_model('Neural Network', y_pred, True)\n",
    "model_scores.append(scores)\n",
    "print(scores)"
   ]
  },
  {
   "cell_type": "code",
   "execution_count": 59,
   "id": "91bdddc2",
   "metadata": {},
   "outputs": [
    {
     "data": {
      "text/plain": [
       "['mlp-bicep-curl-phases.joblib']"
      ]
     },
     "execution_count": 59,
     "metadata": {},
     "output_type": "execute_result"
    }
   ],
   "source": [
    "dump(mlp_model, 'mlp-bicep-curl-phases.joblib') # Export model"
   ]
  },
  {
   "cell_type": "markdown",
   "id": "ef8bdcd9",
   "metadata": {},
   "source": [
    "### Naive Bayes"
   ]
  },
  {
   "cell_type": "code",
   "execution_count": 60,
   "id": "cebd4d93",
   "metadata": {},
   "outputs": [
    {
     "data": {
      "image/png": "[encoded data removed]",
      "text/plain": [
       "<Figure size 432x288 with 2 Axes>"
      ]
     },
     "metadata": {
      "needs_background": "light"
     },
     "output_type": "display_data"
    },
    {
     "name": "stdout",
     "output_type": "stream",
     "text": [
      "{'Classifier': 'GaussianNB', 'Accuracy': 1.0, 'Precision': 1.0, 'Recall': 1.0, 'F1 Score': 1.0}\n"
     ]
    }
   ],
   "source": [
    "gnb_model = GaussianNB()\n",
    "y_pred = gnb_model.fit(X_train, y_train).predict(X_test)\n",
    "\n",
    "scores = evaluate_model('GaussianNB', y_pred, True)\n",
    "\n",
    "model_scores.append(scores)\n",
    "print(scores)"
   ]
  },
  {
   "cell_type": "code",
   "execution_count": 61,
   "id": "8031f4a6",
   "metadata": {},
   "outputs": [
    {
     "data": {
      "text/plain": [
       "['gnb-bicep-curl-phases.joblib']"
      ]
     },
     "execution_count": 61,
     "metadata": {},
     "output_type": "execute_result"
    }
   ],
   "source": [
    "dump(gnb_model, 'gnb-bicep-curl-phases.joblib') # Export model"
   ]
  }
 ],
 "metadata": {
  "kernelspec": {
   "display_name": "Python 3",
   "language": "python",
   "name": "python3"
  },
  "language_info": {
   "codemirror_mode": {
    "name": "ipython",
    "version": 3
   },
   "file_extension": ".py",
   "mimetype": "text/x-python",
   "name": "python",
   "nbconvert_exporter": "python",
   "pygments_lexer": "ipython3",
   "version": "3.8.8"
  }
 },
 "nbformat": 4,
 "nbformat_minor": 5
}
